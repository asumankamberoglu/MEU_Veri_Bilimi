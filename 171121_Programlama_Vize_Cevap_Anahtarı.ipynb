{
  "nbformat": 4,
  "nbformat_minor": 0,
  "metadata": {
    "colab": {
      "name": "171121 Programlama Vize Cevap Anahtarı.ipynb",
      "provenance": [],
      "collapsed_sections": []
    },
    "kernelspec": {
      "name": "python3",
      "display_name": "Python 3"
    },
    "language_info": {
      "name": "python"
    }
  },
  "cells": [
    {
      "cell_type": "markdown",
      "metadata": {
        "id": "IUHwttrHcMJ2"
      },
      "source": [
        "**T.C. Mersin Üniversitesi Mühendislik Fakültesi – Harita Mühendisliği Bölümü**\n",
        "\n",
        "2021-2022 Akademik Yılı Güz Dönemi\n",
        "\n",
        "Programlama – Ara Sınavı – 17 Kasım 2021 Çarşamba\n",
        "\n",
        "Dr. Öğr. Üyesi Muzaffer Can İBAN\n",
        "\n",
        "\n"
      ]
    },
    {
      "cell_type": "markdown",
      "metadata": {
        "id": "otXFBg1YckHQ"
      },
      "source": [
        "**Soru 1:** 0'dan 8'e kadar rakamlardan oluşan 3x3'lük bir matris oluşturunuz (5 puan)"
      ]
    },
    {
      "cell_type": "code",
      "metadata": {
        "colab": {
          "base_uri": "https://localhost:8080/"
        },
        "id": "5Bq0BBR0cjH4",
        "outputId": "704d17b7-5aaf-45d2-b041-be3cae269d57"
      },
      "source": [
        "import numpy as np\n",
        "Z = np.arange(9).reshape(3, 3)\n",
        "print(Z)"
      ],
      "execution_count": 8,
      "outputs": [
        {
          "output_type": "stream",
          "name": "stdout",
          "text": [
            "[[0 1 2]\n",
            " [3 4 5]\n",
            " [6 7 8]]\n"
          ]
        }
      ]
    },
    {
      "cell_type": "markdown",
      "metadata": {
        "id": "_B-4sVpJc9Cj"
      },
      "source": [
        "**Soru 2:**\n",
        "\n",
        "a) Rastgele sayılardan oluşan 10x10 boyutlarında bir matris oluşturunuz (5 puan).\n",
        "\n",
        "b) Bu matristeki maksimum, minimum ve ortalama değerleri hesaplayınız (5 puan)."
      ]
    },
    {
      "cell_type": "code",
      "metadata": {
        "colab": {
          "base_uri": "https://localhost:8080/"
        },
        "id": "-M79auLbdUTz",
        "outputId": "c7f7943c-9b1c-4d74-ec87-394748a2e3f0"
      },
      "source": [
        "K = np.random.random((10,10))\n",
        "K_min = np.min(K)\n",
        "K_max = np.max(K)\n",
        "K_ort = np.mean(K)\n",
        "print(K_min, K_max, K_ort)"
      ],
      "execution_count": 9,
      "outputs": [
        {
          "output_type": "stream",
          "name": "stdout",
          "text": [
            "0.00376748695191631 0.9932107230934034 0.4845462290446686\n"
          ]
        }
      ]
    },
    {
      "cell_type": "markdown",
      "metadata": {
        "id": "rttc5G1sdU0-"
      },
      "source": [
        "**Soru 3:**  Aşağıdaki programda gerçekleştirilmek istenen amacı ve sonucu sözlü olarak ifade ediniz (5 puan). "
      ]
    },
    {
      "cell_type": "code",
      "metadata": {
        "colab": {
          "base_uri": "https://localhost:8080/"
        },
        "id": "_tMLXMJsgA-D",
        "outputId": "14aace9f-bda5-4533-c206-babba55989b7"
      },
      "source": [
        "nl=[]\n",
        "for x in range(1600, 2100):\n",
        "    if (x%7==0) and (x%5==0):\n",
        "        nl.append(str(x))\n",
        "print (','.join(nl))"
      ],
      "execution_count": 10,
      "outputs": [
        {
          "output_type": "stream",
          "name": "stdout",
          "text": [
            "1610,1645,1680,1715,1750,1785,1820,1855,1890,1925,1960,1995,2030,2065\n"
          ]
        }
      ]
    },
    {
      "cell_type": "markdown",
      "metadata": {
        "id": "9DnKEHzNgM29"
      },
      "source": [
        "Cevabınızı buraya giriniz: *Programın içerisindeki for döngüsü ile 1600 ile 2100 araındaki tam sayılar seçilmiştir. Seçilen bu tam sayılar, for döngüsü içindeki if ifadesi ile belirli bir şarta tabi tutulmuştur. Bu sayılar hem 7'ye hem de 5'e kalansız bölünüyorsa, bu bu sayılar string formatına çevrilerek tek tek n1 boş listesine eklenmektedir. Eklenen her sayı, liste içinde virgülle ayrılmıştır.*"
      ]
    },
    {
      "cell_type": "markdown",
      "metadata": {
        "id": "pvVm2tJSgV4o"
      },
      "source": [
        "**Soru 4:** Aşağıda bulunan listedeki tüm isimleri, `\"Merhaba! [isim]\"` formatında ekrana veriniz (`for` döngüsünü kullanınız) (10 puan). "
      ]
    },
    {
      "cell_type": "code",
      "metadata": {
        "id": "bq8Ik8Spg6x9"
      },
      "source": [
        "liste = [\"Erdem\", \"Fatih\", \"Ceyda\", \"Sevim\"]"
      ],
      "execution_count": 11,
      "outputs": []
    },
    {
      "cell_type": "code",
      "metadata": {
        "colab": {
          "base_uri": "https://localhost:8080/"
        },
        "id": "mNx95pJHvZVG",
        "outputId": "95bb21c3-536e-48ed-b0a1-0c3219cc3de4"
      },
      "source": [
        "for i in liste:\n",
        "  print(\"Merhaba! \" + i)"
      ],
      "execution_count": 12,
      "outputs": [
        {
          "output_type": "stream",
          "name": "stdout",
          "text": [
            "Merhaba! Erdem\n",
            "Merhaba! Fatih\n",
            "Merhaba! Ceyda\n",
            "Merhaba! Sevim\n"
          ]
        }
      ]
    },
    {
      "cell_type": "markdown",
      "metadata": {
        "id": "xJEF3CMgh8SY"
      },
      "source": [
        "**Soru 5:** Aşağıdaki `liste1` de bulunan sayıların karelerini `liste2` içine aktarıp ekrana veren programı tamamlayınız (`for` döngüsü ve `.append` yöntemini kullanınız) (10 puan)."
      ]
    },
    {
      "cell_type": "code",
      "metadata": {
        "colab": {
          "base_uri": "https://localhost:8080/"
        },
        "id": "zN7qCv3ZigP4",
        "outputId": "fbe5a99b-519d-4c8a-e5b4-197b0d57b257"
      },
      "source": [
        "liste1 = [3,4,5,6,7]\n",
        "liste2 = []\n",
        "# Cevabınızı buraya giriniz.\n",
        "for i in liste1:\n",
        "  liste2.append(i**2)\n",
        "\n",
        "print(liste2)"
      ],
      "execution_count": 13,
      "outputs": [
        {
          "output_type": "stream",
          "name": "stdout",
          "text": [
            "[9, 16, 25, 36, 49]\n"
          ]
        }
      ]
    },
    {
      "cell_type": "markdown",
      "metadata": {
        "id": "bM7d5mE4jAHA"
      },
      "source": [
        "**Soru 6:** Kullanıcının girdiği bir tam sayının, 3'e bölünüp bölünmediğini kullanıcıya gösteren bir program yazınız (10 puan). "
      ]
    },
    {
      "cell_type": "code",
      "metadata": {
        "colab": {
          "base_uri": "https://localhost:8080/"
        },
        "id": "spBe_MMOkAnV",
        "outputId": "754c4436-8af1-42bb-92a6-f9658bea9614"
      },
      "source": [
        "sayi = int(input(\"Bir sayı giriniz: \"))\n",
        "\n",
        "if sayi%3==0:\n",
        "  print(\"Sayı 3'e bölünebilmektedir\")\n",
        "else:\n",
        "  print(\"Sayı 3'e bölünememektedir\")"
      ],
      "execution_count": 16,
      "outputs": [
        {
          "output_type": "stream",
          "name": "stdout",
          "text": [
            "Bir sayı giriniz: 27\n",
            "Sayı 3'e bölünebilmektedir\n"
          ]
        }
      ]
    },
    {
      "cell_type": "markdown",
      "metadata": {
        "id": "KeeprPgDkA7M"
      },
      "source": [
        "**Soru 7:** Kullanıcının girdiği bir metin ifadesinin ilk harfinin `a` harfi olup olmadığını kullanıcıya sunan bir program yazınız. Kullanıcının girdiği metnin büyük harfle başlaması olasılığına karşı gerekli önlemi alınız (10 puan). "
      ]
    },
    {
      "cell_type": "code",
      "metadata": {
        "colab": {
          "base_uri": "https://localhost:8080/"
        },
        "id": "I27XFILWk_io",
        "outputId": "04238fd2-6f4d-4945-8481-b25ac452f05c"
      },
      "source": [
        "ifade= str(input(\"Metin ifadesi giriniz: \"))\n",
        "if ifade[0].lower()==\"a\":\n",
        "  print(\"İfade a harfi ile başlamaktadır\")\n",
        "else:\n",
        "  print(\"İfade a harfi ile başlamamaktadır\")"
      ],
      "execution_count": 19,
      "outputs": [
        {
          "output_type": "stream",
          "name": "stdout",
          "text": [
            "Metin ifadesi giriniz: Ardahan\n",
            "İfade a harfi ile başlamaktadır\n"
          ]
        }
      ]
    },
    {
      "cell_type": "markdown",
      "metadata": {
        "id": "6hgNEhtonRov"
      },
      "source": [
        "**Soru 8:** Toplu taşınmaz değerleme çalışmalarında, taşınmazın kestirilen değeri ile piyasadaki gerçek değerlerinin tutarlılığını ölçmek için çeşitli ölçütler kullanılır. Bu ölçütlerden biri de **Dağıtım Katsayısı** olarak adlandırılan **COD** ölçütüdür. COD ölçütünün formülü aşağıdaki gibidir.\n",
        "\n",
        "$COD = \\frac{\\frac{\\sum_{i=1}^{n}\\left | R_{i}-\\tilde{R} \\right |}{n}}{\\tilde{R}}*100$\n",
        "\n",
        "Burada $R_{i}$ her bir taşınmazın kestirilen değeri ile piyasadaki gerçek değerinin oranını vermektedir. $\\tilde{R}$ ise bu $R_{i}$ değerlerinin medyanıdır. ${n}$ ise veri setinde kullanılan toplam taşınmaz sayısıdır.\n",
        "\n",
        "Diğer bir ölçüt ise** Kök Karesel Ortalama Hatadır (KKOH)** ve aşağıdaki formülle ifade edilir.\n",
        "\n",
        "$KKOH = \\sqrt{\\frac{\\sum_{i=1}^{n}(y_{i}-\\hat{y}_{i})^{2}}{n}} $\n",
        "\n",
        "Burada $y_{i}$ taşınmazın gerçek değerini, $\\hat{y}_{i}$ ise kestirilen değerini temsil etmektedir.\n",
        "\n",
        "Buna göre aşağıda verilen tablodaki verileri kullanarak, bu taşınmazlar için COD ve KKOH ölçütlerini hesaplayınız (40 puan).\n",
        "\n",
        "| Taşınmaz No     | Gerçek Değeri           | Kestirilen Değer                                                |\n",
        "|--------------|----------------|--------------------------------------------------------|\n",
        "| 01   | 870000       | 875250                             |\n",
        "|02   | 1100000        |1105000                               |\n",
        "| 03   | 956000         | 957200|\n",
        "| 04    | 296000  | 300000                              |\n",
        "| 05   | 645000        | 649000           |\n",
        "\n",
        "\n",
        "\n",
        "\n"
      ]
    },
    {
      "cell_type": "code",
      "metadata": {
        "colab": {
          "base_uri": "https://localhost:8080/"
        },
        "id": "9E7kNZc9t40I",
        "outputId": "204d0f73-b507-4e63-c9c9-f65514cbce00"
      },
      "source": [
        "kestirim = np.array([875250,1105000, 957200, 300000, 649000])\n",
        "gercek = np.array([870000, 1100000, 956000, 296000 , 645000 ])\n",
        "\n",
        "R=kestirim/gercek\n",
        "R_median=np.median(R)\n",
        "COD=np.mean((np.abs(R-R_median))/R_median)*100\n",
        "print(COD)\n",
        "KKOH= np.sqrt(np.mean((gercek-kestirim)**2))\n",
        "print(KKOH)"
      ],
      "execution_count": 24,
      "outputs": [
        {
          "output_type": "stream",
          "name": "stdout",
          "text": [
            "0.2766183360232063\n",
            "4147.348550580238\n"
          ]
        }
      ]
    }
  ]
}