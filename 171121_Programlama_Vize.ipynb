{
  "nbformat": 4,
  "nbformat_minor": 0,
  "metadata": {
    "colab": {
      "name": "171121 Programlama Vize.ipynb",
      "provenance": [],
      "collapsed_sections": []
    },
    "kernelspec": {
      "name": "python3",
      "display_name": "Python 3"
    },
    "language_info": {
      "name": "python"
    }
  },
  "cells": [
    {
      "cell_type": "markdown",
      "metadata": {
        "id": "IUHwttrHcMJ2"
      },
      "source": [
        "**T.C. Mersin Üniversitesi Mühendislik Fakültesi – Harita Mühendisliği Bölümü**\n",
        "\n",
        "2021-2022 Akademik Yılı Güz Dönemi\n",
        "\n",
        "Programlama – Ara Sınavı – 17 Kasım 2021 Çarşamba\n",
        "\n",
        "Dr. Öğr. Üyesi Muzaffer Can İBAN\n",
        "\n",
        "\n"
      ]
    },
    {
      "cell_type": "markdown",
      "metadata": {
        "id": "otXFBg1YckHQ"
      },
      "source": [
        "**Soru 1:** 0'dan 8'e kadar rakamlardan oluşan 3x3'lük bir matris oluşturunuz (5 puan)"
      ]
    },
    {
      "cell_type": "code",
      "metadata": {
        "id": "5Bq0BBR0cjH4"
      },
      "source": [
        ""
      ],
      "execution_count": null,
      "outputs": []
    },
    {
      "cell_type": "markdown",
      "metadata": {
        "id": "_B-4sVpJc9Cj"
      },
      "source": [
        "**Soru 2:**\n",
        "\n",
        "a) Rastgele sayılardan oluşan 10x10 boyutlarında bir matris oluşturunuz (5 puan).\n",
        "\n",
        "b) Bu matristeki maksimum, minimum ve ortalama değerleri hesaplayınız (5 puan)."
      ]
    },
    {
      "cell_type": "code",
      "metadata": {
        "id": "-M79auLbdUTz"
      },
      "source": [
        ""
      ],
      "execution_count": null,
      "outputs": []
    },
    {
      "cell_type": "markdown",
      "metadata": {
        "id": "rttc5G1sdU0-"
      },
      "source": [
        "**Soru 3:**  Aşağıdaki programda gerçekleştirilmek istenen amacı ve sonucu sözlü olarak ifade ediniz (5 puan). "
      ]
    },
    {
      "cell_type": "code",
      "metadata": {
        "colab": {
          "base_uri": "https://localhost:8080/"
        },
        "id": "_tMLXMJsgA-D",
        "outputId": "c70208dd-ae28-42b2-e44d-04f599ae1f34"
      },
      "source": [
        "nl=[]\n",
        "for x in range(1600, 2100):\n",
        "    if (x%7==0) and (x%5==0):\n",
        "        nl.append(str(x))\n",
        "print (','.join(nl))"
      ],
      "execution_count": 2,
      "outputs": [
        {
          "output_type": "stream",
          "name": "stdout",
          "text": [
            "1610,1645,1680,1715,1750,1785,1820,1855,1890,1925,1960,1995,2030,2065\n"
          ]
        }
      ]
    },
    {
      "cell_type": "markdown",
      "metadata": {
        "id": "9DnKEHzNgM29"
      },
      "source": [
        "Cevabınızı buraya giriniz: "
      ]
    },
    {
      "cell_type": "markdown",
      "metadata": {
        "id": "pvVm2tJSgV4o"
      },
      "source": [
        "**Soru 4:** Aşağıda bulunan listedeki tüm isimleri, `\"Merhaba! [isim]\"` formatında ekrana veriniz (`for` döngüsünü kullanınız) (10 puan). "
      ]
    },
    {
      "cell_type": "code",
      "metadata": {
        "id": "bq8Ik8Spg6x9"
      },
      "source": [
        "liste = [\"Erdem\", \"Fatih\", \"Ceyda\", \"Sevim\"]"
      ],
      "execution_count": null,
      "outputs": []
    },
    {
      "cell_type": "markdown",
      "metadata": {
        "id": "xJEF3CMgh8SY"
      },
      "source": [
        "**Soru 5:** Aşağıdaki `liste1` de bulunan sayıların karelerini `liste2` içine aktarıp ekrana veren programı tamamlayınız (`for` döngüsü ve `.append` yöntemini kullanınız) (10 puan)."
      ]
    },
    {
      "cell_type": "code",
      "metadata": {
        "id": "zN7qCv3ZigP4"
      },
      "source": [
        "liste1 = [3,4,5,6,7]\n",
        "liste2 = []\n",
        "# Cevabınızı buraya giriniz.\n",
        "\n",
        "\n",
        "print(liste2)"
      ],
      "execution_count": null,
      "outputs": []
    },
    {
      "cell_type": "markdown",
      "metadata": {
        "id": "bM7d5mE4jAHA"
      },
      "source": [
        "**Soru 6:** Kullanıcının girdiği bir tam sayının, 3'e bölünüp bölünmediğini kullanıcıya gösteren bir program yazınız (10 puan). "
      ]
    },
    {
      "cell_type": "code",
      "metadata": {
        "id": "spBe_MMOkAnV"
      },
      "source": [
        ""
      ],
      "execution_count": null,
      "outputs": []
    },
    {
      "cell_type": "markdown",
      "metadata": {
        "id": "KeeprPgDkA7M"
      },
      "source": [
        "**Soru 7:** Kullanıcının girdiği bir metin ifadesinin ilk harfinin `a` harfi olup olmadığını kullanıcıya sunan bir program yazınız. Kullanıcının girdiği metnin büyük harfle başlaması olasılığına karşı gerekli önlemi alınız (10 puan). "
      ]
    },
    {
      "cell_type": "code",
      "metadata": {
        "id": "I27XFILWk_io"
      },
      "source": [
        ""
      ],
      "execution_count": null,
      "outputs": []
    },
    {
      "cell_type": "markdown",
      "metadata": {
        "id": "6hgNEhtonRov"
      },
      "source": [
        "**Soru 8:** Toplu taşınmaz değerleme çalışmalarında, taşınmazın kestirilen değeri ile piyasadaki gerçek değerlerinin tutarlılığını ölçmek için çeşitli ölçütler kullanılır. Bu ölçütlerden biri de **Dağıtım Katsayısı** olarak adlandırılan **COD** ölçütüdür. COD ölçütünün formülü aşağıdaki gibidir.\n",
        "\n",
        "$COD = \\frac{\\frac{\\sum_{i=1}^{n}\\left | R_{i}-\\tilde{R} \\right |}{n}}{\\tilde{R}}*100$\n",
        "\n",
        "Burada $R_{i}$ her bir taşınmazın kestirilen değeri ile piyasadaki gerçek değerinin oranını vermektedir. $\\tilde{R}$ ise bu $R_{i}$ değerlerinin medyanıdır. ${n}$ ise veri setinde kullanılan toplam taşınmaz sayısıdır.\n",
        "\n",
        "Buna göre aşağıda verilen tablodaki verileri kullanarak, bu taşınmazlar için COD ölçütünü hesaplayınız (40 puan).\n",
        "\n",
        "| Taşınmaz No     | Gerçek Değeri           | Kestirilen Değer                                                |\n",
        "|--------------|----------------|--------------------------------------------------------|\n",
        "| 01   | 870000       | 875250                             |\n",
        "|02   | 1100000        |1105000                               |\n",
        "| 03   | 956000         | 957200|\n",
        "| 04    | 296000  | 300000                              |\n",
        "| 05   | 645000        | 649000           |\n",
        "\n",
        "\n",
        "\n",
        "\n"
      ]
    },
    {
      "cell_type": "code",
      "metadata": {
        "id": "9E7kNZc9t40I"
      },
      "source": [
        ""
      ],
      "execution_count": null,
      "outputs": []
    }
  ]
}