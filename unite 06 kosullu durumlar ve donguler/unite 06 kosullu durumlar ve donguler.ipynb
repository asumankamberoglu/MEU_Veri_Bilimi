{
 "cells": [
  {
   "cell_type": "markdown",
   "metadata": {},
   "source": [
    "# ÜNİTE 6- Koşullu Durumlar ve Döngüler\n",
    "\n",
    "\n",
    "## 1. if Bloğu\n",
    "\n",
    "Yaşamın her anında ve bilgisayar programlarında, bir sonraki eylem her zaman \"eğer\" (İngilizce'de if) ile başlayan bir sorunun cevabına bağlıdır. Bu durum, eylemin sonuçlarının belirli bir kritere bağlı olarak çeşitlilik gösterebileceğini anlatır. \n",
    "\n",
    "Koşullu durumlara giriş yapmak adına, program kullanıcısının girdiği deniz suyu sıcaklığına bağlı olarak, denize girip girmememiz gerektiğini bize sunan küçük bir program yazalım.\n"
   ]
  },
  {
   "cell_type": "code",
   "execution_count": 1,
   "metadata": {},
   "outputs": [
    {
     "name": "stdout",
     "output_type": "stream",
     "text": [
      "Deniz suyu sıcaklığı nedir? 22\n"
     ]
    }
   ],
   "source": [
    "T = float(input(\"Deniz suyu sıcaklığı nedir? \"))\n",
    "if T > 24:\n",
    "    print(\"Harika! Hemen suya atla!\")\n"
   ]
  },
  {
   "cell_type": "markdown",
   "metadata": {},
   "source": [
    "if bloğu koşulun sağlanıp sağlanamadığını araştırır. Eğer if sözcüğünden sonra belirtilen koşul sağlanırsa `(True)` if bloğu çalışır, koşul sağlanmazsa `(False)` if bloğu çalışmaz. Üstteki örnekte görüleceği üzere, Python öncelikle deniz suyu sıcaklığını kullanıcıya sorar. Örnekteki gibi bu değer 25 derece olarak girildiğinde, if sözcüğünden sonra belirtilen `T < 24 `koşulu sağlanacağı için if bloğu çalışır ve program bize hemen suya atlamamızı öneren bir metin gösterir. Şayet kullanıcı 24 dereceden daha küçük bir değer girseydi, koşul sağlanamayacağından if bloğu çalışmaz ve ekranda herhangi bir çıktı göremeyecektik. \n",
    "\n",
    "Bu tek koşula bağlı durum oldukça normaldir. Ancak koşul sağlanamadığında, Python’un bize bir çıktı üretmemesi programlama adına isteyebileceğimiz bir durum değildir. Bu yüzden, deniz suyu sıcaklığının 24 derecenin altında olduğu durumlar için de çıktı üretebilen bir programa gereksinmemiz bulunmaktadır. Programı yeniden düzenleyelim;\n"
   ]
  },
  {
   "cell_type": "code",
   "execution_count": 2,
   "metadata": {},
   "outputs": [
    {
     "name": "stdout",
     "output_type": "stream",
     "text": [
      "Deniz suyu sıcaklığı nedir? 22\n",
      "Suya girme. Çok soğuk!\n"
     ]
    }
   ],
   "source": [
    "T = float(input(\"Deniz suyu sıcaklığı nedir? \"))\n",
    "if T > 24:\n",
    "    print(\"Harika! Hemen suya atla!\")\n",
    "if T <= 24: \n",
    "    print(\"Suya girme. Çok soğuk!\")\n"
   ]
  },
  {
   "cell_type": "markdown",
   "metadata": {},
   "source": [
    "Bu örnekte de görüleceği üzere, Python ilk if bloğundan `False` sonucunu çıkardıktan sonra, ikinci if bloğundaki koşulu denetler. Bu program, ekrana istediğimiz sonuçları vermesine rağmen yine de eksik bir yön barındırmaktadır. İkinci sorgunun `True` çıkacağını önceden bildiğimiz için, bu iki koşullu if bloklarını kullanmak gereksizdir. "
   ]
  },
  {
   "cell_type": "markdown",
   "metadata": {},
   "source": [
    "## 2. if-else Bloğu\n",
    "\n",
    "İki ayrı if bloğu oluşturmak yerine, deniz suyu sıcaklığı örneği için daha mantıklı bir programlama biçimi olan if-else bloğunu kullanalım. "
   ]
  },
  {
   "cell_type": "code",
   "execution_count": 3,
   "metadata": {},
   "outputs": [
    {
     "name": "stdout",
     "output_type": "stream",
     "text": [
      "Deniz suyu sıcaklığı nedir? 22\n",
      "Suya girme. Çok soğuk!\n"
     ]
    }
   ],
   "source": [
    "T = float(input(\"Deniz suyu sıcaklığı nedir? \"))\n",
    "if T > 24: # Koşulu test ediyoruz.\n",
    "    print(\"Harika! Hemen suya atla!\")\n",
    "else:\n",
    "    print(\"Suya girme. Çok soğuk!\")"
   ]
  },
  {
   "cell_type": "markdown",
   "metadata": {},
   "source": [
    "Bu programda `else` sözcüğünü kullanarak, ilk sıradaki  `if` ile başlayan koşulun `False` oluşması ile Python’un hemen `else` sözcüğünden sonra gelen çıktıyı ekrana vermesi sağlanır. Bu sayede, deniz suyu sıcaklığını ikinci bir koşula gerek duymadan denetlemiş oluruz. Buradaki mantık şudur: “Eğer ilk koşul yanlış ise (`False`), diğer koşul mutlaka doğru olmak zorundadır (`True`). \n"
   ]
  },
  {
   "cell_type": "markdown",
   "metadata": {},
   "source": [
    "## 3. if-elif-else Bloğu\n",
    "\n",
    "Üstteki örneklerde deniz suyu sıcaklığı için ya soğuk ya da ılık olduğuna dair, 24 dereceyi eşik kabul eden tek bir koşul kullandık. Ancak gerçek hayatta her zaman tek koşuldan meydana gelen örnekler ile karşılaşmayız. İlk örnekte gerçekleştirdiğimiz 24 derecelik eşiği kullanmayalım. Sıradaki programımız 24 derece sıcaklığın yukarısındaki deniz suyunun yüzme için uygun olduğunu; 20-24 derece aralığındaki deniz suyu sıcaklığına “temkinli olunması” gerektiğini; 20 derece sıcaklığın altı için de “soğuk ve yüzülemez” olduğunu belirtsin. \n"
   ]
  },
  {
   "cell_type": "code",
   "execution_count": 4,
   "metadata": {},
   "outputs": [
    {
     "name": "stdout",
     "output_type": "stream",
     "text": [
      "Deniz suyu sıcaklığı nedir? 22\n",
      "Dikkat et! Önce ayağını sok\n"
     ]
    }
   ],
   "source": [
    "T = float(input(\"Deniz suyu sıcaklığı nedir? \"))\n",
    "if T > 24: # koşul 1\n",
    "    print(\"Harika! Hemen suya atla!\")\n",
    "elif 20 <= T <= 24: # koşul 2\n",
    "    print(\"Dikkat et! Önce ayağını sok\")\n",
    "else:\n",
    "    print(\"Suya girme. Çok soğuk!\")"
   ]
  },
  {
   "cell_type": "markdown",
   "metadata": {},
   "source": [
    "Bu programda görüleceği üzere, if sözcüğünden sonra gelen koşul `False` olarak değerlendirildiği için program otomatik olarak `elif` sözcüğünden sonraki koşulu denetlemeye geçmiştir. `elif` sözcüğünde belirtilen koşul `True` olarak sağlandığı için, program `else` sözcüğüne geçmeden `elif` koşulunun sağlanması durumunda ekrana verilecek olan çıktı program tarafından gösterilmiştir.\n",
    "\n",
    "Bir başka örnek de, öğrencinin başarı puanına göre harf notunun ne olacağına ilişkin sonucu üreten programı yazmakla verelim:"
   ]
  },
  {
   "cell_type": "code",
   "execution_count": 5,
   "metadata": {},
   "outputs": [
    {
     "name": "stdout",
     "output_type": "stream",
     "text": [
      "C\n"
     ]
    }
   ],
   "source": [
    "puan = 77\n",
    "if puan >= 90:\n",
    "    print('A')\n",
    "elif puan >= 80:\n",
    "    print('B')\n",
    "elif puan >= 70:\n",
    "    print('C')\n",
    "elif puan >= 60:\n",
    "    print('D')\n",
    "else:\n",
    "    print('F')"
   ]
  },
  {
   "cell_type": "markdown",
   "metadata": {},
   "source": [
    "Bu örnekte de görüleceği üzere birden fazla `elif` koşulu oluşturulmuştur. Program `True` sonucunu buluncaya kadar çalışmaya devam edecektir. `True` sonucuna eriştiği yerde, program çalışmayı durdurup, o koşulun altında bulunan çıktıyı ekrana verecektir. Başarı puanı örneğinde, 77 alan bir öğrencinin harf notu da `C` olarak ekrana verilecektir. "
   ]
  },
  {
   "cell_type": "markdown",
   "metadata": {},
   "source": [
    "## 4. while Döngüsü\n",
    "\n",
    "if-elif-else bloklarına girilen veri, bu koşul sorgulamasından sadece bir kez geçer. Yani program, girilen veriyi sadece bir kez denetimden geçirir. Ancak bazı durumlarda, girilen veri koşulu sağlayıncaya kadar denetimden geçirilmelidir. Bunun için while döngüsü kullanılır.\n",
    "Örneğin, hata miktarı 50 olsun. Her döngüde hata kendini 4’e bölsün. Hata miktarı 1’den küçük oluncaya kadar döngü devam etsin.\n"
   ]
  },
  {
   "cell_type": "code",
   "execution_count": 6,
   "metadata": {},
   "outputs": [
    {
     "name": "stdout",
     "output_type": "stream",
     "text": [
      "25.0\n",
      "12.5\n",
      "6.25\n",
      "3.125\n",
      "1.5625\n"
     ]
    }
   ],
   "source": [
    "hata = 50.0\n",
    "while hata > 2 :\n",
    "    hata = hata / 2\n",
    "    print(hata)\n",
    "\n"
   ]
  },
  {
   "cell_type": "markdown",
   "metadata": {},
   "source": [
    "İlk turda 50 olan hata miktarı dörde bölünmüş ve ekrana 12.5 sonucu verilmiştir. Sonuç hala 1’den büyüktür. İkinci turda ise 12.5 olan hata miktarı yine 4’e bölünmüş ve 3.125 sonucu ekrana verilmiştir. Yine hata miktarı 1’den büyük olduğu için döngü devam edecektir. Üçüncü turda ise 3.125 olan hata miktarı 4’e bölünerek ekrana 0.78125 verilmiştir. Ancak elde edilen yeni hata miktarı 1’den küçük olduğu için while döngüsü sonlanmıştır. Yeni bir tur olmayacaktır. \n",
    "while döngüsü kullanılırken dikkat edilmesi gereken nokta, belirtilen koşulun (örnekte dörde bölme işlemi) mutlaka bir noktada son bulması gerektiğidir (Diğer bir deyişle, mutlaka bir noktada `False` sonucunu vermelidir). Aksi takdirde, while döngüsü sonsuza kadar çalışmayı gerektirir. Bu da Python derleyicisinde bağlantı problemi oluşturur. \n"
   ]
  },
  {
   "cell_type": "markdown",
   "metadata": {},
   "source": [
    "## 5. for Döngüsü\n",
    "\n",
    "Belirli sayıda bir işlemi yapmak ya da bir işlemi bir dizinin elemanları üzerinde gerçekleştirmek için kullanılan döngüdür. For döngülerinin yazımında, bir değişken ve bu değişkenin ilk elemandan son elemana kadar işlem uyguladığı bir dizi tanımlanmak zorundadır. \n",
    "         \n",
    "         for değişken in dizi:\n",
    "             işlem \n",
    "             \n",
    "Örneğin; bir listedeki tüm elemanların kübünü alabilen bir program oluşturalım. Bu programı yazmadan önce `range() `fonksiyonunu açıklamakta fayda vardır. Bu fonksiyon, içinde belirtilen iki sayı arasında (ikincisini dahil etmeden) bir sayı dizisi oluşturmamıza yarar. Kübünü alacağımız sayı dizisi (2,3,4,5) olsun. Bunu oluşturmak için `range (2,6)` şeklinde bir fonksiyon tanımlamamız gerekir. Şayet, `range()` fonksiyonu içerisinde tek bir sayı varsa, bunun sonucu olarak sıfırdan başlayıp bu sayının bir eksiğinde sona eren bir sayı dizisi oluşur. Örneğimize geri dönecek olursak;"
   ]
  },
  {
   "cell_type": "code",
   "execution_count": 7,
   "metadata": {},
   "outputs": [
    {
     "name": "stdout",
     "output_type": "stream",
     "text": [
      "8\n",
      "27\n",
      "64\n",
      "125\n"
     ]
    }
   ],
   "source": [
    "for i in range(2,6):\n",
    "    print(i**3)"
   ]
  },
  {
   "cell_type": "markdown",
   "metadata": {},
   "source": [
    "Bu döngüde `i` değişkeni, `range(2,6)` ise değişkenin üzerinde işlem yapacağı diziyi ifade etmektedir. Bu döngüde yapılacak işlem ise, dizideki her elemanın (i değişkeninin) kübünü alıp ekrana verme (print) işlemidir. "
   ]
  },
  {
   "cell_type": "markdown",
   "metadata": {},
   "source": [
    "Listeler üzerinde de döngüler oluşturmak olanaklıdır. Örneğin, bir ailenin tüm fertlerinin boylarının sıralandığı bir listenin tüm elemanlarını for döngüsü kullanarak ekrana yazdıralım. "
   ]
  },
  {
   "cell_type": "code",
   "execution_count": 8,
   "metadata": {},
   "outputs": [
    {
     "name": "stdout",
     "output_type": "stream",
     "text": [
      "1.73\n",
      "1.68\n",
      "1.71\n",
      "1.89\n"
     ]
    }
   ],
   "source": [
    "aile = [1.73, 1.68, 1.71, 1.89]\n",
    "for boy in aile:\n",
    "    print(boy)"
   ]
  },
  {
   "cell_type": "markdown",
   "metadata": {},
   "source": [
    "Her zaman listelerimiz bu kadar küçük olmayabilir. Büyük veri çağında, birbirine ardışık olarak sıralanmış veri listelerini kullanmamız daha olasıdır. Dolayısıyla, liste elemanlarını for döngüsü ile ekrana yazdırırken, bu elemanların her birinin sırasını da (indeks numarasını da) `enumerate()` fonksiyonu kullanarak ekrana vermemiz gerekebilir. Bu fonksiyon, hem listelerde, hem de sözlük ve dizilerde kullanılabilir. Bu sıralı veri yapılarındaki her bir sıraya \"indeks\" adını verelim. Üstteki aile fertlerinin boyunu içeren listeyi kullanarak, hem sıra numaralarını hem de boyları ekrana verelim. "
   ]
  },
  {
   "cell_type": "code",
   "execution_count": 9,
   "metadata": {},
   "outputs": [
    {
     "name": "stdout",
     "output_type": "stream",
     "text": [
      "kişi 0: 1.73\n",
      "kişi 1: 1.68\n",
      "kişi 2: 1.71\n",
      "kişi 3: 1.89\n"
     ]
    }
   ],
   "source": [
    "aile = [1.73, 1.68, 1.71, 1.89]\n",
    "for indeks, boy in enumerate(aile):\n",
    "    print(\"kişi \" + str(indeks) + \": \" + str(boy))"
   ]
  },
  {
   "cell_type": "markdown",
   "metadata": {},
   "source": [
    "Görüldüğü üzere hem `indeks`, hem `boy` değişkenleri `enumerate()` fonksiyonu ile numaralandırdığımız `aile` listesi üzerinde işlem yapsın diye for döngüsünü oluşturduk. Döngü işlem olarak `\"kişi \" + str(indeks) + \": \" + str(boy)` şeklinde tüm liste elemanlarını sırayla ekrana vermektedir. Ancak `\"kişi 0\"` kullanımı biraz tuhaf bir görünüme sebep vermiştir. Ekrana verme işlemini `\"kişi 1\"` ile başlayacak şekilde gerçekleştirmek için aşağıdaki düzenlemeyi yapalım. "
   ]
  },
  {
   "cell_type": "code",
   "execution_count": 10,
   "metadata": {},
   "outputs": [
    {
     "name": "stdout",
     "output_type": "stream",
     "text": [
      "kişi 1: 1.73\n",
      "kişi 2: 1.68\n",
      "kişi 3: 1.71\n",
      "kişi 4: 1.89\n"
     ]
    }
   ],
   "source": [
    "aile = [1.73, 1.68, 1.71, 1.89]\n",
    "for indeks, boy in enumerate(aile):\n",
    "    print(\"kişi \" + str(indeks + 1) + \": \" + str(boy))"
   ]
  },
  {
   "cell_type": "markdown",
   "metadata": {},
   "source": [
    "Listelerden oluşan listeler için de for döngüsü kullanılabilmektedir. En kalabalık beş kentimizi ve nüfuslarını içeren listelerden oluşan listeyi kullanalım: "
   ]
  },
  {
   "cell_type": "code",
   "execution_count": 11,
   "metadata": {},
   "outputs": [
    {
     "name": "stdout",
     "output_type": "stream",
     "text": [
      "İstanbul: 15519267\n",
      "Ankara: 5639076\n",
      "İzmir: 4367251\n",
      "Bursa: 3056120\n",
      "Antalya: 2511700\n"
     ]
    }
   ],
   "source": [
    "nufuslar = [['İstanbul', 15519267],\n",
    "           ['Ankara', 5639076],\n",
    "           ['İzmir', 4367251],\n",
    "           ['Bursa', 3056120],\n",
    "           ['Antalya', 2511700]]\n",
    "\n",
    "for i in nufuslar: \n",
    "    print(str(i[0] + \": \" + str(i[1])))"
   ]
  },
  {
   "cell_type": "markdown",
   "metadata": {},
   "source": [
    "For döngüsünün değişkeni olan `i`, bu listelerden oluşan listenin içindeki her bir listedir. `i[0]` ise her bir listenin içindeki ilk elemandır. Bu örnekte, kent ismini belirten metinlerdir. `i[1]` ise, listelerin ikinci elemanı olup; bu örnekte, kentin nüfusunu belirten tam sayılardır. \n",
    "\n"
   ]
  },
  {
   "cell_type": "markdown",
   "metadata": {},
   "source": [
    "## 6. Yineleyiciler (İteratör)\n",
    "\n",
    "for döngüsü anlatılırken sırayla ve tek tek işlem yapılan nesnelerden bahsedilmişti. Bu nesnelerin, yinelenen (iterable) bir yapıya sahip olduğu söylenebilir. Bir başka deyişle, burada yinelenen bir nesne üzerinde yapılan işlemdir. Yinelenen işlemi gerçekleştiren nesneye de yineleyici (iteratör) ismi verilir. Python'da yineleyici oluşturmak için `iter()` fonksiyonu, yinelenen nesnedeki elemanlara erişmek için de `next()` fonksiyonu kullanılmaktadır. \n",
    "\n",
    "![figure](https://i.hizliresim.com/Rs2H1n.png)"
   ]
  },
  {
   "cell_type": "markdown",
   "metadata": {},
   "source": [
    "Oluşturulan listedeki her bir elemana (metin nesnesine) ayrı ayrı ulaşmayı hedefliyoruz. `iter()` fonksiyonunu kullanarak bir yineleyici (iterator) oluşturuldu. Ardından `next()` fonksiyonu kullanarak her bir elemana erişilir. Bu elemanlar farklı farklı veri yapılarında olabilir. Bu örnekteki tüm veri yapıları metin tipidir. `next()` fonksiyonu ile 't' elemanına eriştikten sonra, tekrar `next()` fonksiyonu kullanılırsa, `StopIteration` hatası görülür. Çünkü son elemandan sonra, artık `next()` fonksiyonu ile erişilecek başka eleman kalmamıştır. \n",
    "\n",
    "Yinelenmek istenen nesnedeki tüm elemanlara aynı anda erişebilmek için yineleyici önüne `*` işareti eklenmelidir. Örneğin, "
   ]
  },
  {
   "cell_type": "code",
   "execution_count": 12,
   "metadata": {},
   "outputs": [
    {
     "name": "stdout",
     "output_type": "stream",
     "text": [
      "P y t h o n\n"
     ]
    }
   ],
   "source": [
    "isim = \"Python\"\n",
    "yineleyici = iter(isim)\n",
    "print(*yineleyici)"
   ]
  },
  {
   "cell_type": "markdown",
   "metadata": {},
   "source": [
    "Programlama mantığında bir nesne üzerinde tüm elemanlarına erişecek şekilde yineleme işlemini uygulamak yeterli gelmeyecektir. Genellikle belirli sayıda işlemi arka arkaya yaptırmak daha çok tercih edilir. Örneğin range() fonksiyonu kullanarak sayı listesindeki elemanları yineleyen bir yineleyici nesne oluşturalım. `range(x)` kullanımı, 0'dan başlayıp x'in bir eksiğine (x-1) kadar bir sayı listesi oluştururmuş gibi çalışır. "
   ]
  },
  {
   "cell_type": "code",
   "execution_count": 13,
   "metadata": {},
   "outputs": [
    {
     "name": "stdout",
     "output_type": "stream",
     "text": [
      "0\n",
      "1\n",
      "2\n",
      "3\n"
     ]
    }
   ],
   "source": [
    "for i in range(4): \n",
    "    print(i)"
   ]
  },
  {
   "cell_type": "markdown",
   "metadata": {},
   "source": [
    "`range()` nesnesi `print()` fonksiyonu ile ekrana yazdırılmaya çalışıldığında, herhangi bir sayı listesi sonucuna ulaşmak olanaklı değildir. "
   ]
  },
  {
   "cell_type": "code",
   "execution_count": 14,
   "metadata": {},
   "outputs": [
    {
     "name": "stdout",
     "output_type": "stream",
     "text": [
      "range(5, 7)\n"
     ]
    }
   ],
   "source": [
    "aralik = range(5,7)\n",
    "print(aralik)"
   ]
  },
  {
   "cell_type": "markdown",
   "metadata": {},
   "source": [
    "`range()` fonksiyonu ile oluşturulan nesnenin içerdiği sayıları ekrana verebilmek için, bu nesneyi `list()` ya da `set()` fonksiyonları kullanarak liste ya da küme veri yapısına çevirmek gerekmektedir. "
   ]
  },
  {
   "cell_type": "code",
   "execution_count": 15,
   "metadata": {},
   "outputs": [
    {
     "name": "stdout",
     "output_type": "stream",
     "text": [
      "[5, 6]\n"
     ]
    }
   ],
   "source": [
    "aralik = range(5,7)\n",
    "aralik_listesi = list(aralik)\n",
    "print(aralik_listesi)"
   ]
  },
  {
   "cell_type": "markdown",
   "metadata": {},
   "source": [
    "Yineleyiciler konusunda kullanılan bir diğer önemli fonksiyon da `zip()` fonksiyonudur. Bu fonksiyon, bir ya da daha fazla yinelenen nesneyi (iterable) argüman olarak alır ve demet (tuple) dizileri üretir. Örneğin; "
   ]
  },
  {
   "cell_type": "code",
   "execution_count": 16,
   "metadata": {},
   "outputs": [
    {
     "name": "stdout",
     "output_type": "stream",
     "text": [
      "İstanbul 15519267\n",
      "Ankara 5639076\n",
      "İzmir 4367251\n",
      "Bursa 3056120\n",
      "Antalya 2511700\n"
     ]
    }
   ],
   "source": [
    "kentler = ['İstanbul','Ankara', 'İzmir','Bursa', 'Antalya']\n",
    "nufus = ['15519267','5639076', '4367251', '3056120', '2511700']\n",
    "\n",
    "for kent, nufusu in zip(kentler,nufus):\n",
    "    print(kent,nufusu)"
   ]
  },
  {
   "cell_type": "markdown",
   "metadata": {},
   "source": [
    "`zip()` fonksiyonu ile \"fermuarlanmış\" diziler, kendilerini oluşturan bileşenlere `*` sembolü kullanılarak ayrılabilir. "
   ]
  },
  {
   "cell_type": "code",
   "execution_count": 17,
   "metadata": {},
   "outputs": [
    {
     "name": "stdout",
     "output_type": "stream",
     "text": [
      "('İstanbul', 'Ankara', 'İzmir', 'Bursa', 'Antalya')\n",
      "('15519267', '5639076', '4367251', '3056120', '2511700')\n"
     ]
    }
   ],
   "source": [
    "kentler = ['İstanbul','Ankara', 'İzmir','Bursa', 'Antalya']\n",
    "nufus = ['15519267','5639076', '4367251', '3056120', '2511700']\n",
    "\n",
    "kent_nufusu = zip(kentler, nufus)\n",
    "\n",
    "sehir, insan_sayisi = zip(* kent_nufusu)\n",
    "print(sehir)\n",
    "print(insan_sayisi)"
   ]
  },
  {
   "cell_type": "markdown",
   "metadata": {},
   "source": [
    "## 7. List Comprehension\n",
    "\n",
    "for döngüsü kullanılarak yeni bir liste oluşturmaya çalışalım. for döngüsünün oluşturduğu her bir eleman `.append()` yöntemi ile oluşturduğumuz yeni listeye eklensin. Döngü tamamlandığında da oluşturduğumuz liste nihai şekliyle ekrana verilsin. "
   ]
  },
  {
   "cell_type": "code",
   "execution_count": 18,
   "metadata": {},
   "outputs": [
    {
     "name": "stdout",
     "output_type": "stream",
     "text": [
      "[8, 27, 64, 125]\n"
     ]
    }
   ],
   "source": [
    "# Boş bir liste oluşturalım\n",
    "\n",
    "kup = []\n",
    "\n",
    "# for döngüsünde kullandığımız küp almamızı sağlayan döngüyü burada da kullanalım.\n",
    "\n",
    "for i in range(2,6):\n",
    "    kup.append(i**3)\n",
    "print(kup)"
   ]
  },
  {
   "cell_type": "markdown",
   "metadata": {},
   "source": [
    "Bu denli basit bir işlemi, bu kadar fazla satırda kod kullanarak yapmak zorlayıcı ve yavaş bir tercih olacaktır. Bunun yerine list comprehension (liste döngüleri) kullanmak, aynı işlemi tek satır kod yazarak gerçekleştirmemizi sağlayacaktır. "
   ]
  },
  {
   "cell_type": "code",
   "execution_count": 19,
   "metadata": {},
   "outputs": [
    {
     "name": "stdout",
     "output_type": "stream",
     "text": [
      "[8, 27, 64, 125]\n"
     ]
    }
   ],
   "source": [
    "kup = [i ** 3 for i in range(2,6)]\n",
    "print(kup)"
   ]
  },
  {
   "cell_type": "markdown",
   "metadata": {},
   "source": [
    "Görüleceği üzere, list comprehension kullanımı, iki köşeli parantez arasında bir for döngüsü oluşturmamızı sağlamaktadır. \n",
    "\n",
    "    [çıktı ifade for yineleyici in yinelenen nesne]\n",
    "    \n",
    "Bir örnek daha yapalım: "
   ]
  },
  {
   "cell_type": "code",
   "execution_count": 20,
   "metadata": {},
   "outputs": [
    {
     "name": "stdout",
     "output_type": "stream",
     "text": [
      "[(1, 4), (1, 5), (1, 6), (2, 4), (2, 5), (2, 6), (3, 4), (3, 5), (3, 6)]\n"
     ]
    }
   ],
   "source": [
    "liste1 = [1,2,3]\n",
    "liste2 = [4,5,6]\n",
    "combo = [(x,y) for x in liste1 for y in liste2]\n",
    "print(combo)"
   ]
  },
  {
   "cell_type": "markdown",
   "metadata": {},
   "source": [
    "Bu örnekte ise iki liste tanımladık. İlk değişkeni x ve ikinci değişkeni y olarak tanımladık. x değişkeni liste1 elemanları, y değişkeni liste2 elemanları olacak şekilde ilk listenin elemanlarını ikinci listenin elemanları ile bir araya getiren dizilerin listesini oluşturduk. \n",
    "\n",
    "List comprehension kullanılırken koşul ifadeleri de kullanılabilir. \n",
    "\n",
    "    [çıktı ifadesi for yineleyici değişken in yinelenen nesne if koşul]\n",
    "    \n",
    "Beş kent isminden oluşan listedeki \"İ\" harfi ile başlayan kentlerin ilk üç harfini ekrana verelim.\n",
    "   "
   ]
  },
  {
   "cell_type": "code",
   "execution_count": 21,
   "metadata": {},
   "outputs": [
    {
     "name": "stdout",
     "output_type": "stream",
     "text": [
      "['İst', 'İzm']\n"
     ]
    }
   ],
   "source": [
    "kentler = ['İstanbul','Ankara', 'İzmir','Bursa', 'Antalya']\n",
    "\n",
    "kentler_i = [kent[0:3] for kent in kentler if kent[0] == \"İ\"]\n",
    "\n",
    "print (kentler_i)"
   ]
  },
  {
   "cell_type": "markdown",
   "metadata": {},
   "source": [
    "List comprehension içerisinde if ifadesi kullanılabildiği gibi, else ifadesi de kullanılabilir. Örneğin, 0'dan 7'ye kadar olan sayıların üzerinde işlem yaparak, bu sayıların hangisinin çift sayı hangisinin tek sayı olduğunu ekrana verelim. "
   ]
  },
  {
   "cell_type": "code",
   "execution_count": 22,
   "metadata": {},
   "outputs": [
    {
     "data": {
      "text/plain": [
       "['Çift', 'Tek', 'Çift', 'Tek', 'Çift', 'Tek', 'Çift', 'Tek']"
      ]
     },
     "execution_count": 22,
     "metadata": {},
     "output_type": "execute_result"
    }
   ],
   "source": [
    "[\"Çift\" if i%2 == 0 else \"Tek\" for i in range(8)]"
   ]
  },
  {
   "cell_type": "markdown",
   "metadata": {},
   "source": [
    "## 8. İç İçe for Döngüleri\n",
    "\n",
    "İç içe for döngüleri de kullanılabilmektedir. Bu iç içelik bir döngü içinde başka bir döngünün de kullanıldığını işaret eder. İçteki döngü, dıştaki döngünün her bir yinelemesi için tek bir sefer kullanılacaktır. Örneğin aşağıdaki listeleri kullanarak, her bir sıfatı tüm meyveler için ekrana yazdıralım."
   ]
  },
  {
   "cell_type": "code",
   "execution_count": 23,
   "metadata": {},
   "outputs": [
    {
     "name": "stdout",
     "output_type": "stream",
     "text": [
      "kirmizi elma\n",
      "kirmizi muz\n",
      "kirmizi vişne\n",
      "büyük elma\n",
      "büyük muz\n",
      "büyük vişne\n",
      "lezzetli elma\n",
      "lezzetli muz\n",
      "lezzetli vişne\n"
     ]
    }
   ],
   "source": [
    "sifat = [\"kirmizi\", \"büyük\", \"lezzetli\"]\n",
    "meyve = [\"elma\", \"muz\", \"vişne\"]\n",
    "\n",
    "for x in sifat:\n",
    "    for y in meyve:\n",
    "        print(x,y)"
   ]
  },
  {
   "cell_type": "markdown",
   "metadata": {},
   "source": [
    "Başka bir örnek verelim. Çarpım tablosunun 6'lı ve 7'li çarpım değerlerini ekrana yazdıralım. "
   ]
  },
  {
   "cell_type": "code",
   "execution_count": 24,
   "metadata": {},
   "outputs": [
    {
     "name": "stdout",
     "output_type": "stream",
     "text": [
      "6*1 = 6\n",
      "6*2 = 12\n",
      "6*3 = 18\n",
      "6*4 = 24\n",
      "6*5 = 30\n",
      "6*6 = 36\n",
      "6*7 = 42\n",
      "6*8 = 48\n",
      "6*9 = 54\n",
      "6*10 = 60\n",
      "7*1 = 7\n",
      "7*2 = 14\n",
      "7*3 = 21\n",
      "7*4 = 28\n",
      "7*5 = 35\n",
      "7*6 = 42\n",
      "7*7 = 49\n",
      "7*8 = 56\n",
      "7*9 = 63\n",
      "7*10 = 70\n"
     ]
    }
   ],
   "source": [
    "for i in range (6,8):\n",
    "    for j in range(1,11):\n",
    "        print(f\"{i}*{j} = {i*j}\")"
   ]
  },
  {
   "cell_type": "markdown",
   "metadata": {},
   "source": [
    "## 9. Python'da Döngü Kontrolleri\n",
    "\n",
    "Bazen normal akışındaki döngüye (iterasyona) müdahale etmemiz gerekebilir. Döngüye müdahale edebileceğimiz iki ana komut bulunmaktadır: `break` ve `continue`\n",
    "\n",
    "break komutunun kullanıldığı koşul, döngü içerisinde gerçekleştiğinde döngü duracaktır. Örneğin:"
   ]
  },
  {
   "cell_type": "code",
   "execution_count": 25,
   "metadata": {},
   "outputs": [
    {
     "name": "stdout",
     "output_type": "stream",
     "text": [
      "M\n",
      "e\n",
      "r\n"
     ]
    }
   ],
   "source": [
    "for i in \"Mersin\":\n",
    "    print(i)\n",
    "    if i == \"r\": break;"
   ]
  },
  {
   "cell_type": "markdown",
   "metadata": {},
   "source": [
    "continue komutunun birlikte kullanıldığı koşul döngü içerisinde sağlandığında, döngüdeki işlem o noktada çalışmaz ve döngü diğer elemanlara atlayarak çalışmaya devam eder. Örneğin: "
   ]
  },
  {
   "cell_type": "code",
   "execution_count": 26,
   "metadata": {},
   "outputs": [
    {
     "name": "stdout",
     "output_type": "stream",
     "text": [
      "1\n",
      "2\n",
      "3\n",
      "4\n",
      "5\n",
      "7\n",
      "8\n"
     ]
    }
   ],
   "source": [
    "i = 0\n",
    "while (i<8):\n",
    "    i+=1\n",
    "    if (i == 6): continue\n",
    "    print(i)"
   ]
  },
  {
   "cell_type": "markdown",
   "metadata": {},
   "source": [
    "Örnekte de görüleceği üzere, döngü değişkeni (i) 6'ya eşit olduğunda döngü bu noktada çalışmaz ve diğer elemanla çalışmaya devam eder. "
   ]
  }
 ],
 "metadata": {
  "kernelspec": {
   "display_name": "Python 3",
   "language": "python",
   "name": "python3"
  },
  "language_info": {
   "codemirror_mode": {
    "name": "ipython",
    "version": 3
   },
   "file_extension": ".py",
   "mimetype": "text/x-python",
   "name": "python",
   "nbconvert_exporter": "python",
   "pygments_lexer": "ipython3",
   "version": "3.7.6"
  }
 },
 "nbformat": 4,
 "nbformat_minor": 2
}
