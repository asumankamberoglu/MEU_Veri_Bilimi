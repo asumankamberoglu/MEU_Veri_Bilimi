{
  "nbformat": 4,
  "nbformat_minor": 0,
  "metadata": {
    "colab": {
      "name": "unite 12 tarih saat analizi",
      "provenance": [],
      "collapsed_sections": []
    },
    "kernelspec": {
      "name": "python3",
      "display_name": "Python 3"
    }
  },
  "cells": [
    {
      "cell_type": "markdown",
      "metadata": {
        "id": "dR3Ax6T55xAs"
      },
      "source": [
        "pandas kütüphanesi ile tarih ve saat serisi verileriyle nasıl çalışılacağını öğreneceğiz. pandas kütüphanesinde tarih ve zaman serileri ile ilgili oldukça güçlü bir işlevsellik bulunmaktadır. pandas serileri, zaman serileri oluşturmak için kullanılmaktadır. pandas kütüphanesini çağırmakla işe koyulalım: "
      ]
    },
    {
      "cell_type": "code",
      "metadata": {
        "id": "8sYWjloj5nNX"
      },
      "source": [
        "import pandas as pd"
      ],
      "execution_count": 1,
      "outputs": []
    },
    {
      "cell_type": "markdown",
      "metadata": {
        "id": "dr7QEzzz6lsf"
      },
      "source": [
        "Örnek veri setimiz, ABD'deki UFO ihbarlarını içeren `ufo.csv` dosyası olacaktır. Bu veri setinin son sütunu, her bir ihbarın yapıldığı tarihi ve saati içermektedir. "
      ]
    },
    {
      "cell_type": "code",
      "metadata": {
        "colab": {
          "base_uri": "https://localhost:8080/",
          "height": 204
        },
        "id": "CYrbU54X615_",
        "outputId": "a5ba0027-d0d5-4de7-9c34-a5f61c96e7c7"
      },
      "source": [
        "ufo = pd.read_csv(\"https://raw.githubusercontent.com/caniban/MEU_Veri_Bilimi/main/unite%2012%20tarih%20saat%20analizi/ufo.csv\")\r\n",
        "ufo.head()"
      ],
      "execution_count": 2,
      "outputs": [
        {
          "output_type": "execute_result",
          "data": {
            "text/html": [
              "<div>\n",
              "<style scoped>\n",
              "    .dataframe tbody tr th:only-of-type {\n",
              "        vertical-align: middle;\n",
              "    }\n",
              "\n",
              "    .dataframe tbody tr th {\n",
              "        vertical-align: top;\n",
              "    }\n",
              "\n",
              "    .dataframe thead th {\n",
              "        text-align: right;\n",
              "    }\n",
              "</style>\n",
              "<table border=\"1\" class=\"dataframe\">\n",
              "  <thead>\n",
              "    <tr style=\"text-align: right;\">\n",
              "      <th></th>\n",
              "      <th>City</th>\n",
              "      <th>Colors Reported</th>\n",
              "      <th>Shape Reported</th>\n",
              "      <th>State</th>\n",
              "      <th>Time</th>\n",
              "    </tr>\n",
              "  </thead>\n",
              "  <tbody>\n",
              "    <tr>\n",
              "      <th>0</th>\n",
              "      <td>Ithaca</td>\n",
              "      <td>NaN</td>\n",
              "      <td>TRIANGLE</td>\n",
              "      <td>NY</td>\n",
              "      <td>6/1/1930 22:00</td>\n",
              "    </tr>\n",
              "    <tr>\n",
              "      <th>1</th>\n",
              "      <td>Willingboro</td>\n",
              "      <td>NaN</td>\n",
              "      <td>OTHER</td>\n",
              "      <td>NJ</td>\n",
              "      <td>6/30/1930 20:00</td>\n",
              "    </tr>\n",
              "    <tr>\n",
              "      <th>2</th>\n",
              "      <td>Holyoke</td>\n",
              "      <td>NaN</td>\n",
              "      <td>OVAL</td>\n",
              "      <td>CO</td>\n",
              "      <td>2/15/1931 14:00</td>\n",
              "    </tr>\n",
              "    <tr>\n",
              "      <th>3</th>\n",
              "      <td>Abilene</td>\n",
              "      <td>NaN</td>\n",
              "      <td>DISK</td>\n",
              "      <td>KS</td>\n",
              "      <td>6/1/1931 13:00</td>\n",
              "    </tr>\n",
              "    <tr>\n",
              "      <th>4</th>\n",
              "      <td>New York Worlds Fair</td>\n",
              "      <td>NaN</td>\n",
              "      <td>LIGHT</td>\n",
              "      <td>NY</td>\n",
              "      <td>4/18/1933 19:00</td>\n",
              "    </tr>\n",
              "  </tbody>\n",
              "</table>\n",
              "</div>"
            ],
            "text/plain": [
              "                   City Colors Reported Shape Reported State             Time\n",
              "0                Ithaca             NaN       TRIANGLE    NY   6/1/1930 22:00\n",
              "1           Willingboro             NaN          OTHER    NJ  6/30/1930 20:00\n",
              "2               Holyoke             NaN           OVAL    CO  2/15/1931 14:00\n",
              "3               Abilene             NaN           DISK    KS   6/1/1931 13:00\n",
              "4  New York Worlds Fair             NaN          LIGHT    NY  4/18/1933 19:00"
            ]
          },
          "metadata": {
            "tags": []
          },
          "execution_count": 2
        }
      ]
    },
    {
      "cell_type": "markdown",
      "metadata": {
        "id": "b5zcyfnS8OIB"
      },
      "source": [
        "İhbarları, yıllara göre ya da gününe göre analiz etmek istersek ne yapmamız gerekir? Öncelikle sütunların veri tiplerine bakalım."
      ]
    },
    {
      "cell_type": "code",
      "metadata": {
        "colab": {
          "base_uri": "https://localhost:8080/"
        },
        "id": "izSsccoD8X3i",
        "outputId": "65a32e3d-2103-4ad4-d80c-3a4ab5f11af3"
      },
      "source": [
        "ufo.dtypes"
      ],
      "execution_count": 3,
      "outputs": [
        {
          "output_type": "execute_result",
          "data": {
            "text/plain": [
              "City               object\n",
              "Colors Reported    object\n",
              "Shape Reported     object\n",
              "State              object\n",
              "Time               object\n",
              "dtype: object"
            ]
          },
          "metadata": {
            "tags": []
          },
          "execution_count": 3
        }
      ]
    },
    {
      "cell_type": "markdown",
      "metadata": {
        "id": "hGbbRmLw8dKZ"
      },
      "source": [
        "Görüleceği üzere `Time` sütunu object (nesne) veri tipindedir. Diğer bir deyişle, içerisindeki her bir girdi string olarak saklanmaktadır. Bu girdilerin içerisinde tarih ve saat olduğunu görebilmekteyiz. Sadece saat girdisini ele almak istersek, bu stringleri dilimleyerek (slice) saatleri yalnız bırakmaya gereksinme duyarız. "
      ]
    },
    {
      "cell_type": "code",
      "metadata": {
        "colab": {
          "base_uri": "https://localhost:8080/"
        },
        "id": "IwoNsQU-88NZ",
        "outputId": "aaa467a1-c4a5-4ade-cc85-8ac860d73e59"
      },
      "source": [
        "ufo.Time.str.slice(-5,-3).astype(int).head()"
      ],
      "execution_count": 4,
      "outputs": [
        {
          "output_type": "execute_result",
          "data": {
            "text/plain": [
              "0    22\n",
              "1    20\n",
              "2    14\n",
              "3    13\n",
              "4    19\n",
              "Name: Time, dtype: int64"
            ]
          },
          "metadata": {
            "tags": []
          },
          "execution_count": 4
        }
      ]
    },
    {
      "cell_type": "markdown",
      "metadata": {
        "id": "2R6lSfer9R8m"
      },
      "source": [
        "`slice` yöntemi ile dilimleme sayesinde son sütundaki sondan beşinci ve sondan üçüncü karakterler arasındaki karakterleri ayırdık ve `astype` yöntemi ile bu stringleri integer veri tipine çevirdik. \r\n",
        "\r\n",
        "Ancak, bu şekilde dilimlemek sürdürülebilir bir yöntem değildir. Veri setindeki eksiklikler ya da karakterlerin kayması ile yanlış sonuçlar elde edebiliriz. Bu yüzden, bu kırılgan yöntemi bir kenara bırakıp başka bir yöntem belirlemeliyiz. \r\n",
        "\r\n",
        "Buradaki en sürdürülebilir yöntem, `Time` sütununu pandas kütüphanesine özgü `datetime` formatına dönüştürmektir. Bu dönüşüm işlemi için `pd.to_datetime()` fonksiyonu kullanılmaktadır. "
      ]
    },
    {
      "cell_type": "code",
      "metadata": {
        "id": "LRt3qOdE9RhJ"
      },
      "source": [
        "ufo['Time'] = pd.to_datetime(ufo.Time)"
      ],
      "execution_count": 5,
      "outputs": []
    },
    {
      "cell_type": "markdown",
      "metadata": {
        "id": "ok2dcHSp-fDH"
      },
      "source": [
        "Veri setini head() yöntemi ile tekrar inceleyelim."
      ]
    },
    {
      "cell_type": "code",
      "metadata": {
        "colab": {
          "base_uri": "https://localhost:8080/",
          "height": 204
        },
        "id": "SxAX3H7w-bTV",
        "outputId": "d84afd2f-321b-4a09-f247-3db6357dd987"
      },
      "source": [
        "ufo.head()"
      ],
      "execution_count": 6,
      "outputs": [
        {
          "output_type": "execute_result",
          "data": {
            "text/html": [
              "<div>\n",
              "<style scoped>\n",
              "    .dataframe tbody tr th:only-of-type {\n",
              "        vertical-align: middle;\n",
              "    }\n",
              "\n",
              "    .dataframe tbody tr th {\n",
              "        vertical-align: top;\n",
              "    }\n",
              "\n",
              "    .dataframe thead th {\n",
              "        text-align: right;\n",
              "    }\n",
              "</style>\n",
              "<table border=\"1\" class=\"dataframe\">\n",
              "  <thead>\n",
              "    <tr style=\"text-align: right;\">\n",
              "      <th></th>\n",
              "      <th>City</th>\n",
              "      <th>Colors Reported</th>\n",
              "      <th>Shape Reported</th>\n",
              "      <th>State</th>\n",
              "      <th>Time</th>\n",
              "    </tr>\n",
              "  </thead>\n",
              "  <tbody>\n",
              "    <tr>\n",
              "      <th>0</th>\n",
              "      <td>Ithaca</td>\n",
              "      <td>NaN</td>\n",
              "      <td>TRIANGLE</td>\n",
              "      <td>NY</td>\n",
              "      <td>1930-06-01 22:00:00</td>\n",
              "    </tr>\n",
              "    <tr>\n",
              "      <th>1</th>\n",
              "      <td>Willingboro</td>\n",
              "      <td>NaN</td>\n",
              "      <td>OTHER</td>\n",
              "      <td>NJ</td>\n",
              "      <td>1930-06-30 20:00:00</td>\n",
              "    </tr>\n",
              "    <tr>\n",
              "      <th>2</th>\n",
              "      <td>Holyoke</td>\n",
              "      <td>NaN</td>\n",
              "      <td>OVAL</td>\n",
              "      <td>CO</td>\n",
              "      <td>1931-02-15 14:00:00</td>\n",
              "    </tr>\n",
              "    <tr>\n",
              "      <th>3</th>\n",
              "      <td>Abilene</td>\n",
              "      <td>NaN</td>\n",
              "      <td>DISK</td>\n",
              "      <td>KS</td>\n",
              "      <td>1931-06-01 13:00:00</td>\n",
              "    </tr>\n",
              "    <tr>\n",
              "      <th>4</th>\n",
              "      <td>New York Worlds Fair</td>\n",
              "      <td>NaN</td>\n",
              "      <td>LIGHT</td>\n",
              "      <td>NY</td>\n",
              "      <td>1933-04-18 19:00:00</td>\n",
              "    </tr>\n",
              "  </tbody>\n",
              "</table>\n",
              "</div>"
            ],
            "text/plain": [
              "                   City Colors Reported  ... State                Time\n",
              "0                Ithaca             NaN  ...    NY 1930-06-01 22:00:00\n",
              "1           Willingboro             NaN  ...    NJ 1930-06-30 20:00:00\n",
              "2               Holyoke             NaN  ...    CO 1931-02-15 14:00:00\n",
              "3               Abilene             NaN  ...    KS 1931-06-01 13:00:00\n",
              "4  New York Worlds Fair             NaN  ...    NY 1933-04-18 19:00:00\n",
              "\n",
              "[5 rows x 5 columns]"
            ]
          },
          "metadata": {
            "tags": []
          },
          "execution_count": 6
        }
      ]
    },
    {
      "cell_type": "markdown",
      "metadata": {
        "id": "fjeaeGIR-nfF"
      },
      "source": [
        "`Time` sütunundaki girdilerin hepsai aynı olmasına rağmen, formatlamada bir tür değişim görülmektedir. Ancak, aslında veri setimizde değişmiş olan, `Time` sütunundaki verilerin tipidir. Görelim; "
      ]
    },
    {
      "cell_type": "code",
      "metadata": {
        "colab": {
          "base_uri": "https://localhost:8080/"
        },
        "id": "WyMraG0o-2Or",
        "outputId": "d5cccdb2-54c6-4683-fe73-844ed9a8b814"
      },
      "source": [
        "ufo.dtypes"
      ],
      "execution_count": 7,
      "outputs": [
        {
          "output_type": "execute_result",
          "data": {
            "text/plain": [
              "City                       object\n",
              "Colors Reported            object\n",
              "Shape Reported             object\n",
              "State                      object\n",
              "Time               datetime64[ns]\n",
              "dtype: object"
            ]
          },
          "metadata": {
            "tags": []
          },
          "execution_count": 7
        }
      ]
    },
    {
      "cell_type": "markdown",
      "metadata": {
        "id": "rzRJ_B4e_FTT"
      },
      "source": [
        "Veri girdisinin `6/ 1/1930 22:00` halinden  `1930-06-01 22:00:00` haline dönüşümü için herhangi bir parametre yazmadık. `pd.to_datetime` fonksiyonu bunu otomatik olarak gerçekleştirdi. \r\n",
        "\r\n",
        "Eğer elinizdeki veri setindeki tarih ve saat girdileri otomatik olarak algılanmıyorsa, fonksiyona parametre eklemek gerekir. `pd.to_datetime` fonksiyonunun [rehberine](https://pandas.pydata.org/pandas-docs/stable/reference/api/pandas.to_datetime.html) baktığımızda, format parametresinde yazılacak [kurallar](https://docs.python.org/3/library/datetime.html#strftime-and-strptime-behavior) ile bu algılama sağlanacaktır. \r\n",
        "\r\n",
        "`pd.to_datetime` fonksiyonu kullanıldıktan sonra, `.dt` metodunu kullanarak çeşitli öznitelikleri sorgulayabiliriz. Örneğin saatleri ele alalım: "
      ]
    },
    {
      "cell_type": "code",
      "metadata": {
        "colab": {
          "base_uri": "https://localhost:8080/"
        },
        "id": "La3InRdyBFCE",
        "outputId": "067b9f0e-df40-47c2-f702-50cd640b269f"
      },
      "source": [
        "ufo.Time.dt.hour"
      ],
      "execution_count": 8,
      "outputs": [
        {
          "output_type": "execute_result",
          "data": {
            "text/plain": [
              "0        22\n",
              "1        20\n",
              "2        14\n",
              "3        13\n",
              "4        19\n",
              "         ..\n",
              "18236    23\n",
              "18237    23\n",
              "18238    23\n",
              "18239    23\n",
              "18240    23\n",
              "Name: Time, Length: 18241, dtype: int64"
            ]
          },
          "metadata": {
            "tags": []
          },
          "execution_count": 8
        }
      ]
    },
    {
      "cell_type": "markdown",
      "metadata": {
        "id": "0mGx8p-KBPjk"
      },
      "source": [
        "Veri girdilerindeki tarihlerin, haftanın hangi gününe karşılık geldiğini otomatik bulabilen yöntemi de deneyelim: "
      ]
    },
    {
      "cell_type": "code",
      "metadata": {
        "colab": {
          "base_uri": "https://localhost:8080/"
        },
        "id": "SVV3FaGxAT3-",
        "outputId": "c9fa47b0-3819-4b75-90e5-4f011a6141c3"
      },
      "source": [
        "ufo.Time.dt.day_name()"
      ],
      "execution_count": 9,
      "outputs": [
        {
          "output_type": "execute_result",
          "data": {
            "text/plain": [
              "0         Sunday\n",
              "1         Monday\n",
              "2         Sunday\n",
              "3         Monday\n",
              "4        Tuesday\n",
              "          ...   \n",
              "18236     Sunday\n",
              "18237     Sunday\n",
              "18238     Sunday\n",
              "18239     Sunday\n",
              "18240     Sunday\n",
              "Name: Time, Length: 18241, dtype: object"
            ]
          },
          "metadata": {
            "tags": []
          },
          "execution_count": 9
        }
      ]
    },
    {
      "cell_type": "markdown",
      "metadata": {
        "id": "gIKXB89wB-7Z"
      },
      "source": [
        "Buradan 1 Haziran 1930 tarihinin Pazar gününne denk geldiğini görebiliyoruz. \r\n",
        "\r\n",
        "`dayofyear` özniteliği ile de elimizdeki tarihin yılın kaçıncı gününe denk geldiğini görebiliriz: "
      ]
    },
    {
      "cell_type": "code",
      "metadata": {
        "colab": {
          "base_uri": "https://localhost:8080/"
        },
        "id": "-S7ce4-tCLLJ",
        "outputId": "3c394014-5a57-4b16-8c4c-c01f1c2ba21f"
      },
      "source": [
        "ufo.Time.dt.dayofyear"
      ],
      "execution_count": 10,
      "outputs": [
        {
          "output_type": "execute_result",
          "data": {
            "text/plain": [
              "0        152\n",
              "1        181\n",
              "2         46\n",
              "3        152\n",
              "4        108\n",
              "        ... \n",
              "18236    366\n",
              "18237    366\n",
              "18238    366\n",
              "18239    366\n",
              "18240    366\n",
              "Name: Time, Length: 18241, dtype: int64"
            ]
          },
          "metadata": {
            "tags": []
          },
          "execution_count": 10
        }
      ]
    },
    {
      "cell_type": "markdown",
      "metadata": {
        "id": "4qUwRxmAFuag"
      },
      "source": [
        "İki tane zaman etiketi (time stamp) belirleyelim. Bunun için değişken ismi atadıktan sonra, pd.to_datetime fonksiyonun içine istediğimiz tarihi string olarak yazabiliriz. "
      ]
    },
    {
      "cell_type": "code",
      "metadata": {
        "colab": {
          "base_uri": "https://localhost:8080/"
        },
        "id": "6EaKuOsCDLa-",
        "outputId": "134555cb-852d-4959-bf22-1ac6ce7eca40"
      },
      "source": [
        "zaman_1 = pd.to_datetime('1/1/1999')\r\n",
        "zaman_2 = pd.to_datetime('1/1/2000')\r\n",
        "print(zaman_1)\r\n",
        "print(zaman_2)"
      ],
      "execution_count": 11,
      "outputs": [
        {
          "output_type": "stream",
          "text": [
            "1999-01-01 00:00:00\n",
            "2000-01-01 00:00:00\n"
          ],
          "name": "stdout"
        }
      ]
    },
    {
      "cell_type": "markdown",
      "metadata": {
        "id": "8TXbg9_SF-IF"
      },
      "source": [
        "Şimdi, veri setimizin 1999 yılına ait girdilerini filtreleyelim. Bunun için *Time* sütunundaki değerlerin **'1/1/ 1999'** tarihinden büyük, **'1/1/ 2000'** tarihinden küçük olması gerekir: "
      ]
    },
    {
      "cell_type": "code",
      "metadata": {
        "colab": {
          "base_uri": "https://localhost:8080/",
          "height": 419
        },
        "id": "qPHYNsrND4E8",
        "outputId": "124a8d03-09b6-49eb-b41b-2e202cb71bb0"
      },
      "source": [
        "ufo[(ufo['Time'] > zaman_1) & (ufo['Time'] < zaman_2)]"
      ],
      "execution_count": 12,
      "outputs": [
        {
          "output_type": "execute_result",
          "data": {
            "text/html": [
              "<div>\n",
              "<style scoped>\n",
              "    .dataframe tbody tr th:only-of-type {\n",
              "        vertical-align: middle;\n",
              "    }\n",
              "\n",
              "    .dataframe tbody tr th {\n",
              "        vertical-align: top;\n",
              "    }\n",
              "\n",
              "    .dataframe thead th {\n",
              "        text-align: right;\n",
              "    }\n",
              "</style>\n",
              "<table border=\"1\" class=\"dataframe\">\n",
              "  <thead>\n",
              "    <tr style=\"text-align: right;\">\n",
              "      <th></th>\n",
              "      <th>City</th>\n",
              "      <th>Colors Reported</th>\n",
              "      <th>Shape Reported</th>\n",
              "      <th>State</th>\n",
              "      <th>Time</th>\n",
              "    </tr>\n",
              "  </thead>\n",
              "  <tbody>\n",
              "    <tr>\n",
              "      <th>12832</th>\n",
              "      <td>Loma Rica</td>\n",
              "      <td>NaN</td>\n",
              "      <td>LIGHT</td>\n",
              "      <td>CA</td>\n",
              "      <td>1999-01-01 02:30:00</td>\n",
              "    </tr>\n",
              "    <tr>\n",
              "      <th>12833</th>\n",
              "      <td>Bauxite</td>\n",
              "      <td>NaN</td>\n",
              "      <td>NaN</td>\n",
              "      <td>AR</td>\n",
              "      <td>1999-01-01 03:00:00</td>\n",
              "    </tr>\n",
              "    <tr>\n",
              "      <th>12834</th>\n",
              "      <td>Florence</td>\n",
              "      <td>NaN</td>\n",
              "      <td>CYLINDER</td>\n",
              "      <td>SC</td>\n",
              "      <td>1999-01-01 14:00:00</td>\n",
              "    </tr>\n",
              "    <tr>\n",
              "      <th>12835</th>\n",
              "      <td>Lake Henshaw</td>\n",
              "      <td>NaN</td>\n",
              "      <td>CIGAR</td>\n",
              "      <td>CA</td>\n",
              "      <td>1999-01-01 15:00:00</td>\n",
              "    </tr>\n",
              "    <tr>\n",
              "      <th>12836</th>\n",
              "      <td>Wilmington Island</td>\n",
              "      <td>NaN</td>\n",
              "      <td>LIGHT</td>\n",
              "      <td>GA</td>\n",
              "      <td>1999-01-01 17:15:00</td>\n",
              "    </tr>\n",
              "    <tr>\n",
              "      <th>...</th>\n",
              "      <td>...</td>\n",
              "      <td>...</td>\n",
              "      <td>...</td>\n",
              "      <td>...</td>\n",
              "      <td>...</td>\n",
              "    </tr>\n",
              "    <tr>\n",
              "      <th>15601</th>\n",
              "      <td>Rockford</td>\n",
              "      <td>ORANGE</td>\n",
              "      <td>LIGHT</td>\n",
              "      <td>IL</td>\n",
              "      <td>1999-12-31 23:30:00</td>\n",
              "    </tr>\n",
              "    <tr>\n",
              "      <th>15602</th>\n",
              "      <td>Santee</td>\n",
              "      <td>NaN</td>\n",
              "      <td>FORMATION</td>\n",
              "      <td>CA</td>\n",
              "      <td>1999-12-31 23:42:00</td>\n",
              "    </tr>\n",
              "    <tr>\n",
              "      <th>15603</th>\n",
              "      <td>Keys</td>\n",
              "      <td>NaN</td>\n",
              "      <td>OTHER</td>\n",
              "      <td>CA</td>\n",
              "      <td>1999-12-31 23:47:00</td>\n",
              "    </tr>\n",
              "    <tr>\n",
              "      <th>15604</th>\n",
              "      <td>Keys</td>\n",
              "      <td>NaN</td>\n",
              "      <td>VARIOUS</td>\n",
              "      <td>CA</td>\n",
              "      <td>1999-12-31 23:48:00</td>\n",
              "    </tr>\n",
              "    <tr>\n",
              "      <th>15605</th>\n",
              "      <td>Bellflower</td>\n",
              "      <td>NaN</td>\n",
              "      <td>FIREBALL</td>\n",
              "      <td>CA</td>\n",
              "      <td>1999-12-31 23:59:00</td>\n",
              "    </tr>\n",
              "  </tbody>\n",
              "</table>\n",
              "<p>2774 rows × 5 columns</p>\n",
              "</div>"
            ],
            "text/plain": [
              "                    City Colors Reported  ... State                Time\n",
              "12832          Loma Rica             NaN  ...    CA 1999-01-01 02:30:00\n",
              "12833            Bauxite             NaN  ...    AR 1999-01-01 03:00:00\n",
              "12834           Florence             NaN  ...    SC 1999-01-01 14:00:00\n",
              "12835       Lake Henshaw             NaN  ...    CA 1999-01-01 15:00:00\n",
              "12836  Wilmington Island             NaN  ...    GA 1999-01-01 17:15:00\n",
              "...                  ...             ...  ...   ...                 ...\n",
              "15601           Rockford          ORANGE  ...    IL 1999-12-31 23:30:00\n",
              "15602             Santee             NaN  ...    CA 1999-12-31 23:42:00\n",
              "15603               Keys             NaN  ...    CA 1999-12-31 23:47:00\n",
              "15604               Keys             NaN  ...    CA 1999-12-31 23:48:00\n",
              "15605         Bellflower             NaN  ...    CA 1999-12-31 23:59:00\n",
              "\n",
              "[2774 rows x 5 columns]"
            ]
          },
          "metadata": {
            "tags": []
          },
          "execution_count": 12
        }
      ]
    },
    {
      "cell_type": "markdown",
      "metadata": {
        "id": "zd8RkUpmGfDl"
      },
      "source": [
        "Zaman serileri üzerine aritmetik işlemler de yapabilmek olanaklıdır. Veri setindeki en son tarihli girdiği `.max()` özniteliği ile bulalım: "
      ]
    },
    {
      "cell_type": "code",
      "metadata": {
        "colab": {
          "base_uri": "https://localhost:8080/"
        },
        "id": "VwctfGjbGpTP",
        "outputId": "6b7baf95-4714-467f-95cf-9bee799db434"
      },
      "source": [
        "ufo.Time.max()"
      ],
      "execution_count": 13,
      "outputs": [
        {
          "output_type": "execute_result",
          "data": {
            "text/plain": [
              "Timestamp('2000-12-31 23:59:00')"
            ]
          },
          "metadata": {
            "tags": []
          },
          "execution_count": 13
        }
      ]
    },
    {
      "cell_type": "markdown",
      "metadata": {
        "id": "oAnd4ixrG8BG"
      },
      "source": [
        "Veri setindeki ilk tarihli girdi ile son tarihli girdi arasında kaç gün ve saat bulunduğunu da basit bir aritmetik işlemle bulabiliriz: "
      ]
    },
    {
      "cell_type": "code",
      "metadata": {
        "colab": {
          "base_uri": "https://localhost:8080/"
        },
        "id": "BsBfRjfMHFaF",
        "outputId": "5b654680-f20d-4014-83e5-58e8d6db8471"
      },
      "source": [
        "ufo.Time.max() - ufo.Time.min()"
      ],
      "execution_count": 14,
      "outputs": [
        {
          "output_type": "execute_result",
          "data": {
            "text/plain": [
              "Timedelta('25781 days 01:59:00')"
            ]
          },
          "metadata": {
            "tags": []
          },
          "execution_count": 14
        }
      ]
    },
    {
      "cell_type": "markdown",
      "metadata": {
        "id": "c92-5W2sHVfi"
      },
      "source": [
        "Şimdi de, UFO ihbarlarının **yıllar** içerisinde sayısınının nasıl değiştiğini gösteren bir zaman serisi grafiği çizdirelim: "
      ]
    },
    {
      "cell_type": "code",
      "metadata": {
        "colab": {
          "base_uri": "https://localhost:8080/",
          "height": 204
        },
        "id": "PGAwdXgIHhWT",
        "outputId": "d21e8834-23e1-4e9c-ba53-ff7b0ccd4f78"
      },
      "source": [
        "%matplotlib inline\r\n",
        "\r\n",
        "ufo['Yıl'] = ufo.Time.dt.year\r\n",
        "ufo.head()\r\n"
      ],
      "execution_count": 15,
      "outputs": [
        {
          "output_type": "execute_result",
          "data": {
            "text/html": [
              "<div>\n",
              "<style scoped>\n",
              "    .dataframe tbody tr th:only-of-type {\n",
              "        vertical-align: middle;\n",
              "    }\n",
              "\n",
              "    .dataframe tbody tr th {\n",
              "        vertical-align: top;\n",
              "    }\n",
              "\n",
              "    .dataframe thead th {\n",
              "        text-align: right;\n",
              "    }\n",
              "</style>\n",
              "<table border=\"1\" class=\"dataframe\">\n",
              "  <thead>\n",
              "    <tr style=\"text-align: right;\">\n",
              "      <th></th>\n",
              "      <th>City</th>\n",
              "      <th>Colors Reported</th>\n",
              "      <th>Shape Reported</th>\n",
              "      <th>State</th>\n",
              "      <th>Time</th>\n",
              "      <th>Yıl</th>\n",
              "    </tr>\n",
              "  </thead>\n",
              "  <tbody>\n",
              "    <tr>\n",
              "      <th>0</th>\n",
              "      <td>Ithaca</td>\n",
              "      <td>NaN</td>\n",
              "      <td>TRIANGLE</td>\n",
              "      <td>NY</td>\n",
              "      <td>1930-06-01 22:00:00</td>\n",
              "      <td>1930</td>\n",
              "    </tr>\n",
              "    <tr>\n",
              "      <th>1</th>\n",
              "      <td>Willingboro</td>\n",
              "      <td>NaN</td>\n",
              "      <td>OTHER</td>\n",
              "      <td>NJ</td>\n",
              "      <td>1930-06-30 20:00:00</td>\n",
              "      <td>1930</td>\n",
              "    </tr>\n",
              "    <tr>\n",
              "      <th>2</th>\n",
              "      <td>Holyoke</td>\n",
              "      <td>NaN</td>\n",
              "      <td>OVAL</td>\n",
              "      <td>CO</td>\n",
              "      <td>1931-02-15 14:00:00</td>\n",
              "      <td>1931</td>\n",
              "    </tr>\n",
              "    <tr>\n",
              "      <th>3</th>\n",
              "      <td>Abilene</td>\n",
              "      <td>NaN</td>\n",
              "      <td>DISK</td>\n",
              "      <td>KS</td>\n",
              "      <td>1931-06-01 13:00:00</td>\n",
              "      <td>1931</td>\n",
              "    </tr>\n",
              "    <tr>\n",
              "      <th>4</th>\n",
              "      <td>New York Worlds Fair</td>\n",
              "      <td>NaN</td>\n",
              "      <td>LIGHT</td>\n",
              "      <td>NY</td>\n",
              "      <td>1933-04-18 19:00:00</td>\n",
              "      <td>1933</td>\n",
              "    </tr>\n",
              "  </tbody>\n",
              "</table>\n",
              "</div>"
            ],
            "text/plain": [
              "                   City Colors Reported  ...                Time   Yıl\n",
              "0                Ithaca             NaN  ... 1930-06-01 22:00:00  1930\n",
              "1           Willingboro             NaN  ... 1930-06-30 20:00:00  1930\n",
              "2               Holyoke             NaN  ... 1931-02-15 14:00:00  1931\n",
              "3               Abilene             NaN  ... 1931-06-01 13:00:00  1931\n",
              "4  New York Worlds Fair             NaN  ... 1933-04-18 19:00:00  1933\n",
              "\n",
              "[5 rows x 6 columns]"
            ]
          },
          "metadata": {
            "tags": []
          },
          "execution_count": 15
        }
      ]
    },
    {
      "cell_type": "markdown",
      "metadata": {
        "id": "aDYynd_5H-Di"
      },
      "source": [
        "`Yıl` sütununu elde ettik. Şimdi de value_counts() yöntemini çalıştırarak hangi yılda kaç tane değer (girdi) olduğunu görelim. Çıkan sayımı, index sırasına göre sıralayalım. Son olarak da plot() yöntemi ile çizgi grafiği ekrana verelim. : "
      ]
    },
    {
      "cell_type": "code",
      "metadata": {
        "colab": {
          "base_uri": "https://localhost:8080/",
          "height": 282
        },
        "id": "ua01vU3-IEMJ",
        "outputId": "52cf0ac5-0a75-4f63-d7d5-af8b6212c3e1"
      },
      "source": [
        "ufo.Yıl.value_counts().sort_index().plot()"
      ],
      "execution_count": 16,
      "outputs": [
        {
          "output_type": "execute_result",
          "data": {
            "text/plain": [
              "<matplotlib.axes._subplots.AxesSubplot at 0x7f6e352b0f28>"
            ]
          },
          "metadata": {
            "tags": []
          },
          "execution_count": 16
        },
        {
          "output_type": "display_data",
          "data": {
            "image/png": "[encoded data removed]",
            "text/plain": [
              "<Figure size 432x288 with 1 Axes>"
            ]
          },
          "metadata": {
            "tags": [],
            "needs_background": "light"
          }
        }
      ]
    },
    {
      "cell_type": "markdown",
      "metadata": {
        "id": "kmC5ummYJdbZ"
      },
      "source": [
        "## MERSİN IGS İSTASYONU UYGULAMASI\r\n",
        "\r\n",
        "İngilizcesi International GNSS Service olan **IGS**, GNSS verileri ile bu verilerden oluşturulan ürünleri kullanarak jeodezik ve jeofizik amaçlı GNSS uygulamalarını destekleyen ve ilgili standartları belirleyen bir kurumdur. Bunun yanında özellikle mühendislik amaçlı GNSS uygulamalarında da etkin olarak kullanılabilecek olan hassas yörünge bilgileri ve sabit GNSS noktalarına ait verileri tüm kullanıcılara sunabilen bir yapıya sahiptir. IGS bilimsel çalışmalar, jeodezik ve jeofizik uygulamalarında yeterli doğrulukta kullanılabilecek GNSS ölçülerinin toplanması, arşivlenmesi ile  dağıtımı görevini üstlenmiştir. IGS istasyonları, sabit olup sürekli çalışan ve GNSS uydularından gönderilen sinyalleri alıp kayıt edebilen istasyonlardır. \r\n",
        "\r\n",
        "Mersin Erdemli'de bulunan MERS-IGS istasyonu da, GNSS uydularına bağlanarak kendi anlık konumunu ve elipsoidal yüksekliğini ölçer. MERS_IGS veri setinde, bu istasyonun günlük ortalama konum ve yükseklik çözümlemesi ile kendi bilinen konum ve yüksekliği arasındaki değişimi (residual) gün gün görebileceksiniz. \r\n",
        "\r\n",
        "Bu veri setini pandas kütüphanesi ile yükleyip, zaman serisi için gereken ön işlemler gerçekleştirelim. "
      ]
    },
    {
      "cell_type": "code",
      "metadata": {
        "colab": {
          "base_uri": "https://localhost:8080/",
          "height": 204
        },
        "id": "BFxlC6F4KINa",
        "outputId": "03fff0f8-3664-490b-eded-b63047d6031a"
      },
      "source": [
        "df=pd.read_csv('https://raw.githubusercontent.com/caniban/MEU_Veri_Bilimi/main/unite%2012%20tarih%20saat%20analizi/MERS_IGS.csv')\r\n",
        "df.head()"
      ],
      "execution_count": 17,
      "outputs": [
        {
          "output_type": "execute_result",
          "data": {
            "text/html": [
              "<div>\n",
              "<style scoped>\n",
              "    .dataframe tbody tr th:only-of-type {\n",
              "        vertical-align: middle;\n",
              "    }\n",
              "\n",
              "    .dataframe tbody tr th {\n",
              "        vertical-align: top;\n",
              "    }\n",
              "\n",
              "    .dataframe thead th {\n",
              "        text-align: right;\n",
              "    }\n",
              "</style>\n",
              "<table border=\"1\" class=\"dataframe\">\n",
              "  <thead>\n",
              "    <tr style=\"text-align: right;\">\n",
              "      <th></th>\n",
              "      <th>epoch</th>\n",
              "      <th>longitude</th>\n",
              "      <th>latitude</th>\n",
              "      <th>height</th>\n",
              "      <th>year</th>\n",
              "      <th>month</th>\n",
              "      <th>day</th>\n",
              "      <th>hour</th>\n",
              "      <th>minute</th>\n",
              "      <th>second</th>\n",
              "    </tr>\n",
              "  </thead>\n",
              "  <tbody>\n",
              "    <tr>\n",
              "      <th>0</th>\n",
              "      <td>2000.700885</td>\n",
              "      <td>-0.274087</td>\n",
              "      <td>-0.310723</td>\n",
              "      <td>0.018408</td>\n",
              "      <td>2000</td>\n",
              "      <td>9</td>\n",
              "      <td>13</td>\n",
              "      <td>11</td>\n",
              "      <td>57</td>\n",
              "      <td>30</td>\n",
              "    </tr>\n",
              "    <tr>\n",
              "      <th>1</th>\n",
              "      <td>2000.703623</td>\n",
              "      <td>-0.276360</td>\n",
              "      <td>-0.307785</td>\n",
              "      <td>0.001392</td>\n",
              "      <td>2000</td>\n",
              "      <td>9</td>\n",
              "      <td>14</td>\n",
              "      <td>11</td>\n",
              "      <td>57</td>\n",
              "      <td>30</td>\n",
              "    </tr>\n",
              "    <tr>\n",
              "      <th>2</th>\n",
              "      <td>2000.706361</td>\n",
              "      <td>-0.278451</td>\n",
              "      <td>-0.308107</td>\n",
              "      <td>0.004704</td>\n",
              "      <td>2000</td>\n",
              "      <td>9</td>\n",
              "      <td>15</td>\n",
              "      <td>11</td>\n",
              "      <td>57</td>\n",
              "      <td>30</td>\n",
              "    </tr>\n",
              "    <tr>\n",
              "      <th>3</th>\n",
              "      <td>2000.709099</td>\n",
              "      <td>-0.276164</td>\n",
              "      <td>-0.308054</td>\n",
              "      <td>0.012086</td>\n",
              "      <td>2000</td>\n",
              "      <td>9</td>\n",
              "      <td>16</td>\n",
              "      <td>11</td>\n",
              "      <td>57</td>\n",
              "      <td>30</td>\n",
              "    </tr>\n",
              "    <tr>\n",
              "      <th>4</th>\n",
              "      <td>2000.711836</td>\n",
              "      <td>-0.275760</td>\n",
              "      <td>-0.308764</td>\n",
              "      <td>0.013968</td>\n",
              "      <td>2000</td>\n",
              "      <td>9</td>\n",
              "      <td>17</td>\n",
              "      <td>11</td>\n",
              "      <td>57</td>\n",
              "      <td>30</td>\n",
              "    </tr>\n",
              "  </tbody>\n",
              "</table>\n",
              "</div>"
            ],
            "text/plain": [
              "         epoch  longitude  latitude    height  ...  day  hour  minute  second\n",
              "0  2000.700885  -0.274087 -0.310723  0.018408  ...   13    11      57      30\n",
              "1  2000.703623  -0.276360 -0.307785  0.001392  ...   14    11      57      30\n",
              "2  2000.706361  -0.278451 -0.308107  0.004704  ...   15    11      57      30\n",
              "3  2000.709099  -0.276164 -0.308054  0.012086  ...   16    11      57      30\n",
              "4  2000.711836  -0.275760 -0.308764  0.013968  ...   17    11      57      30\n",
              "\n",
              "[5 rows x 10 columns]"
            ]
          },
          "metadata": {
            "tags": []
          },
          "execution_count": 17
        }
      ]
    },
    {
      "cell_type": "markdown",
      "metadata": {
        "id": "NJ58e4FtQkJi"
      },
      "source": [
        "Veri setinden görüleceği üzere yıl, ay, gün, saat, dakika ve saniye sütunları ayrı ayrı bulunmaktadır. Aynı zamanda, saat-dakika-saniye sütunları da aynı değeri göstermektedir. Demek ki, bu veri seti aslında günlük değerleri gösteren bir veri setidir. Bu sutunları kullanarak zaman serisi oluşturalım: "
      ]
    },
    {
      "cell_type": "code",
      "metadata": {
        "colab": {
          "base_uri": "https://localhost:8080/",
          "height": 204
        },
        "id": "VfyiWWh_KWat",
        "outputId": "09325b95-1095-4d61-a2af-5590e29c6e90"
      },
      "source": [
        "# datetime sütununu oluşturalım. gün, ay ve yıl sütunlarındaki tüm string verileri alıp, aralarında tire (-) koyarak yeni sütunumuza aktaralım. \r\n",
        "df['datetime'] = df['day'].map(str) + '-' + df['month'].map(str) + '-' + df['year'].map(str)\r\n",
        "# Oluşturduğumuz sütun string veriler içerdiği için, henüz zaman serisi değildir. pd.to_datetime fonksiyonu ile zaman serisine çevirelim.\r\n",
        "df['datetime']=pd.to_datetime(df['datetime'])\r\n",
        "# Veri setimizin ilk beş satırını tekrar gözden geçirelim. \r\n",
        "df.head()\r\n"
      ],
      "execution_count": 18,
      "outputs": [
        {
          "output_type": "execute_result",
          "data": {
            "text/html": [
              "<div>\n",
              "<style scoped>\n",
              "    .dataframe tbody tr th:only-of-type {\n",
              "        vertical-align: middle;\n",
              "    }\n",
              "\n",
              "    .dataframe tbody tr th {\n",
              "        vertical-align: top;\n",
              "    }\n",
              "\n",
              "    .dataframe thead th {\n",
              "        text-align: right;\n",
              "    }\n",
              "</style>\n",
              "<table border=\"1\" class=\"dataframe\">\n",
              "  <thead>\n",
              "    <tr style=\"text-align: right;\">\n",
              "      <th></th>\n",
              "      <th>epoch</th>\n",
              "      <th>longitude</th>\n",
              "      <th>latitude</th>\n",
              "      <th>height</th>\n",
              "      <th>year</th>\n",
              "      <th>month</th>\n",
              "      <th>day</th>\n",
              "      <th>hour</th>\n",
              "      <th>minute</th>\n",
              "      <th>second</th>\n",
              "      <th>datetime</th>\n",
              "    </tr>\n",
              "  </thead>\n",
              "  <tbody>\n",
              "    <tr>\n",
              "      <th>0</th>\n",
              "      <td>2000.700885</td>\n",
              "      <td>-0.274087</td>\n",
              "      <td>-0.310723</td>\n",
              "      <td>0.018408</td>\n",
              "      <td>2000</td>\n",
              "      <td>9</td>\n",
              "      <td>13</td>\n",
              "      <td>11</td>\n",
              "      <td>57</td>\n",
              "      <td>30</td>\n",
              "      <td>2000-09-13</td>\n",
              "    </tr>\n",
              "    <tr>\n",
              "      <th>1</th>\n",
              "      <td>2000.703623</td>\n",
              "      <td>-0.276360</td>\n",
              "      <td>-0.307785</td>\n",
              "      <td>0.001392</td>\n",
              "      <td>2000</td>\n",
              "      <td>9</td>\n",
              "      <td>14</td>\n",
              "      <td>11</td>\n",
              "      <td>57</td>\n",
              "      <td>30</td>\n",
              "      <td>2000-09-14</td>\n",
              "    </tr>\n",
              "    <tr>\n",
              "      <th>2</th>\n",
              "      <td>2000.706361</td>\n",
              "      <td>-0.278451</td>\n",
              "      <td>-0.308107</td>\n",
              "      <td>0.004704</td>\n",
              "      <td>2000</td>\n",
              "      <td>9</td>\n",
              "      <td>15</td>\n",
              "      <td>11</td>\n",
              "      <td>57</td>\n",
              "      <td>30</td>\n",
              "      <td>2000-09-15</td>\n",
              "    </tr>\n",
              "    <tr>\n",
              "      <th>3</th>\n",
              "      <td>2000.709099</td>\n",
              "      <td>-0.276164</td>\n",
              "      <td>-0.308054</td>\n",
              "      <td>0.012086</td>\n",
              "      <td>2000</td>\n",
              "      <td>9</td>\n",
              "      <td>16</td>\n",
              "      <td>11</td>\n",
              "      <td>57</td>\n",
              "      <td>30</td>\n",
              "      <td>2000-09-16</td>\n",
              "    </tr>\n",
              "    <tr>\n",
              "      <th>4</th>\n",
              "      <td>2000.711836</td>\n",
              "      <td>-0.275760</td>\n",
              "      <td>-0.308764</td>\n",
              "      <td>0.013968</td>\n",
              "      <td>2000</td>\n",
              "      <td>9</td>\n",
              "      <td>17</td>\n",
              "      <td>11</td>\n",
              "      <td>57</td>\n",
              "      <td>30</td>\n",
              "      <td>2000-09-17</td>\n",
              "    </tr>\n",
              "  </tbody>\n",
              "</table>\n",
              "</div>"
            ],
            "text/plain": [
              "         epoch  longitude  latitude    height  ...  hour  minute  second   datetime\n",
              "0  2000.700885  -0.274087 -0.310723  0.018408  ...    11      57      30 2000-09-13\n",
              "1  2000.703623  -0.276360 -0.307785  0.001392  ...    11      57      30 2000-09-14\n",
              "2  2000.706361  -0.278451 -0.308107  0.004704  ...    11      57      30 2000-09-15\n",
              "3  2000.709099  -0.276164 -0.308054  0.012086  ...    11      57      30 2000-09-16\n",
              "4  2000.711836  -0.275760 -0.308764  0.013968  ...    11      57      30 2000-09-17\n",
              "\n",
              "[5 rows x 11 columns]"
            ]
          },
          "metadata": {
            "tags": []
          },
          "execution_count": 18
        }
      ]
    },
    {
      "cell_type": "code",
      "metadata": {
        "colab": {
          "base_uri": "https://localhost:8080/"
        },
        "id": "1W-vS2k_M9mc",
        "outputId": "3619fefe-4c0b-4d16-ef65-abbf9859562a"
      },
      "source": [
        "# Veri setimizin her sütununda bulunan veri tipini inceleyelim.\r\n",
        "df.info()"
      ],
      "execution_count": 19,
      "outputs": [
        {
          "output_type": "stream",
          "text": [
            "<class 'pandas.core.frame.DataFrame'>\n",
            "RangeIndex: 3619 entries, 0 to 3618\n",
            "Data columns (total 11 columns):\n",
            " #   Column     Non-Null Count  Dtype         \n",
            "---  ------     --------------  -----         \n",
            " 0   epoch      3619 non-null   float64       \n",
            " 1   longitude  3619 non-null   float64       \n",
            " 2   latitude   3619 non-null   float64       \n",
            " 3   height     3619 non-null   float64       \n",
            " 4   year       3619 non-null   int64         \n",
            " 5   month      3619 non-null   int64         \n",
            " 6   day        3619 non-null   int64         \n",
            " 7   hour       3619 non-null   int64         \n",
            " 8   minute     3619 non-null   int64         \n",
            " 9   second     3619 non-null   int64         \n",
            " 10  datetime   3619 non-null   datetime64[ns]\n",
            "dtypes: datetime64[ns](1), float64(4), int64(6)\n",
            "memory usage: 311.1 KB\n"
          ],
          "name": "stdout"
        }
      ]
    },
    {
      "cell_type": "markdown",
      "metadata": {
        "id": "mf1fX7fiRYYL"
      },
      "source": [
        "Zaman serisi hazır olduğuna göre artık görselleştirme işlemine başlayabiliriz. Boylam (Longitude), Enlem (Latidute) ve Yükseklik (Height) değişimlerini tek bir grafik üzerinde ayrı ayrı renklerde çizdirelim.\r\n",
        "\r\n",
        "Grafiğin X ekseni her zaman `datetime` sütunu olacaktır. Y eksenine de sırasıyla boylam, enlem ve yükseklik verileri yerleşecektir.\r\n",
        "\r\n",
        "Grafiğimizin başlığını, eksen isimlerini ve lejantını da unutmayalım: "
      ]
    },
    {
      "cell_type": "code",
      "metadata": {
        "colab": {
          "base_uri": "https://localhost:8080/",
          "height": 513
        },
        "id": "39X7VF61NEkk",
        "outputId": "f82e91c6-011d-428f-f2e1-09da4fc87e7d"
      },
      "source": [
        "import matplotlib.pyplot as plt\r\n",
        "\r\n",
        "plt.figure(figsize=(10, 8))\r\n",
        "plt.plot(df['datetime'], df['longitude'], 'b.', label = 'Longitude')\r\n",
        "plt.plot(df['datetime'], df['latitude'], 'r.', label = 'Latitude')\r\n",
        "plt.plot(df['datetime'],df['height'],'y.',label='Height')\r\n",
        "plt.xlabel('Years'); plt.ylabel('Residual (in meters)'); plt.title('Mers IGS Residual')\r\n",
        "plt.legend();\r\n"
      ],
      "execution_count": 20,
      "outputs": [
        {
          "output_type": "display_data",
          "data": {
            "image/png": "[encoded data removed]",
            "text/plain": [
              "<Figure size 720x576 with 1 Axes>"
            ]
          },
          "metadata": {
            "tags": [],
            "needs_background": "light"
          }
        }
      ]
    }
  ]
}