{
 "cells": [
  {
   "cell_type": "markdown",
   "metadata": {},
   "source": [
    "# ÜNİTE 7- Fonksiyonlar\n",
    "\n",
    "## 1. Kullanıcı Tanımlı Fonksiyonlar\n",
    "\n",
    "Şimdiye kadar Python'da daha önceden tanımlanmış, hazır bulunan, gömülü (built-in) fonksiyonları kullandık (float, in, print, input, type, sum, len, min ve max vb.). Bu hazır fonksiyonların her biri, tek bir işlemle iyi tanımlanmış bir görevi yerine getirmektedir. Sık sık bu hazır fonksiyonları kullanmaktayız. Ancak kullanıcı amaçlarına göre kendi fonksiyonlarımızı oluşturarak  programlama serüvenimizde işlemlerimizi daha hızlı bir şekilde gerçekleştirebilir. \n",
    "\n",
    "Bir fonksiyonu tanımlamaya başlarken ilk olarak `def ` ifadesi kullanılır. Daha sonra ise fonksiyona vereceğimiz ismi yazmamız gerekir. Dört sayısının karesini alan bir fonksiyon oluşturalım."
   ]
  },
  {
   "cell_type": "code",
   "execution_count": 1,
   "metadata": {},
   "outputs": [],
   "source": [
    "def kare():  # Bu kısım oluşturduğumuz fonksiyonun baş kısmıdır. \n",
    "    yeni_deger = 4 ** 2   # Bu kısım fonksiyonun gövdesidir.\n",
    "    print(yeni_deger)"
   ]
  },
  {
   "cell_type": "markdown",
   "metadata": {},
   "source": [
    "Fonksiyonun tanımını yaptıktan sonra, bu fonksiyonun çıktısını ekrana verelim. "
   ]
  },
  {
   "cell_type": "code",
   "execution_count": 2,
   "metadata": {},
   "outputs": [
    {
     "name": "stdout",
     "output_type": "stream",
     "text": [
      "16\n"
     ]
    }
   ],
   "source": [
    "kare()"
   ]
  },
  {
   "cell_type": "markdown",
   "metadata": {},
   "source": [
    "Görüleceği üzere kullanıcının hedefi olan 4 sayısının karesini alan bir programı oluşturduk. `def kare():` kullanımında parantez içini boş bıraktık. Burada fonksiyonun kullanıcı tarafından verilmesi gereken bir veriye ihtiyaç duymadan, 4 sayısının doğrudan karesini alacağını anlayabiliriz. Ancak, programlama işlerimizde sadece 4 sayısının karesini alan bir fonksiyon oluşturmak verimsiz olacaktır. Kullanıcı tarafından girilen sayının karesini alan bir fonksiyon oluşturmak daha anlamlı olacaktır. Dolayısıyla boş parantez yerine, parantez içini fonksiyonun gövdesindeki işleme girecek bir değişken ile doldurmamız gerekecektir. "
   ]
  },
  {
   "cell_type": "code",
   "execution_count": 3,
   "metadata": {},
   "outputs": [
    {
     "name": "stdout",
     "output_type": "stream",
     "text": [
      "9\n"
     ]
    }
   ],
   "source": [
    "def kare(deger): \n",
    "    yeni_deger = deger ** 2\n",
    "    print(yeni_deger)\n",
    "    \n",
    "kare(3)"
   ]
  },
  {
   "cell_type": "code",
   "execution_count": 4,
   "metadata": {},
   "outputs": [
    {
     "name": "stdout",
     "output_type": "stream",
     "text": [
      "25\n"
     ]
    }
   ],
   "source": [
    "kare(5)"
   ]
  },
  {
   "cell_type": "markdown",
   "metadata": {},
   "source": [
    "Yukarıdaki fonksiyon tanımı gövdesinde `print` fonksiyonunu kullandık. Ancak fonksiyondan çıkan tek bir değeri ekrana yazdırmak yerine, fonksiyon tanımının gövdesinde gerçekleşen tüm işlemlerin sonucunu kullanmak daha mantıklı bir kullanım olacaktır. Bu sonucu kullanmak için `return` ifadesi kullanılır. `return` ifadesi ile birlikte fonksiyon tanımı sonlanmaktadır. Örneğin:"
   ]
  },
  {
   "cell_type": "code",
   "execution_count": 5,
   "metadata": {},
   "outputs": [],
   "source": [
    "def kare(deger): \n",
    "    yeni_deger = deger ** 2\n",
    "    return yeni_deger"
   ]
  },
  {
   "cell_type": "code",
   "execution_count": 6,
   "metadata": {},
   "outputs": [
    {
     "name": "stdout",
     "output_type": "stream",
     "text": [
      "36\n"
     ]
    }
   ],
   "source": [
    "sayi = kare(6)\n",
    "print(sayi)"
   ]
  },
  {
   "cell_type": "markdown",
   "metadata": {},
   "source": [
    "## 2. Çok Parametreli Fonksiyonlar\n",
    "\n",
    "Fonksiyon tanımı yaparken, kullanıcının kullanmak istediği birden fazla parametre olabilir. Bir önceki örnekte, kullanıcının parantez içine girdiği sayının karesini alan bir fonksiyon tasarlamıştık. Şimdi ise, kullanıcının girdiği bu sayının yine kullanıcının girdiği bir sayı derecesinden üssünü hesaplamak isteyelim. Bunun için, fonksiyon tanımı yapılırken parantez içinde birden fazla parametre girmemiz gerekir."
   ]
  },
  {
   "cell_type": "code",
   "execution_count": 7,
   "metadata": {},
   "outputs": [
    {
     "data": {
      "text/plain": [
       "8"
      ]
     },
     "execution_count": 7,
     "metadata": {},
     "output_type": "execute_result"
    }
   ],
   "source": [
    "def us_alma(sayi1, sayi2): \n",
    "    hesap = sayi1 ** sayi2\n",
    "    return hesap\n",
    "\n",
    "us_alma(2,3)"
   ]
  },
  {
   "cell_type": "markdown",
   "metadata": {},
   "source": [
    "Bu örnekte, kullanıcının girdiği iki değer üzerinden tek bir işlem yapılmış. Yani, 2 sayısının 3. dereceden üssü alındı. Peki yine tek bir fonksiyon kullanarak, hem 2'nin 3. dereceden üssünü, hem de 3'ün 2.ci dereceden üssünü hesaplayan ve sonucu bir demet (tuple) olarak veren fonksiyon tasarımı yapmamız mümkün mü? İnceleyelim. "
   ]
  },
  {
   "cell_type": "code",
   "execution_count": 8,
   "metadata": {},
   "outputs": [
    {
     "data": {
      "text/plain": [
       "(8, 9)"
      ]
     },
     "execution_count": 8,
     "metadata": {},
     "output_type": "execute_result"
    }
   ],
   "source": [
    "def ikili_us_alma(sayi1, sayi2): \n",
    "    hesap1 = sayi1 ** sayi2\n",
    "    hesap2 = sayi2 ** sayi1\n",
    "    return (hesap1,hesap2)\n",
    "\n",
    "ikili_us_alma(2,3)"
   ]
  },
  {
   "cell_type": "markdown",
   "metadata": {},
   "source": [
    "Görüleceği üzere, istediğimiz iki işlemi de yapan ve sonuçları bir dizi olarak veren fonksiyonu oluşturduk. "
   ]
  },
  {
   "cell_type": "markdown",
   "metadata": {},
   "source": [
    "`us_alma` fonksiyonuna geri dönelim. Bu fonksiyonu çok sık kullandığımızı ve sıklıkla da bir sayının ikinci dereceden üssünü hesapladığımızı düşünelim. Fonksiyon argümanlarından `sayi2` değerini girmediğimizde, programın `sayi2` değerini `2` olarak algılamasını da sağlayabiliriz. `sayi2` değeri girildiğinde ise, girilen değeri göre işlem yapılacaktır. Python'da \"varsayılan\" (default) değeri oluşturmak olanaklıdır. `us_alma` fonksiyonumuzu yeniden tanımlayalım."
   ]
  },
  {
   "cell_type": "code",
   "execution_count": 9,
   "metadata": {},
   "outputs": [
    {
     "name": "stdout",
     "output_type": "stream",
     "text": [
      "100\n"
     ]
    }
   ],
   "source": [
    "def us_alma(sayi1, sayi2 = 2):\n",
    "    return sayi1**sayi2\n",
    "\n",
    "print(us_alma(10))"
   ]
  },
  {
   "cell_type": "code",
   "execution_count": 10,
   "metadata": {},
   "outputs": [
    {
     "name": "stdout",
     "output_type": "stream",
     "text": [
      "64\n"
     ]
    }
   ],
   "source": [
    "print(us_alma(4,3))"
   ]
  },
  {
   "cell_type": "markdown",
   "metadata": {},
   "source": [
    "Görüleceği üzere, `sayi2` değeri girilmediğinde fonksiyon argümanlarında varsayılan değer olarak girilen 2 sayısı üzerinden üs alma işlemi uygulanmaktadır. `sayi2` değerinde 2'den farklı olarak girildiğinde ise, girilen bu değer ile üs alma işlemi uygulanmaktadır."
   ]
  },
  {
   "cell_type": "markdown",
   "metadata": {},
   "source": [
    "## 3. Esnek Argümanlar\n",
    "\n",
    "Python'da fonksiyon tanımı yapılırken \"esnek argümanlar\" da oluşturulabilir. Esnek argümandan kastedilen, fonksiyonun istediğimiz sayıda ve tipte argümanı işleme sokmasını sağlayan bir tasarıma sahip olmasıdır. Bunun için fonksiyon tanımlanırken, argüman olarak parantez içine `*args` yazılması gerekmektedir. Örnek olarak girilen bir sayı dizisindeki tüm sayıları toplayan bir fonksiyon oluşturalım:"
   ]
  },
  {
   "cell_type": "code",
   "execution_count": 11,
   "metadata": {},
   "outputs": [],
   "source": [
    "def hepsini_topla(*args):\n",
    "    # Toplama işlemi başlangıcı olarak toplamı sıfır kabul edelim.\n",
    "    toplam = 0\n",
    "    # Fonksiyona argüman değeri olarak girecek tüm sayıları peş peşe bu toplama ekleyelim.\n",
    "    for sayi in args:\n",
    "        toplam += sayi\n",
    "    return toplam"
   ]
  },
  {
   "cell_type": "code",
   "execution_count": 12,
   "metadata": {},
   "outputs": [
    {
     "name": "stdout",
     "output_type": "stream",
     "text": [
      "1\n"
     ]
    }
   ],
   "source": [
    "print(hepsini_topla(1))"
   ]
  },
  {
   "cell_type": "code",
   "execution_count": 13,
   "metadata": {},
   "outputs": [
    {
     "name": "stdout",
     "output_type": "stream",
     "text": [
      "3\n"
     ]
    }
   ],
   "source": [
    "print(hepsini_topla(1,2))"
   ]
  },
  {
   "cell_type": "code",
   "execution_count": 14,
   "metadata": {},
   "outputs": [
    {
     "name": "stdout",
     "output_type": "stream",
     "text": [
      "6\n"
     ]
    }
   ],
   "source": [
    "print(hepsini_topla(1,2,3))"
   ]
  },
  {
   "cell_type": "markdown",
   "metadata": {},
   "source": [
    "Bir örnek de string veri yapıları için yapalım:"
   ]
  },
  {
   "cell_type": "code",
   "execution_count": 16,
   "metadata": {},
   "outputs": [],
   "source": [
    "def kisi_olustur(*args):\n",
    "    kisi =\"\"\n",
    "    for girdi in args:\n",
    "        kisi = kisi + \" \" + girdi\n",
    "    return kisi"
   ]
  },
  {
   "cell_type": "code",
   "execution_count": 19,
   "metadata": {},
   "outputs": [
    {
     "name": "stdout",
     "output_type": "stream",
     "text": [
      " Can\n"
     ]
    }
   ],
   "source": [
    "print(kisi_olustur(\"Can\"))"
   ]
  },
  {
   "cell_type": "code",
   "execution_count": 20,
   "metadata": {},
   "outputs": [
    {
     "name": "stdout",
     "output_type": "stream",
     "text": [
      " Can İban\n"
     ]
    }
   ],
   "source": [
    "print(kisi_olustur(\"Can\", \"İban\"))"
   ]
  },
  {
   "cell_type": "code",
   "execution_count": 21,
   "metadata": {},
   "outputs": [
    {
     "name": "stdout",
     "output_type": "stream",
     "text": [
      " Can İban Mersin 1988 caniban@mersin.edu.tr\n"
     ]
    }
   ],
   "source": [
    "print(kisi_olustur(\"Can\", \"İban\", \"Mersin\", \"1988\", \"caniban@mersin.edu.tr\"))"
   ]
  },
  {
   "cell_type": "markdown",
   "metadata": {},
   "source": [
    "Dikkat: Argümanı esnek kılan * işaretidir. *args yerine, *argüman yazarsanız da aynı sonucu elde edersiniz. Deneyelim:"
   ]
  },
  {
   "cell_type": "code",
   "execution_count": 22,
   "metadata": {},
   "outputs": [
    {
     "name": "stdout",
     "output_type": "stream",
     "text": [
      " Can İban Mersin 1988 caniban@mersin.edu.tr\n"
     ]
    }
   ],
   "source": [
    "def kisi_olustur(*argüman):\n",
    "    kisi =\"\"\n",
    "    for girdi in argüman:\n",
    "        kisi = kisi + \" \" + girdi\n",
    "    return kisi\n",
    "print(kisi_olustur(\"Can\", \"İban\", \"Mersin\", \"1988\", \"caniban@mersin.edu.tr\"))"
   ]
  },
  {
   "cell_type": "markdown",
   "metadata": {},
   "source": [
    "## 4. Fonksiyonlarda Kapsam (Scope)\n",
    "\n",
    "Kodun her yerinde her nesneye erişim sağlanamaz. Hangi nesneye programın neresinde erişim sağlanacağını kapsam (scope) ile belirleyebilmekteyiz. \n",
    "\n",
    "Genel (Global) Kapsam: Programın ana gövdesinde erişilebilir nesneleri kapsar.\n",
    "Yerel (Local) Kapsam: Program yazımında sadece fonksiyon içinde erişilebilir nesneleri kapsar. \n",
    "Gömülü (Built-in) Kapsam: Python'da halihazırda bulunan gömülü (built-in) fonksiyonları kapsar. Örneğin, `min()`, `len()` gibi fonksiyonlar. \n",
    "\n",
    "Genel ve yerel kapsamın arasındaki farkı inceleyelim:"
   ]
  },
  {
   "cell_type": "code",
   "execution_count": 23,
   "metadata": {},
   "outputs": [
    {
     "data": {
      "text/plain": [
       "9"
      ]
     },
     "execution_count": 23,
     "metadata": {},
     "output_type": "execute_result"
    }
   ],
   "source": [
    "def kare_al(deger):\n",
    "    yeni_deger = deger ** 2\n",
    "    return yeni_deger\n",
    "\n",
    "kare_al(3)"
   ]
  },
  {
   "cell_type": "markdown",
   "metadata": {},
   "source": [
    "Fonksiyonun içinde kullandığımız `yeni_deger` değişkenini ekrana vermeye çalışalım. "
   ]
  },
  {
   "cell_type": "code",
   "execution_count": 24,
   "metadata": {},
   "outputs": [
    {
     "ename": "NameError",
     "evalue": "name 'yeni_deger' is not defined",
     "output_type": "error",
     "traceback": [
      "\u001b[1;31m---------------------------------------------------------------------------\u001b[0m",
      "\u001b[1;31mNameError\u001b[0m                                 Traceback (most recent call last)",
      "\u001b[1;32m<ipython-input-24-58ce13dbc16b>\u001b[0m in \u001b[0;36m<module>\u001b[1;34m\u001b[0m\n\u001b[1;32m----> 1\u001b[1;33m \u001b[0mprint\u001b[0m\u001b[1;33m(\u001b[0m\u001b[0myeni_deger\u001b[0m\u001b[1;33m)\u001b[0m\u001b[1;33m\u001b[0m\u001b[1;33m\u001b[0m\u001b[0m\n\u001b[0m",
      "\u001b[1;31mNameError\u001b[0m: name 'yeni_deger' is not defined"
     ]
    }
   ],
   "source": [
    "print(yeni_deger)"
   ]
  },
  {
   "cell_type": "markdown",
   "metadata": {},
   "source": [
    "Görüleceği üzere bu değişkenin tanımının olmadığına dair bir hata mesajı aldık. Bu da demek oluyor ki, fonksiyonu tanımlarken kullandığımı yeni_deger nesnesi genel kapsam dahilinde değildir. yeni_deger nesnesine, fonksiyon tanımı dışında bir değer atayalım."
   ]
  },
  {
   "cell_type": "code",
   "execution_count": 25,
   "metadata": {},
   "outputs": [
    {
     "data": {
      "text/plain": [
       "9"
      ]
     },
     "execution_count": 25,
     "metadata": {},
     "output_type": "execute_result"
    }
   ],
   "source": [
    "yeni_deger = 20\n",
    "def kare_al(deger):\n",
    "    yeni_deger = deger ** 2\n",
    "    return yeni_deger\n",
    "\n",
    "kare_al(3)"
   ]
  },
  {
   "cell_type": "code",
   "execution_count": 26,
   "metadata": {},
   "outputs": [
    {
     "name": "stdout",
     "output_type": "stream",
     "text": [
      "20\n"
     ]
    }
   ],
   "source": [
    "print(yeni_deger)"
   ]
  },
  {
   "cell_type": "markdown",
   "metadata": {},
   "source": [
    "Fonksiyonun içinde aynı isme sahip nesne olmasına rağmen, Python dili yeni_deger nesnesine önceden atanan değeri genel kapsamda algılar ve ekrana verdiğimizde 20 değerini gösterir. "
   ]
  },
  {
   "cell_type": "code",
   "execution_count": 27,
   "metadata": {},
   "outputs": [
    {
     "data": {
      "text/plain": [
       "9"
      ]
     },
     "execution_count": 27,
     "metadata": {},
     "output_type": "execute_result"
    }
   ],
   "source": [
    "yeni_deger = 10\n",
    "def kare_al(deger):\n",
    "    global yeni_deger\n",
    "    yeni_deger = deger ** 2\n",
    "    return yeni_deger\n",
    "kare_al(3)"
   ]
  },
  {
   "cell_type": "code",
   "execution_count": 28,
   "metadata": {},
   "outputs": [
    {
     "data": {
      "text/plain": [
       "9"
      ]
     },
     "execution_count": 28,
     "metadata": {},
     "output_type": "execute_result"
    }
   ],
   "source": [
    "yeni_deger"
   ]
  },
  {
   "cell_type": "markdown",
   "metadata": {},
   "source": [
    "Yeniden yazdığımız fonksiyon tanımı içerisinde yeni_deger değişkeninin önüne global anahtar sözcüğünü koyarak, bu nesnenin genel kapsama alınmasını sağladık. Böylece, fonksiyon dışında da bu nesne üzerinde işlem yapmak istediğimizde, önceden girilmiş olan 10 değeri yerine, fonksiyon içinde hesaplanmış 9 değerine dönüştüğünü görebilmekteyiz. "
   ]
  },
  {
   "cell_type": "markdown",
   "metadata": {},
   "source": [
    "Çalışma arayüzümüzde gömülü kapsamdaki nesneleri görebilmek için builtins modülünü içeri aktarmamız yeterli olacaktır. "
   ]
  },
  {
   "cell_type": "code",
   "execution_count": 29,
   "metadata": {},
   "outputs": [
    {
     "data": {
      "text/plain": [
       "['ArithmeticError',\n",
       " 'AssertionError',\n",
       " 'AttributeError',\n",
       " 'BaseException',\n",
       " 'BlockingIOError',\n",
       " 'BrokenPipeError',\n",
       " 'BufferError',\n",
       " 'BytesWarning',\n",
       " 'ChildProcessError',\n",
       " 'ConnectionAbortedError',\n",
       " 'ConnectionError',\n",
       " 'ConnectionRefusedError',\n",
       " 'ConnectionResetError',\n",
       " 'DeprecationWarning',\n",
       " 'EOFError',\n",
       " 'Ellipsis',\n",
       " 'EnvironmentError',\n",
       " 'Exception',\n",
       " 'False',\n",
       " 'FileExistsError',\n",
       " 'FileNotFoundError',\n",
       " 'FloatingPointError',\n",
       " 'FutureWarning',\n",
       " 'GeneratorExit',\n",
       " 'IOError',\n",
       " 'ImportError',\n",
       " 'ImportWarning',\n",
       " 'IndentationError',\n",
       " 'IndexError',\n",
       " 'InterruptedError',\n",
       " 'IsADirectoryError',\n",
       " 'KeyError',\n",
       " 'KeyboardInterrupt',\n",
       " 'LookupError',\n",
       " 'MemoryError',\n",
       " 'ModuleNotFoundError',\n",
       " 'NameError',\n",
       " 'None',\n",
       " 'NotADirectoryError',\n",
       " 'NotImplemented',\n",
       " 'NotImplementedError',\n",
       " 'OSError',\n",
       " 'OverflowError',\n",
       " 'PendingDeprecationWarning',\n",
       " 'PermissionError',\n",
       " 'ProcessLookupError',\n",
       " 'RecursionError',\n",
       " 'ReferenceError',\n",
       " 'ResourceWarning',\n",
       " 'RuntimeError',\n",
       " 'RuntimeWarning',\n",
       " 'StopAsyncIteration',\n",
       " 'StopIteration',\n",
       " 'SyntaxError',\n",
       " 'SyntaxWarning',\n",
       " 'SystemError',\n",
       " 'SystemExit',\n",
       " 'TabError',\n",
       " 'TimeoutError',\n",
       " 'True',\n",
       " 'TypeError',\n",
       " 'UnboundLocalError',\n",
       " 'UnicodeDecodeError',\n",
       " 'UnicodeEncodeError',\n",
       " 'UnicodeError',\n",
       " 'UnicodeTranslateError',\n",
       " 'UnicodeWarning',\n",
       " 'UserWarning',\n",
       " 'ValueError',\n",
       " 'Warning',\n",
       " 'WindowsError',\n",
       " 'ZeroDivisionError',\n",
       " '__IPYTHON__',\n",
       " '__build_class__',\n",
       " '__debug__',\n",
       " '__doc__',\n",
       " '__import__',\n",
       " '__loader__',\n",
       " '__name__',\n",
       " '__package__',\n",
       " '__spec__',\n",
       " 'abs',\n",
       " 'all',\n",
       " 'any',\n",
       " 'ascii',\n",
       " 'bin',\n",
       " 'bool',\n",
       " 'breakpoint',\n",
       " 'bytearray',\n",
       " 'bytes',\n",
       " 'callable',\n",
       " 'chr',\n",
       " 'classmethod',\n",
       " 'compile',\n",
       " 'complex',\n",
       " 'copyright',\n",
       " 'credits',\n",
       " 'delattr',\n",
       " 'dict',\n",
       " 'dir',\n",
       " 'display',\n",
       " 'divmod',\n",
       " 'enumerate',\n",
       " 'eval',\n",
       " 'exec',\n",
       " 'filter',\n",
       " 'float',\n",
       " 'format',\n",
       " 'frozenset',\n",
       " 'get_ipython',\n",
       " 'getattr',\n",
       " 'globals',\n",
       " 'hasattr',\n",
       " 'hash',\n",
       " 'help',\n",
       " 'hex',\n",
       " 'id',\n",
       " 'input',\n",
       " 'int',\n",
       " 'isinstance',\n",
       " 'issubclass',\n",
       " 'iter',\n",
       " 'len',\n",
       " 'license',\n",
       " 'list',\n",
       " 'locals',\n",
       " 'map',\n",
       " 'max',\n",
       " 'memoryview',\n",
       " 'min',\n",
       " 'next',\n",
       " 'object',\n",
       " 'oct',\n",
       " 'open',\n",
       " 'ord',\n",
       " 'pow',\n",
       " 'print',\n",
       " 'property',\n",
       " 'range',\n",
       " 'repr',\n",
       " 'reversed',\n",
       " 'round',\n",
       " 'set',\n",
       " 'setattr',\n",
       " 'slice',\n",
       " 'sorted',\n",
       " 'staticmethod',\n",
       " 'str',\n",
       " 'sum',\n",
       " 'super',\n",
       " 'tuple',\n",
       " 'type',\n",
       " 'vars',\n",
       " 'zip']"
      ]
     },
     "execution_count": 29,
     "metadata": {},
     "output_type": "execute_result"
    }
   ],
   "source": [
    "import builtins\n",
    "dir(builtins)"
   ]
  },
  {
   "cell_type": "markdown",
   "metadata": {},
   "source": [
    "## 5. İç İçe Fonksiyonlar (Nested Functions)\n",
    "\n"
   ]
  },
  {
   "cell_type": "code",
   "execution_count": 30,
   "metadata": {},
   "outputs": [
    {
     "name": "stdout",
     "output_type": "stream",
     "text": [
      "('a!!!', 'b!!!', 'c!!!')\n"
     ]
    }
   ],
   "source": [
    "# Ünlem oluşturan bir fonksiyon tasarlayalım.\n",
    "def unlem(kelime1, kelime2, kelime3):\n",
    "    \"\"\"Her bir sözcüğün sonuna !!! eklenmiş stringlerden oluşan bir demet (tuple) üretir\"\"\"\n",
    "\n",
    "    # İç fonksiyonun tanımı\n",
    "    def ic_fonk(kelime):\n",
    "        \"\"\"Her sözcüğün sonuna !!! ekler\"\"\"\n",
    "        return kelime + '!!!'\n",
    "\n",
    "    # Stringlerden oluşan demeti oluşturalım.\n",
    "    return (ic_fonk(kelime1), ic_fonk(kelime2), ic_fonk(kelime3))\n",
    "\n",
    "# unlem fonksiyonunu çağıralım ve ekrana verelim. \n",
    "print(unlem('a', 'b', 'c'))"
   ]
  },
  {
   "cell_type": "markdown",
   "metadata": {},
   "source": [
    "Görüleceği üzere bir fonksiyon tasarımı yaparken, bazen o fonksiyonun çalışması için içeride başka fonksiyonlar hazırlamak gerekebilir. Üstteki örnekte, dışarıdaki fonksiyon her bir kelimenin sonuna !!! vurgusunun yapıldığı kelimelerden oluşan bir demet üretecektir. Ancak, girilen kelimelerin sonuna !!! ekleme işlemi içerideki fonksiyon tarafından yapılmaktadır. İçteki fonksiyon, kelimelere !!! ekleme işleminin ardından oluşan elemanlar, dıştaki fonksiyon tarafından demet haline getirilir. "
   ]
  },
  {
   "cell_type": "markdown",
   "metadata": {},
   "source": [
    "## 6. Lambda Fonksiyonları\n",
    "\n",
    "Python dilinde her zaman uzun uzun fonksiyon tanımı yapmak yerine, kod yazımının içinde hızlı bir şekilde fonksiyon tanımlamak da mümkündür. Bu anlık fonksiyonlara lambda fonksiyonları ismi verilmektedir. Lambda fonksiyonları bir isme bile gereksinim duymazlar. Bu fonksiyonları, ancak ve ancak, anlık olarak kullanmak isteyeceğimiz, kodumuzun içerisinde tek bir yerde işimize yarayan yerlerde kullanmalıyız. Lambda fonksiyonları, aşağıdaki dizilimle yazılır:\n",
    "\n",
    "    fonksiyon ismi = lambda argümanlar:  fonksiyon ifadesi\n",
    "    \n",
    "Örneğin;"
   ]
  },
  {
   "cell_type": "code",
   "execution_count": 31,
   "metadata": {},
   "outputs": [
    {
     "data": {
      "text/plain": [
       "64"
      ]
     },
     "execution_count": 31,
     "metadata": {},
     "output_type": "execute_result"
    }
   ],
   "source": [
    "us_al = lambda x,y: x**y\n",
    "us_al(2,6)"
   ]
  },
  {
   "cell_type": "code",
   "execution_count": 32,
   "metadata": {},
   "outputs": [
    {
     "name": "stdout",
     "output_type": "stream",
     "text": [
      "20\n"
     ]
    }
   ],
   "source": [
    "x = lambda a,b: a if a>b else b\n",
    "y = x(20,5)\n",
    "\n",
    "print(y)"
   ]
  },
  {
   "cell_type": "markdown",
   "metadata": {},
   "source": [
    "Lambda fonksiyonları ile birlikte kullanabileceğimiz bazı kullanışlı fonksiyonlar bulunmaktadır. Örneğin `map()` fonksiyonu, belirlenen bir fonksiyonun tüm girdi dizi üzerine uygulanmasını sağlar. Dizi içerisindeki tüm girdi elemanlar, tanımlanan fonksiyon işleminden geçirilerek, her bir eleman için çıktı üretilir. Örneğin:"
   ]
  },
  {
   "cell_type": "code",
   "execution_count": 33,
   "metadata": {},
   "outputs": [
    {
     "name": "stdout",
     "output_type": "stream",
     "text": [
      "<map object at 0x000001F2750D9108>\n"
     ]
    }
   ],
   "source": [
    "sayilar = [45, 9, 6, 20, 1]\n",
    "hepsinin_karesini_al = map(lambda sayi: sayi **2, sayilar)\n",
    "print(hepsinin_karesini_al)"
   ]
  },
  {
   "cell_type": "markdown",
   "metadata": {},
   "source": [
    "Görüleceği üzere, map fonksiyonu işlemi yapmasına rağmen, çıktı bir dizi önermedi. Burada çıktısı alınacak olan liste ya da küme, `list()` ya da `set()` fonksiyonları kullanılarak ekrana verilebilir."
   ]
  },
  {
   "cell_type": "code",
   "execution_count": 34,
   "metadata": {},
   "outputs": [
    {
     "name": "stdout",
     "output_type": "stream",
     "text": [
      "[2025, 81, 36, 400, 1]\n"
     ]
    }
   ],
   "source": [
    "print(list(hepsinin_karesini_al))"
   ]
  },
  {
   "cell_type": "markdown",
   "metadata": {},
   "source": [
    "Lambda fonksiyonları ile birlikte kullanılabilecek bir diğer fonksiyon ise `filter()` olarak karşımızda durmaktadır. Bu fonksiyon, belirlenen şartı sağlayan verileri ayıklamak (filtrelemek) için kullanılır. Şartı sağlayan veriler çıktı diziyi oluşturur. Örneğin:"
   ]
  },
  {
   "cell_type": "code",
   "execution_count": 35,
   "metadata": {},
   "outputs": [
    {
     "name": "stdout",
     "output_type": "stream",
     "text": [
      "[6, 20]\n"
     ]
    }
   ],
   "source": [
    "sayilar = [45, 9, 6, 20, 1] # Bu sayı listesindeki çift sayıları filtreleyelim.\n",
    "\n",
    "cift_sayilar = list(filter(lambda x: x % 2 == 0, sayilar))\n",
    "print(cift_sayilar)"
   ]
  },
  {
   "cell_type": "markdown",
   "metadata": {},
   "source": [
    "## 7. Fonksiyonlarda Hata Yönetimi\n",
    "\n",
    "Fonksiyonların tanımını tasarlarken, kullanıcının hatalı veri (argüman) girişi yapabileceği olasılığını da göz önünde bulundurmamız gerekir. Bu hatalı girişe karşılık olarak, kullanıcıya bir hata mesajı sunmak zorunludur. Peki, hatalı veri girişi nasıl olmaktadır? Örneğin:"
   ]
  },
  {
   "cell_type": "code",
   "execution_count": 36,
   "metadata": {},
   "outputs": [
    {
     "data": {
      "text/plain": [
       "2.0"
      ]
     },
     "execution_count": 36,
     "metadata": {},
     "output_type": "execute_result"
    }
   ],
   "source": [
    "float(2)"
   ]
  },
  {
   "cell_type": "code",
   "execution_count": 37,
   "metadata": {},
   "outputs": [
    {
     "data": {
      "text/plain": [
       "2.3"
      ]
     },
     "execution_count": 37,
     "metadata": {},
     "output_type": "execute_result"
    }
   ],
   "source": [
    "float('2.3')"
   ]
  },
  {
   "cell_type": "code",
   "execution_count": 38,
   "metadata": {},
   "outputs": [
    {
     "ename": "ValueError",
     "evalue": "could not convert string to float: 'Can'",
     "output_type": "error",
     "traceback": [
      "\u001b[1;31m---------------------------------------------------------------------------\u001b[0m",
      "\u001b[1;31mValueError\u001b[0m                                Traceback (most recent call last)",
      "\u001b[1;32m<ipython-input-38-1c8eadc0658e>\u001b[0m in \u001b[0;36m<module>\u001b[1;34m\u001b[0m\n\u001b[1;32m----> 1\u001b[1;33m \u001b[0mfloat\u001b[0m\u001b[1;33m(\u001b[0m\u001b[1;34m'Can'\u001b[0m\u001b[1;33m)\u001b[0m\u001b[1;33m\u001b[0m\u001b[1;33m\u001b[0m\u001b[0m\n\u001b[0m",
      "\u001b[1;31mValueError\u001b[0m: could not convert string to float: 'Can'"
     ]
    }
   ],
   "source": [
    "float('Can')"
   ]
  },
  {
   "cell_type": "markdown",
   "metadata": {},
   "source": [
    "Görüleceği üzere, string veri nümerik bir değer barındırmadığı için float cinsine çevrilmemektedir. Gömülü olan float fonksiyonu da, yanlış veri girişi yapıldığına dair bir hata mesajını ekrana vermektedir. Fonksiyon tanımlarında hata denetimini yapabilmek ve varsa hataya ilişkin mesajı yayınlamak için `try-except` kalıbı kullanılır. Örneğin:"
   ]
  },
  {
   "cell_type": "code",
   "execution_count": 39,
   "metadata": {},
   "outputs": [],
   "source": [
    "def karekok(x):\n",
    "    '''Bir sayının karekokunu alan fonksiyondur'''\n",
    "    try: \n",
    "        return x ** 0.5\n",
    "    except:\n",
    "        print(\"Hata! Girdi veri bir integer ya da float veri tipinde olmalıdır.\")"
   ]
  },
  {
   "cell_type": "markdown",
   "metadata": {},
   "source": [
    "Bu fonksiyon tanımında girilen x değerinin karekökünü almayı try ifadesinin ardından denemekteyiz. Şayet bu deneme başarılıysa, fonksiyon sonucu doğrudan verecektir. Eğer girilen x değeri nümerik bir veri tipine sahip değilse, karekök alma işlemi yapılamayacağı için fonksiyon çalışamaz ve kullanıcı yanlış veri tipinde bir değer girdiği için uyarılır. Bu uyarı, except ifadesinden sonra oluşturulan mesaj çıktısı ile belirtilir. Fonksiyon try ifadesinden sonra gelen işlemi başaramadıysa, except ifadesinden sonra gelen komuta atlar. Bu komut da hata mesajını barındırır. Deneyelim: "
   ]
  },
  {
   "cell_type": "code",
   "execution_count": 40,
   "metadata": {},
   "outputs": [
    {
     "data": {
      "text/plain": [
       "2.449489742783178"
      ]
     },
     "execution_count": 40,
     "metadata": {},
     "output_type": "execute_result"
    }
   ],
   "source": [
    "karekok(6)"
   ]
  },
  {
   "cell_type": "code",
   "execution_count": 41,
   "metadata": {},
   "outputs": [
    {
     "name": "stdout",
     "output_type": "stream",
     "text": [
      "Hata! Girdi veri bir integer ya da float veri tipinde olmalıdır.\n"
     ]
    }
   ],
   "source": [
    "karekok(\"Can\")"
   ]
  },
  {
   "cell_type": "code",
   "execution_count": 42,
   "metadata": {},
   "outputs": [
    {
     "data": {
      "text/plain": [
       "(1.7319121124709868e-16+2.8284271247461903j)"
      ]
     },
     "execution_count": 42,
     "metadata": {},
     "output_type": "execute_result"
    }
   ],
   "source": [
    "karekok(-8)"
   ]
  },
  {
   "cell_type": "markdown",
   "metadata": {},
   "source": [
    "Karekök işlemini negatif sayılar üzerinde de çalıştırabildiğimiz görmekteyiz. Ancak sonuç doğal olarak kompleks sayı şeklindedir. Kullanıcıdan nümerik veri istiyoruz; ancak, kompleks sayı bir çıktı da arzulamıyoruz. Dolayısıyla burada bir istisna oluşturmamız gerekmektedir. İstisna durumu bir if koşulu oluşturarak çözebiliriz. Şayet girilen sayı negatifse, bu program negatif bir sayı girilmemesine dair uyarıyı raise ifadesi kullanılarak ardından gelen mesajla yapabilmektedir. "
   ]
  },
  {
   "cell_type": "code",
   "execution_count": 43,
   "metadata": {},
   "outputs": [],
   "source": [
    "def karekok(x):\n",
    "    '''Bir sayının karekokunu alan fonksiyondur'''\n",
    "    if x < 0: \n",
    "        raise ValueError (\"Girdi veri negatif sayı olmamalıdır!\")\n",
    "    try: \n",
    "        return x ** 0.5\n",
    "    except TypeError:\n",
    "        print(\"Hata! Girdi veri bir integer ya da float veri tipinde olmalıdır.\")"
   ]
  },
  {
   "cell_type": "code",
   "execution_count": 44,
   "metadata": {},
   "outputs": [
    {
     "ename": "ValueError",
     "evalue": "Girdi veri negatif sayı olmamalıdır!",
     "output_type": "error",
     "traceback": [
      "\u001b[1;31m---------------------------------------------------------------------------\u001b[0m",
      "\u001b[1;31mValueError\u001b[0m                                Traceback (most recent call last)",
      "\u001b[1;32m<ipython-input-44-63c1ea6dcb0e>\u001b[0m in \u001b[0;36m<module>\u001b[1;34m\u001b[0m\n\u001b[1;32m----> 1\u001b[1;33m \u001b[0mkarekok\u001b[0m\u001b[1;33m(\u001b[0m\u001b[1;33m-\u001b[0m\u001b[1;36m8\u001b[0m\u001b[1;33m)\u001b[0m\u001b[1;33m\u001b[0m\u001b[1;33m\u001b[0m\u001b[0m\n\u001b[0m",
      "\u001b[1;32m<ipython-input-43-1263056f64ac>\u001b[0m in \u001b[0;36mkarekok\u001b[1;34m(x)\u001b[0m\n\u001b[0;32m      2\u001b[0m     \u001b[1;34m'''Bir sayının karekokunu alan fonksiyondur'''\u001b[0m\u001b[1;33m\u001b[0m\u001b[1;33m\u001b[0m\u001b[0m\n\u001b[0;32m      3\u001b[0m     \u001b[1;32mif\u001b[0m \u001b[0mx\u001b[0m \u001b[1;33m<\u001b[0m \u001b[1;36m0\u001b[0m\u001b[1;33m:\u001b[0m\u001b[1;33m\u001b[0m\u001b[1;33m\u001b[0m\u001b[0m\n\u001b[1;32m----> 4\u001b[1;33m         \u001b[1;32mraise\u001b[0m \u001b[0mValueError\u001b[0m \u001b[1;33m(\u001b[0m\u001b[1;34m\"Girdi veri negatif sayı olmamalıdır!\"\u001b[0m\u001b[1;33m)\u001b[0m\u001b[1;33m\u001b[0m\u001b[1;33m\u001b[0m\u001b[0m\n\u001b[0m\u001b[0;32m      5\u001b[0m     \u001b[1;32mtry\u001b[0m\u001b[1;33m:\u001b[0m\u001b[1;33m\u001b[0m\u001b[1;33m\u001b[0m\u001b[0m\n\u001b[0;32m      6\u001b[0m         \u001b[1;32mreturn\u001b[0m \u001b[0mx\u001b[0m \u001b[1;33m**\u001b[0m \u001b[1;36m0.5\u001b[0m\u001b[1;33m\u001b[0m\u001b[1;33m\u001b[0m\u001b[0m\n",
      "\u001b[1;31mValueError\u001b[0m: Girdi veri negatif sayı olmamalıdır!"
     ]
    }
   ],
   "source": [
    "karekok(-8)"
   ]
  }
 ],
 "metadata": {
  "kernelspec": {
   "display_name": "Python 3",
   "language": "python",
   "name": "python3"
  },
  "language_info": {
   "codemirror_mode": {
    "name": "ipython",
    "version": 3
   },
   "file_extension": ".py",
   "mimetype": "text/x-python",
   "name": "python",
   "nbconvert_exporter": "python",
   "pygments_lexer": "ipython3",
   "version": "3.7.6"
  }
 },
 "nbformat": 4,
 "nbformat_minor": 2
}
