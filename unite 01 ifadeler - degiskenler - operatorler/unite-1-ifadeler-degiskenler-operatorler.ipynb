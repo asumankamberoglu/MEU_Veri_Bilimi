{
 "cells": [
  {
   "cell_type": "markdown",
   "metadata": {
    "colab_type": "text",
    "id": "t6_P_wExJBJe"
   },
   "source": [
    "#  ÜNİTE 1 - İFADELER, DEĞİŞKENLER, OPERATÖRLER"
   ]
  },
  {
   "cell_type": "markdown",
   "metadata": {
    "colab_type": "text",
    "id": "XzK8Mu8_JBJl"
   },
   "source": [
    "# 1.İfadeler"
   ]
  },
  {
   "cell_type": "markdown",
   "metadata": {
    "colab_type": "text",
    "id": "6Qrle0ZOJBJo"
   },
   "source": [
    "__İfadeler__ *(statements)*, Python derleyicisinin uygulayabileceği komutlardır. \n",
    "Python programı ifade dizilerinden oluşur. İfadeler, bir satır ya da birden fazla satır oluşturabilecek her şeydir.\n",
    "Örneğin, z = 1 bir değişken atama ifadesidir."
   ]
  },
  {
   "cell_type": "code",
   "execution_count": 1,
   "metadata": {
    "colab": {
     "base_uri": "https://localhost:8080/",
     "height": 34
    },
    "colab_type": "code",
    "executionInfo": {
     "elapsed": 3469,
     "status": "ok",
     "timestamp": 1587213777252,
     "user": {
      "displayName": "Can Iban",
      "photoUrl": "",
      "userId": "03730186920594796885"
     },
     "user_tz": -180
    },
    "id": "9eg9q0BoJBJs",
    "outputId": "beefd7e9-f30f-4eee-fe76-72583ff0674a",
    "scrolled": true
   },
   "outputs": [
    {
     "data": {
      "text/plain": [
       "10"
      ]
     },
     "execution_count": 1,
     "metadata": {
      "tags": []
     },
     "output_type": "execute_result"
    }
   ],
   "source": [
    "8+2"
   ]
  },
  {
   "cell_type": "markdown",
   "metadata": {
    "colab_type": "text",
    "id": "ReoOvALjJBJ7"
   },
   "source": [
    "# 2. Değişkenler"
   ]
  },
  {
   "cell_type": "markdown",
   "metadata": {
    "colab_type": "text",
    "id": "DPfo14zLJBJ-"
   },
   "source": [
    "Değişkenler, programın kullanabileceği her türlü veriyi kayıt altına alabilmek için adlandırdığımız bir yer tutucudur.\n",
    "Python'da bir değişkenin bir tam sayı mı yoksa ondalık sayı mı ya da başka bir tür mü olduğunu belirtmeye gerek yoktur.\n",
    "Python'da yeni bir değişken tanımlamak için, sadece belirttiğimiz bir isme bir değer atarız (C ve Java gibi dillerde, değişkenin türünün de tanımlanması gerekir. Python, buna gereksinim duymaz). \n",
    "\n",
    " - Değişken isimleri  istediğimiz sayıda harf, alt çizgi ve rakamdan oluşabilir.\n",
    " - Değişken isimleri bir rakam ile başlamamalıdır. \n",
    " - Python Anahtar Sözcükleri (keywords), değişken ismi olarak atanamaz. \n",
    " - Değişken isimleri, büyük ve küçük harf duyarlıdır. 'Bilgisayar' ve 'bilgisayar', farklı değişkenler oluşturur. \n",
    " - Birden fazla sözcükle değişken oluşturmak için, alt çizgi kullanmak kodun okunurluğunu artıracaktır.\n",
    "\n",
    "        degisken_ismi = ifade\n",
    "\n",
    "**(=) işareti, değişkene ifade atamak için kullanılan operatördür.**"
   ]
  },
  {
   "cell_type": "code",
   "execution_count": 0,
   "metadata": {
    "colab": {},
    "colab_type": "code",
    "id": "VAC-aUguJBKA"
   },
   "outputs": [],
   "source": [
    "sayı = 100\n",
    "mil = 1000.0\n",
    "isim = \"Python\""
   ]
  },
  {
   "cell_type": "code",
   "execution_count": 3,
   "metadata": {
    "colab": {
     "base_uri": "https://localhost:8080/",
     "height": 34
    },
    "colab_type": "code",
    "executionInfo": {
     "elapsed": 3861,
     "status": "ok",
     "timestamp": 1587213777761,
     "user": {
      "displayName": "Can Iban",
      "photoUrl": "",
      "userId": "03730186920594796885"
     },
     "user_tz": -180
    },
    "id": "_RQqTccKJBKL",
    "outputId": "cc2e8872-51f2-4701-f4c8-2141d4427ede"
   },
   "outputs": [
    {
     "data": {
      "text/plain": [
       "100"
      ]
     },
     "execution_count": 3,
     "metadata": {
      "tags": []
     },
     "output_type": "execute_result"
    }
   ],
   "source": [
    "sayı"
   ]
  },
  {
   "cell_type": "code",
   "execution_count": 4,
   "metadata": {
    "colab": {
     "base_uri": "https://localhost:8080/",
     "height": 34
    },
    "colab_type": "code",
    "executionInfo": {
     "elapsed": 3793,
     "status": "ok",
     "timestamp": 1587213777764,
     "user": {
      "displayName": "Can Iban",
      "photoUrl": "",
      "userId": "03730186920594796885"
     },
     "user_tz": -180
    },
    "id": "Bs7Ef5xtJBKW",
    "outputId": "51ce6ac5-e31e-42c7-949a-2a76adb8dbea"
   },
   "outputs": [
    {
     "data": {
      "text/plain": [
       "1000.0"
      ]
     },
     "execution_count": 4,
     "metadata": {
      "tags": []
     },
     "output_type": "execute_result"
    }
   ],
   "source": [
    "mil"
   ]
  },
  {
   "cell_type": "code",
   "execution_count": 5,
   "metadata": {
    "colab": {
     "base_uri": "https://localhost:8080/",
     "height": 34
    },
    "colab_type": "code",
    "executionInfo": {
     "elapsed": 3713,
     "status": "ok",
     "timestamp": 1587213777765,
     "user": {
      "displayName": "Can Iban",
      "photoUrl": "",
      "userId": "03730186920594796885"
     },
     "user_tz": -180
    },
    "id": "k2qy-Q_8JBKg",
    "outputId": "df75958c-758e-458a-8876-7ac1eb5fae4f"
   },
   "outputs": [
    {
     "data": {
      "text/plain": [
       "'Python'"
      ]
     },
     "execution_count": 5,
     "metadata": {
      "tags": []
     },
     "output_type": "execute_result"
    }
   ],
   "source": [
    "isim"
   ]
  },
  {
   "cell_type": "markdown",
   "metadata": {
    "colab_type": "text",
    "id": "u56g9kDLJBKp"
   },
   "source": [
    "`sayı` değişkeni bir tam sayı (integer) türündedir.\n",
    "\n",
    "`mil` değişkeni bir ondalık sayı (float) türündedir.\n",
    "\n",
    "`isim` değişkeni bir karakter dizisi (string) türündedir.\n",
    "\n",
    "Değişkenlerin ismi girildiğinde, programımız değişkene atanan değeri sonuç olarak gösterecektir.\n",
    "\n",
    "Bir değişkene atadığımız değeri daha sonradan da değiştirebiliriz *(Reproducibility - yeniden üretebilme)*. Örneğin; "
   ]
  },
  {
   "cell_type": "code",
   "execution_count": 6,
   "metadata": {
    "colab": {
     "base_uri": "https://localhost:8080/",
     "height": 34
    },
    "colab_type": "code",
    "executionInfo": {
     "elapsed": 3650,
     "status": "ok",
     "timestamp": 1587213777767,
     "user": {
      "displayName": "Can Iban",
      "photoUrl": "",
      "userId": "03730186920594796885"
     },
     "user_tz": -180
    },
    "id": "uqT9VsdJJBKt",
    "outputId": "aed157f0-9da9-4530-9ab2-dc4c95f60acb"
   },
   "outputs": [
    {
     "data": {
      "text/plain": [
       "100"
      ]
     },
     "execution_count": 6,
     "metadata": {
      "tags": []
     },
     "output_type": "execute_result"
    }
   ],
   "source": [
    "yuzyil = 100\n",
    "yuzyil"
   ]
  },
  {
   "cell_type": "code",
   "execution_count": 7,
   "metadata": {
    "colab": {
     "base_uri": "https://localhost:8080/",
     "height": 34
    },
    "colab_type": "code",
    "executionInfo": {
     "elapsed": 3547,
     "status": "ok",
     "timestamp": 1587213777768,
     "user": {
      "displayName": "Can Iban",
      "photoUrl": "",
      "userId": "03730186920594796885"
     },
     "user_tz": -180
    },
    "id": "Ox-Cdi0NJBK1",
    "outputId": "16ae7d96-9c17-4a00-8f5e-36951820f2b6"
   },
   "outputs": [
    {
     "data": {
      "text/plain": [
       "'yuz'"
      ]
     },
     "execution_count": 7,
     "metadata": {
      "tags": []
     },
     "output_type": "execute_result"
    }
   ],
   "source": [
    "yuzyil = \"yuz\"\n",
    "yuzyil"
   ]
  },
  {
   "cell_type": "markdown",
   "metadata": {
    "colab_type": "text",
    "id": "PaeKIehMJBK7"
   },
   "source": [
    "**Python, tek bir değeri farklı değişkenlere atamamıza izin vermektedir. Örneğin;**"
   ]
  },
  {
   "cell_type": "code",
   "execution_count": 8,
   "metadata": {
    "colab": {
     "base_uri": "https://localhost:8080/",
     "height": 34
    },
    "colab_type": "code",
    "executionInfo": {
     "elapsed": 3413,
     "status": "ok",
     "timestamp": 1587213777770,
     "user": {
      "displayName": "Can Iban",
      "photoUrl": "",
      "userId": "03730186920594796885"
     },
     "user_tz": -180
    },
    "id": "iUJleL5gJBK8",
    "outputId": "7299ef31-8655-4feb-de9f-ae27ad4e0f0e"
   },
   "outputs": [
    {
     "data": {
      "text/plain": [
       "1"
      ]
     },
     "execution_count": 8,
     "metadata": {
      "tags": []
     },
     "output_type": "execute_result"
    }
   ],
   "source": [
    "a = b = c = 1\n",
    "a"
   ]
  },
  {
   "cell_type": "code",
   "execution_count": 9,
   "metadata": {
    "colab": {
     "base_uri": "https://localhost:8080/",
     "height": 34
    },
    "colab_type": "code",
    "executionInfo": {
     "elapsed": 3299,
     "status": "ok",
     "timestamp": 1587213777774,
     "user": {
      "displayName": "Can Iban",
      "photoUrl": "",
      "userId": "03730186920594796885"
     },
     "user_tz": -180
    },
    "id": "KszPeZrwJBLE",
    "outputId": "cd15787f-3579-4a23-afb5-8daa791ef9d8"
   },
   "outputs": [
    {
     "data": {
      "text/plain": [
       "1"
      ]
     },
     "execution_count": 9,
     "metadata": {
      "tags": []
     },
     "output_type": "execute_result"
    }
   ],
   "source": [
    "b"
   ]
  },
  {
   "cell_type": "code",
   "execution_count": 10,
   "metadata": {
    "colab": {
     "base_uri": "https://localhost:8080/",
     "height": 34
    },
    "colab_type": "code",
    "executionInfo": {
     "elapsed": 3261,
     "status": "ok",
     "timestamp": 1587213777776,
     "user": {
      "displayName": "Can Iban",
      "photoUrl": "",
      "userId": "03730186920594796885"
     },
     "user_tz": -180
    },
    "id": "MV1d4qzoJBLN",
    "outputId": "a1a417e6-2831-45a8-f37a-7e90c7c4efd0"
   },
   "outputs": [
    {
     "data": {
      "text/plain": [
       "1"
      ]
     },
     "execution_count": 10,
     "metadata": {
      "tags": []
     },
     "output_type": "execute_result"
    }
   ],
   "source": [
    "c"
   ]
  },
  {
   "cell_type": "markdown",
   "metadata": {
    "colab_type": "text",
    "id": "LdnCfBanJBLU"
   },
   "source": [
    "# 3. Operatörler"
   ]
  },
  {
   "cell_type": "markdown",
   "metadata": {
    "colab_type": "text",
    "id": "myrbNhy9JBLW"
   },
   "source": [
    "**Operatörler**, matematiksel ya da mantıksal işlem kurallarını gerçekleştirmemizi sağlayan sembollerdir (+, -, * gibi).\n",
    "\n",
    "\n",
    "| Operatör     | İsmi           | Tanımı                                                 |\n",
    "|--------------|----------------|--------------------------------------------------------|\n",
    "| ``p + q``    | Toplama        | ``p`` ve ``q``'nun toplamı                             |\n",
    "| ``p - q``    | Çıkarma        | ``p`` ve ``q``'nun farkı                               |\n",
    "| ``p * q``    | Çarpma         | ``p`` ve ``q``'min çarpımı (skaler)                    |\n",
    "| ``p / q``    | Bölme Sonucu   | ``p``'nin ``q``'ya bölümü                              |\n",
    "| ``p // q``   | Bölüm          | ``p``'nin ``q``'ya bölümü (ondalıksız sonuç)           |\n",
    "| ``p % q``    | Kalan (Mod)    | ``p``'nin ``q``'ya bölümünden kalan                    |\n",
    "| ``p ** q``   | Üs Alma        | ``p`` 'nın ``q`` dereceden üssü                        |\n",
    "| ``-p``       | Ters İşaret    | ``p``'nin ters işaretlisi (negatifi)                   |"
   ]
  },
  {
   "cell_type": "code",
   "execution_count": 11,
   "metadata": {
    "colab": {
     "base_uri": "https://localhost:8080/",
     "height": 34
    },
    "colab_type": "code",
    "executionInfo": {
     "elapsed": 3215,
     "status": "ok",
     "timestamp": 1587213777777,
     "user": {
      "displayName": "Can Iban",
      "photoUrl": "",
      "userId": "03730186920594796885"
     },
     "user_tz": -180
    },
    "id": "BcI3s1j0JBLX",
    "outputId": "e2a83222-d52c-4d42-9c58-7f67b1ee86b9"
   },
   "outputs": [
    {
     "data": {
      "text/plain": [
       "5"
      ]
     },
     "execution_count": 11,
     "metadata": {
      "tags": []
     },
     "output_type": "execute_result"
    }
   ],
   "source": [
    "p = 2\n",
    "q = 3\n",
    "p+q"
   ]
  },
  {
   "cell_type": "code",
   "execution_count": 12,
   "metadata": {
    "colab": {
     "base_uri": "https://localhost:8080/",
     "height": 34
    },
    "colab_type": "code",
    "executionInfo": {
     "elapsed": 3169,
     "status": "ok",
     "timestamp": 1587213777779,
     "user": {
      "displayName": "Can Iban",
      "photoUrl": "",
      "userId": "03730186920594796885"
     },
     "user_tz": -180
    },
    "id": "TXCcFXDdJBLd",
    "outputId": "c559a2a1-ed81-4f1f-9a83-2d6657c3f4ad"
   },
   "outputs": [
    {
     "data": {
      "text/plain": [
       "-1"
      ]
     },
     "execution_count": 12,
     "metadata": {
      "tags": []
     },
     "output_type": "execute_result"
    }
   ],
   "source": [
    "p-q"
   ]
  },
  {
   "cell_type": "code",
   "execution_count": 13,
   "metadata": {
    "colab": {
     "base_uri": "https://localhost:8080/",
     "height": 34
    },
    "colab_type": "code",
    "executionInfo": {
     "elapsed": 3139,
     "status": "ok",
     "timestamp": 1587213777781,
     "user": {
      "displayName": "Can Iban",
      "photoUrl": "",
      "userId": "03730186920594796885"
     },
     "user_tz": -180
    },
    "id": "ANt6P-zZJBLj",
    "outputId": "03f4e4da-74cb-406f-c07d-ebc415514844"
   },
   "outputs": [
    {
     "data": {
      "text/plain": [
       "6"
      ]
     },
     "execution_count": 13,
     "metadata": {
      "tags": []
     },
     "output_type": "execute_result"
    }
   ],
   "source": [
    "p*q"
   ]
  },
  {
   "cell_type": "code",
   "execution_count": 14,
   "metadata": {
    "colab": {
     "base_uri": "https://localhost:8080/",
     "height": 34
    },
    "colab_type": "code",
    "executionInfo": {
     "elapsed": 3039,
     "status": "ok",
     "timestamp": 1587213777782,
     "user": {
      "displayName": "Can Iban",
      "photoUrl": "",
      "userId": "03730186920594796885"
     },
     "user_tz": -180
    },
    "id": "NslgDwUDJBLo",
    "outputId": "4d7d1620-3d65-4b61-e4e6-7d1915beff2a"
   },
   "outputs": [
    {
     "data": {
      "text/plain": [
       "1.5"
      ]
     },
     "execution_count": 14,
     "metadata": {
      "tags": []
     },
     "output_type": "execute_result"
    }
   ],
   "source": [
    "q/p"
   ]
  },
  {
   "cell_type": "code",
   "execution_count": 15,
   "metadata": {
    "colab": {
     "base_uri": "https://localhost:8080/",
     "height": 34
    },
    "colab_type": "code",
    "executionInfo": {
     "elapsed": 3009,
     "status": "ok",
     "timestamp": 1587213777784,
     "user": {
      "displayName": "Can Iban",
      "photoUrl": "",
      "userId": "03730186920594796885"
     },
     "user_tz": -180
    },
    "id": "d8jBRrvAJBLu",
    "outputId": "138ba7ba-0c82-4c81-c9eb-0e552791be66"
   },
   "outputs": [
    {
     "data": {
      "text/plain": [
       "1"
      ]
     },
     "execution_count": 15,
     "metadata": {
      "tags": []
     },
     "output_type": "execute_result"
    }
   ],
   "source": [
    "q%p"
   ]
  },
  {
   "cell_type": "code",
   "execution_count": 16,
   "metadata": {
    "colab": {
     "base_uri": "https://localhost:8080/",
     "height": 34
    },
    "colab_type": "code",
    "executionInfo": {
     "elapsed": 2980,
     "status": "ok",
     "timestamp": 1587213777787,
     "user": {
      "displayName": "Can Iban",
      "photoUrl": "",
      "userId": "03730186920594796885"
     },
     "user_tz": -180
    },
    "id": "4MyVb8MyJBLz",
    "outputId": "8876b615-090d-4882-aec6-27e2901ba807"
   },
   "outputs": [
    {
     "data": {
      "text/plain": [
       "8"
      ]
     },
     "execution_count": 16,
     "metadata": {
      "tags": []
     },
     "output_type": "execute_result"
    }
   ],
   "source": [
    "p**q"
   ]
  },
  {
   "cell_type": "code",
   "execution_count": 17,
   "metadata": {
    "colab": {
     "base_uri": "https://localhost:8080/",
     "height": 34
    },
    "colab_type": "code",
    "executionInfo": {
     "elapsed": 2952,
     "status": "ok",
     "timestamp": 1587213777788,
     "user": {
      "displayName": "Can Iban",
      "photoUrl": "",
      "userId": "03730186920594796885"
     },
     "user_tz": -180
    },
    "id": "VSfai2xeJBL5",
    "outputId": "aea09d5b-8f13-4b56-b1be-45d811db1e27"
   },
   "outputs": [
    {
     "data": {
      "text/plain": [
       "4"
      ]
     },
     "execution_count": 17,
     "metadata": {
      "tags": []
     },
     "output_type": "execute_result"
    }
   ],
   "source": [
    "9//2"
   ]
  },
  {
   "cell_type": "code",
   "execution_count": 18,
   "metadata": {
    "colab": {
     "base_uri": "https://localhost:8080/",
     "height": 34
    },
    "colab_type": "code",
    "executionInfo": {
     "elapsed": 2923,
     "status": "ok",
     "timestamp": 1587213777794,
     "user": {
      "displayName": "Can Iban",
      "photoUrl": "",
      "userId": "03730186920594796885"
     },
     "user_tz": -180
    },
    "id": "ojGN9Z7LJBL-",
    "outputId": "2740cd3a-4f07-4dfb-a906-7123dc74b036"
   },
   "outputs": [
    {
     "data": {
      "text/plain": [
       "-2"
      ]
     },
     "execution_count": 18,
     "metadata": {
      "tags": []
     },
     "output_type": "execute_result"
    }
   ],
   "source": [
    "-p"
   ]
  },
  {
   "cell_type": "markdown",
   "metadata": {
    "colab_type": "text",
    "id": "ZoseugHRJBMD"
   },
   "source": [
    "## 3.1 Atama Operatörleri"
   ]
  },
  {
   "cell_type": "code",
   "execution_count": 19,
   "metadata": {
    "colab": {
     "base_uri": "https://localhost:8080/",
     "height": 34
    },
    "colab_type": "code",
    "executionInfo": {
     "elapsed": 2902,
     "status": "ok",
     "timestamp": 1587213777802,
     "user": {
      "displayName": "Can Iban",
      "photoUrl": "",
      "userId": "03730186920594796885"
     },
     "user_tz": -180
    },
    "id": "cBD3TZeFJBMF",
    "outputId": "75bc36d4-d453-46ec-ebef-5065e26367ba"
   },
   "outputs": [
    {
     "data": {
      "text/plain": [
       "6"
      ]
     },
     "execution_count": 19,
     "metadata": {
      "tags": []
     },
     "output_type": "execute_result"
    }
   ],
   "source": [
    "x = 5\n",
    "x = x + 1\n",
    "x"
   ]
  },
  {
   "cell_type": "code",
   "execution_count": 20,
   "metadata": {
    "colab": {
     "base_uri": "https://localhost:8080/",
     "height": 34
    },
    "colab_type": "code",
    "executionInfo": {
     "elapsed": 2877,
     "status": "ok",
     "timestamp": 1587213777810,
     "user": {
      "displayName": "Can Iban",
      "photoUrl": "",
      "userId": "03730186920594796885"
     },
     "user_tz": -180
    },
    "id": "rCyasrPdJBMJ",
    "outputId": "7c5e3f58-fede-44d2-ed71-33cc8a542285"
   },
   "outputs": [
    {
     "data": {
      "text/plain": [
       "1"
      ]
     },
     "execution_count": 20,
     "metadata": {
      "tags": []
     },
     "output_type": "execute_result"
    }
   ],
   "source": [
    "z = 0\n",
    "x = z + 1\n",
    "x"
   ]
  },
  {
   "cell_type": "markdown",
   "metadata": {
    "colab_type": "text",
    "id": "ag4vkUU-JBMN"
   },
   "source": [
    "| Operatör     | İsmi                          |\n",
    "|--------------|-------------------------------|\n",
    "| `=`          | Atama                         | \n",
    "| `z = z + p`  | Ekleyerek atama               | \n",
    "| `z = z - p`  | Çıkararak atama               | \n",
    "| `z = z * p`  | Çarparak atama                | \n",
    "| `z = z / p`  | Bölerek atama                 | \n",
    "| `z = z//p`   | Bölme işleminden bölümü atama | \n",
    "| `z = z%=p`   | Bölme işleminden kalanı atama | "
   ]
  },
  {
   "cell_type": "code",
   "execution_count": 21,
   "metadata": {
    "colab": {
     "base_uri": "https://localhost:8080/",
     "height": 34
    },
    "colab_type": "code",
    "executionInfo": {
     "elapsed": 2840,
     "status": "ok",
     "timestamp": 1587213777812,
     "user": {
      "displayName": "Can Iban",
      "photoUrl": "",
      "userId": "03730186920594796885"
     },
     "user_tz": -180
    },
    "id": "X4-GTKC9JBMP",
    "outputId": "69df1b80-9c87-424c-b788-76b7e5a818eb"
   },
   "outputs": [
    {
     "data": {
      "text/plain": [
       "22"
      ]
     },
     "execution_count": 21,
     "metadata": {
      "tags": []
     },
     "output_type": "execute_result"
    }
   ],
   "source": [
    "p = 10\n",
    "q = 12\n",
    "q += p\n",
    "q"
   ]
  },
  {
   "cell_type": "code",
   "execution_count": 22,
   "metadata": {
    "colab": {
     "base_uri": "https://localhost:8080/",
     "height": 34
    },
    "colab_type": "code",
    "executionInfo": {
     "elapsed": 2808,
     "status": "ok",
     "timestamp": 1587213777813,
     "user": {
      "displayName": "Can Iban",
      "photoUrl": "",
      "userId": "03730186920594796885"
     },
     "user_tz": -180
    },
    "id": "3zRUKy86JBMT",
    "outputId": "0a4aebf8-9559-4b13-d0bc-a580cca02362"
   },
   "outputs": [
    {
     "data": {
      "text/plain": [
       "220"
      ]
     },
     "execution_count": 22,
     "metadata": {
      "tags": []
     },
     "output_type": "execute_result"
    }
   ],
   "source": [
    "q *= p\n",
    "q"
   ]
  },
  {
   "cell_type": "code",
   "execution_count": 23,
   "metadata": {
    "colab": {
     "base_uri": "https://localhost:8080/",
     "height": 34
    },
    "colab_type": "code",
    "executionInfo": {
     "elapsed": 2774,
     "status": "ok",
     "timestamp": 1587213777815,
     "user": {
      "displayName": "Can Iban",
      "photoUrl": "",
      "userId": "03730186920594796885"
     },
     "user_tz": -180
    },
    "id": "LTPDPW05JBMX",
    "outputId": "9e3f1ca4-40ef-4854-b8f5-96f92fc56ab3"
   },
   "outputs": [
    {
     "data": {
      "text/plain": [
       "22.0"
      ]
     },
     "execution_count": 23,
     "metadata": {
      "tags": []
     },
     "output_type": "execute_result"
    }
   ],
   "source": [
    "q /= p\n",
    "q"
   ]
  },
  {
   "cell_type": "code",
   "execution_count": 24,
   "metadata": {
    "colab": {
     "base_uri": "https://localhost:8080/",
     "height": 34
    },
    "colab_type": "code",
    "executionInfo": {
     "elapsed": 2723,
     "status": "ok",
     "timestamp": 1587213777816,
     "user": {
      "displayName": "Can Iban",
      "photoUrl": "",
      "userId": "03730186920594796885"
     },
     "user_tz": -180
    },
    "id": "9ZyYuQeHJBMb",
    "outputId": "1df28f4f-b844-45c4-ffd5-d98de92eb665"
   },
   "outputs": [
    {
     "data": {
      "text/plain": [
       "2.0"
      ]
     },
     "execution_count": 24,
     "metadata": {
      "tags": []
     },
     "output_type": "execute_result"
    }
   ],
   "source": [
    "q %= p\n",
    "q"
   ]
  },
  {
   "cell_type": "code",
   "execution_count": 25,
   "metadata": {
    "colab": {
     "base_uri": "https://localhost:8080/",
     "height": 34
    },
    "colab_type": "code",
    "executionInfo": {
     "elapsed": 2678,
     "status": "ok",
     "timestamp": 1587213777817,
     "user": {
      "displayName": "Can Iban",
      "photoUrl": "",
      "userId": "03730186920594796885"
     },
     "user_tz": -180
    },
    "id": "UaToT4S0JBMf",
    "outputId": "0766fada-5263-45da-9b18-84002f88418a"
   },
   "outputs": [
    {
     "data": {
      "text/plain": [
       "1024.0"
      ]
     },
     "execution_count": 25,
     "metadata": {
      "tags": []
     },
     "output_type": "execute_result"
    }
   ],
   "source": [
    "q **= p\n",
    "q"
   ]
  },
  {
   "cell_type": "code",
   "execution_count": 26,
   "metadata": {
    "colab": {
     "base_uri": "https://localhost:8080/",
     "height": 34
    },
    "colab_type": "code",
    "executionInfo": {
     "elapsed": 2643,
     "status": "ok",
     "timestamp": 1587213777818,
     "user": {
      "displayName": "Can Iban",
      "photoUrl": "",
      "userId": "03730186920594796885"
     },
     "user_tz": -180
    },
    "id": "7LWEz-yBJBMj",
    "outputId": "c00391bf-11b7-4224-fe20-116ed2998321"
   },
   "outputs": [
    {
     "data": {
      "text/plain": [
       "102.0"
      ]
     },
     "execution_count": 26,
     "metadata": {
      "tags": []
     },
     "output_type": "execute_result"
    }
   ],
   "source": [
    "q //= p\n",
    "q"
   ]
  },
  {
   "cell_type": "markdown",
   "metadata": {
    "colab_type": "text",
    "id": "Ltphjg5KJBMo"
   },
   "source": [
    "## 3.2 Karşılaştırma Operatörleri"
   ]
  },
  {
   "cell_type": "markdown",
   "metadata": {
    "colab_type": "text",
    "id": "K0qzpynVJBMp"
   },
   "source": [
    " - İki değişkenin aritmetik olarak birbiriyle karşılaştırılması gereken durumlarda, karşılaştırma operatörleri kullanılır.\n",
    " \n",
    "\n",
    " - Karşılaştırma operatörlerinin çıktısı (output) daima bir 'Boolean' değeridir. \n",
    " \n",
    "\n",
    "**Boolean Değeri : İkili rakamlar 0 (yanlış - `False`) ve 1 (doğru - `True`) aracılığıyla mantıksal önermeleri temsil etmek için kullanılan bir cebirsel notasyon sistemidir.**\n",
    "\n",
    "\n",
    " - Kısacası, karşılaştırmamız doğru bir mantık içeriyorsa `True`, yanlış bir mantık içeriyorsa `False` çıktıları görülür. \n",
    " \n",
    "\n",
    " - Karşılaştırılan değerler sadece sayı ile kısıtlı değildir. Karakter dizileri de (string) alfabetik sırasına göre karşılaştırılabilir. Yani, \"P\" karakteri, \"R\" karakterinden küçüktür. \"Ayse\" karakteri, \"Ayhan\" karakterinden büyüktür.\n",
    " \n",
    "\n",
    "| Operatör     | Tanımı                                                      |\n",
    "|--------------|-------------------------------------------------------------|\n",
    "| `p == q`     | p ile q değerleri eşit midir?                               | \n",
    "| `p != q `    | p ile q değerleri eşit değil midir?                         | \n",
    "| ` p > q `    | p değeri, q değerinden büyük müdür?                         | \n",
    "| `p < q`      | p değeri, q değerinden küçük müdür?                         | \n",
    "| `p >= q`     | p değeri, q değerinden büyük müdür YA DA onunla eşit midir? | \n",
    "| `p <= q`     | p değeri, q değerinden küçük müdür YA DA onunla eşit midir? | \n",
    "| `z = z%=p`   | Bölme işleminden kalanı atama                               | \n",
    "\n",
    "**Örneğin;**"
   ]
  },
  {
   "cell_type": "code",
   "execution_count": 27,
   "metadata": {
    "colab": {
     "base_uri": "https://localhost:8080/",
     "height": 34
    },
    "colab_type": "code",
    "executionInfo": {
     "elapsed": 2606,
     "status": "ok",
     "timestamp": 1587213777819,
     "user": {
      "displayName": "Can Iban",
      "photoUrl": "",
      "userId": "03730186920594796885"
     },
     "user_tz": -180
    },
    "id": "xNOKIMAKJBMr",
    "outputId": "6a748345-351a-434b-b4d9-c15b7c477c4a"
   },
   "outputs": [
    {
     "data": {
      "text/plain": [
       "False"
      ]
     },
     "execution_count": 27,
     "metadata": {
      "tags": []
     },
     "output_type": "execute_result"
    }
   ],
   "source": [
    "p = 10\n",
    "q = 20\n",
    "\n",
    "p == q"
   ]
  },
  {
   "cell_type": "code",
   "execution_count": 28,
   "metadata": {
    "colab": {
     "base_uri": "https://localhost:8080/",
     "height": 34
    },
    "colab_type": "code",
    "executionInfo": {
     "elapsed": 2463,
     "status": "ok",
     "timestamp": 1587213777820,
     "user": {
      "displayName": "Can Iban",
      "photoUrl": "",
      "userId": "03730186920594796885"
     },
     "user_tz": -180
    },
    "id": "QHdGmSNWJBMv",
    "outputId": "c86cdfeb-d18e-4026-eb84-ec47c1585cb2"
   },
   "outputs": [
    {
     "data": {
      "text/plain": [
       "True"
      ]
     },
     "execution_count": 28,
     "metadata": {
      "tags": []
     },
     "output_type": "execute_result"
    }
   ],
   "source": [
    "p != q"
   ]
  },
  {
   "cell_type": "code",
   "execution_count": 29,
   "metadata": {
    "colab": {
     "base_uri": "https://localhost:8080/",
     "height": 34
    },
    "colab_type": "code",
    "executionInfo": {
     "elapsed": 2402,
     "status": "ok",
     "timestamp": 1587213777822,
     "user": {
      "displayName": "Can Iban",
      "photoUrl": "",
      "userId": "03730186920594796885"
     },
     "user_tz": -180
    },
    "id": "JBLCLOzqJBMy",
    "outputId": "76dd5725-2a84-4ccd-939e-222f8d5f9271"
   },
   "outputs": [
    {
     "data": {
      "text/plain": [
       "True"
      ]
     },
     "execution_count": 29,
     "metadata": {
      "tags": []
     },
     "output_type": "execute_result"
    }
   ],
   "source": [
    "p < q"
   ]
  },
  {
   "cell_type": "code",
   "execution_count": 30,
   "metadata": {
    "colab": {
     "base_uri": "https://localhost:8080/",
     "height": 34
    },
    "colab_type": "code",
    "executionInfo": {
     "elapsed": 2347,
     "status": "ok",
     "timestamp": 1587213777824,
     "user": {
      "displayName": "Can Iban",
      "photoUrl": "",
      "userId": "03730186920594796885"
     },
     "user_tz": -180
    },
    "id": "SuHXTkdbJBM2",
    "outputId": "343dd739-eb80-4548-b0c3-a1645bb7ea08"
   },
   "outputs": [
    {
     "data": {
      "text/plain": [
       "False"
      ]
     },
     "execution_count": 30,
     "metadata": {
      "tags": []
     },
     "output_type": "execute_result"
    }
   ],
   "source": [
    "p > q"
   ]
  },
  {
   "cell_type": "code",
   "execution_count": 31,
   "metadata": {
    "colab": {
     "base_uri": "https://localhost:8080/",
     "height": 34
    },
    "colab_type": "code",
    "executionInfo": {
     "elapsed": 2310,
     "status": "ok",
     "timestamp": 1587213777825,
     "user": {
      "displayName": "Can Iban",
      "photoUrl": "",
      "userId": "03730186920594796885"
     },
     "user_tz": -180
    },
    "id": "c7B_YlLYJBM6",
    "outputId": "439b2acf-98c0-4799-894c-53e337e72dbb"
   },
   "outputs": [
    {
     "data": {
      "text/plain": [
       "True"
      ]
     },
     "execution_count": 31,
     "metadata": {
      "tags": []
     },
     "output_type": "execute_result"
    }
   ],
   "source": [
    "p <= q"
   ]
  },
  {
   "cell_type": "code",
   "execution_count": 32,
   "metadata": {
    "colab": {
     "base_uri": "https://localhost:8080/",
     "height": 34
    },
    "colab_type": "code",
    "executionInfo": {
     "elapsed": 2285,
     "status": "ok",
     "timestamp": 1587213777827,
     "user": {
      "displayName": "Can Iban",
      "photoUrl": "",
      "userId": "03730186920594796885"
     },
     "user_tz": -180
    },
    "id": "2jrr882zJBM9",
    "outputId": "382ce4db-9361-4266-ba11-b26cfb4713ad"
   },
   "outputs": [
    {
     "data": {
      "text/plain": [
       "False"
      ]
     },
     "execution_count": 32,
     "metadata": {
      "tags": []
     },
     "output_type": "execute_result"
    }
   ],
   "source": [
    "p >= q"
   ]
  },
  {
   "cell_type": "code",
   "execution_count": 33,
   "metadata": {
    "colab": {
     "base_uri": "https://localhost:8080/",
     "height": 34
    },
    "colab_type": "code",
    "executionInfo": {
     "elapsed": 2543,
     "status": "ok",
     "timestamp": 1587213778117,
     "user": {
      "displayName": "Can Iban",
      "photoUrl": "",
      "userId": "03730186920594796885"
     },
     "user_tz": -180
    },
    "id": "rzMOP2mjJBNC",
    "outputId": "e642f0e5-9648-4a5c-b995-0892cb015dff"
   },
   "outputs": [
    {
     "data": {
      "text/plain": [
       "True"
      ]
     },
     "execution_count": 33,
     "metadata": {
      "tags": []
     },
     "output_type": "execute_result"
    }
   ],
   "source": [
    "\"P\" < \"Q\""
   ]
  },
  {
   "cell_type": "code",
   "execution_count": 34,
   "metadata": {
    "colab": {
     "base_uri": "https://localhost:8080/",
     "height": 34
    },
    "colab_type": "code",
    "executionInfo": {
     "elapsed": 2492,
     "status": "ok",
     "timestamp": 1587213778119,
     "user": {
      "displayName": "Can Iban",
      "photoUrl": "",
      "userId": "03730186920594796885"
     },
     "user_tz": -180
    },
    "id": "aMdOgpHZJBNG",
    "outputId": "a0710921-ef05-4e01-f72f-2a5ecb8bec20"
   },
   "outputs": [
    {
     "data": {
      "text/plain": [
       "True"
      ]
     },
     "execution_count": 34,
     "metadata": {
      "tags": []
     },
     "output_type": "execute_result"
    }
   ],
   "source": [
    "\"Ayse\" > \"Ayhan\""
   ]
  },
  {
   "cell_type": "code",
   "execution_count": 35,
   "metadata": {
    "colab": {
     "base_uri": "https://localhost:8080/",
     "height": 34
    },
    "colab_type": "code",
    "executionInfo": {
     "elapsed": 2459,
     "status": "ok",
     "timestamp": 1587213778122,
     "user": {
      "displayName": "Can Iban",
      "photoUrl": "",
      "userId": "03730186920594796885"
     },
     "user_tz": -180
    },
    "id": "Sd68frXtJBNM",
    "outputId": "cd699789-40fe-4d36-8715-56dd24a57085"
   },
   "outputs": [
    {
     "data": {
      "text/plain": [
       "True"
      ]
     },
     "execution_count": 35,
     "metadata": {
      "tags": []
     },
     "output_type": "execute_result"
    }
   ],
   "source": [
    "True == True"
   ]
  },
  {
   "cell_type": "markdown",
   "metadata": {
    "colab_type": "text",
    "id": "PkdfETqaJBNQ"
   },
   "source": [
    "**HATIRLATMA**\n",
    "\n",
    "Eşitlik karşılaştırması yapan `==` operatörü ile değişkene ifade atayan `=` operatörün birbiriyle karıştırılmaması gerekir. \n",
    "\n",
    " - `x==y` ifadesi ile x ve y birbiriyle eşitse `True` çıktısı elde edilir.\n",
    " \n",
    "\n",
    " - `x=y` ifadesi ile x'in değeri olarak y atanır. "
   ]
  },
  {
   "cell_type": "markdown",
   "metadata": {
    "colab_type": "text",
    "id": "s618Q7BrJBNR"
   },
   "source": [
    "## 3.3 Mantıksal Operatörler"
   ]
  },
  {
   "cell_type": "markdown",
   "metadata": {
    "colab_type": "text",
    "id": "_2APLxnmJBNR"
   },
   "source": [
    "**Mantıksal Operatörler**, girdilerin mantıksal değerlerini karşılaştırmak için kullanılır. Çıktı değer, Boolean olacaktır.\n",
    "\n",
    " - `and` Operatörü: İki değerin de doğru `True` olup olmadığını denetler. Yalnız iki değer de doğru ise, `True` çıktısını verir.\n",
    "\n",
    " - `or` Operatörü: İki değerden en az birisinin `True` olup olmadığını denetler.\n",
    "\n",
    " - `not` Operatörü: Girdi değerin `True` ya da `False` olma durumunu tersine çevirir.\n",
    "\n",
    "**Örnekler:** "
   ]
  },
  {
   "cell_type": "code",
   "execution_count": 36,
   "metadata": {
    "colab": {
     "base_uri": "https://localhost:8080/",
     "height": 34
    },
    "colab_type": "code",
    "executionInfo": {
     "elapsed": 2433,
     "status": "ok",
     "timestamp": 1587213778127,
     "user": {
      "displayName": "Can Iban",
      "photoUrl": "",
      "userId": "03730186920594796885"
     },
     "user_tz": -180
    },
    "id": "Pt3syULNJBNS",
    "outputId": "62d93710-8221-411a-a609-28b243152aa2"
   },
   "outputs": [
    {
     "data": {
      "text/plain": [
       "False"
      ]
     },
     "execution_count": 36,
     "metadata": {
      "tags": []
     },
     "output_type": "execute_result"
    }
   ],
   "source": [
    "True and False"
   ]
  },
  {
   "cell_type": "code",
   "execution_count": 37,
   "metadata": {
    "colab": {
     "base_uri": "https://localhost:8080/",
     "height": 34
    },
    "colab_type": "code",
    "executionInfo": {
     "elapsed": 2403,
     "status": "ok",
     "timestamp": 1587213778128,
     "user": {
      "displayName": "Can Iban",
      "photoUrl": "",
      "userId": "03730186920594796885"
     },
     "user_tz": -180
    },
    "id": "DWevodCDJBNW",
    "outputId": "40f29d30-c0b9-4efe-d86c-92bf2b647a68"
   },
   "outputs": [
    {
     "data": {
      "text/plain": [
       "True"
      ]
     },
     "execution_count": 37,
     "metadata": {
      "tags": []
     },
     "output_type": "execute_result"
    }
   ],
   "source": [
    "True or False"
   ]
  },
  {
   "cell_type": "code",
   "execution_count": 38,
   "metadata": {
    "colab": {
     "base_uri": "https://localhost:8080/",
     "height": 34
    },
    "colab_type": "code",
    "executionInfo": {
     "elapsed": 2375,
     "status": "ok",
     "timestamp": 1587213778130,
     "user": {
      "displayName": "Can Iban",
      "photoUrl": "",
      "userId": "03730186920594796885"
     },
     "user_tz": -180
    },
    "id": "U-BRnlf-JBNZ",
    "outputId": "0910671b-cfaa-4f43-b115-0800ff4e7e09"
   },
   "outputs": [
    {
     "data": {
      "text/plain": [
       "False"
      ]
     },
     "execution_count": 38,
     "metadata": {
      "tags": []
     },
     "output_type": "execute_result"
    }
   ],
   "source": [
    "not(True) and False"
   ]
  },
  {
   "cell_type": "code",
   "execution_count": 39,
   "metadata": {
    "colab": {
     "base_uri": "https://localhost:8080/",
     "height": 34
    },
    "colab_type": "code",
    "executionInfo": {
     "elapsed": 2343,
     "status": "ok",
     "timestamp": 1587213778132,
     "user": {
      "displayName": "Can Iban",
      "photoUrl": "",
      "userId": "03730186920594796885"
     },
     "user_tz": -180
    },
    "id": "Bt3Rr9pzJBNe",
    "outputId": "1a9eb3c3-f3ea-4e00-a6c3-c9dc1cd38c06"
   },
   "outputs": [
    {
     "data": {
      "text/plain": [
       "True"
      ]
     },
     "execution_count": 39,
     "metadata": {
      "tags": []
     },
     "output_type": "execute_result"
    }
   ],
   "source": [
    "not(True and False)"
   ]
  },
  {
   "cell_type": "code",
   "execution_count": 40,
   "metadata": {
    "colab": {
     "base_uri": "https://localhost:8080/",
     "height": 34
    },
    "colab_type": "code",
    "executionInfo": {
     "elapsed": 2311,
     "status": "ok",
     "timestamp": 1587213778133,
     "user": {
      "displayName": "Can Iban",
      "photoUrl": "",
      "userId": "03730186920594796885"
     },
     "user_tz": -180
    },
    "id": "-xj6Y96gJBNi",
    "outputId": "140f74e5-80b7-48c0-99da-fe0c8bc2caaa"
   },
   "outputs": [
    {
     "data": {
      "text/plain": [
       "False"
      ]
     },
     "execution_count": 40,
     "metadata": {
      "tags": []
     },
     "output_type": "execute_result"
    }
   ],
   "source": [
    "(10 < 0) and (10 > 2)"
   ]
  },
  {
   "cell_type": "code",
   "execution_count": 41,
   "metadata": {
    "colab": {
     "base_uri": "https://localhost:8080/",
     "height": 34
    },
    "colab_type": "code",
    "executionInfo": {
     "elapsed": 2277,
     "status": "ok",
     "timestamp": 1587213778135,
     "user": {
      "displayName": "Can Iban",
      "photoUrl": "",
      "userId": "03730186920594796885"
     },
     "user_tz": -180
    },
    "id": "CgtPH3lvJBNl",
    "outputId": "09f5a6cd-c920-47cc-dcb6-c5462fbf22ee"
   },
   "outputs": [
    {
     "data": {
      "text/plain": [
       "True"
      ]
     },
     "execution_count": 41,
     "metadata": {
      "tags": []
     },
     "output_type": "execute_result"
    }
   ],
   "source": [
    "(10 < 0) or (10 > 2)"
   ]
  },
  {
   "cell_type": "code",
   "execution_count": 42,
   "metadata": {
    "colab": {
     "base_uri": "https://localhost:8080/",
     "height": 34
    },
    "colab_type": "code",
    "executionInfo": {
     "elapsed": 2242,
     "status": "ok",
     "timestamp": 1587213778136,
     "user": {
      "displayName": "Can Iban",
      "photoUrl": "",
      "userId": "03730186920594796885"
     },
     "user_tz": -180
    },
    "id": "yDYr_DR4JBNp",
    "outputId": "5c0df7c7-5396-4b00-899f-bd23b3a7b7da"
   },
   "outputs": [
    {
     "data": {
      "text/plain": [
       "True"
      ]
     },
     "execution_count": 42,
     "metadata": {
      "tags": []
     },
     "output_type": "execute_result"
    }
   ],
   "source": [
    "not(10 < 0) or (10 > 2)"
   ]
  },
  {
   "cell_type": "code",
   "execution_count": 43,
   "metadata": {
    "colab": {
     "base_uri": "https://localhost:8080/",
     "height": 34
    },
    "colab_type": "code",
    "executionInfo": {
     "elapsed": 2196,
     "status": "ok",
     "timestamp": 1587213778138,
     "user": {
      "displayName": "Can Iban",
      "photoUrl": "",
      "userId": "03730186920594796885"
     },
     "user_tz": -180
    },
    "id": "5Gtm-TnIJBNt",
    "outputId": "23f671dd-6b7c-461c-d072-76f86ffaf17c"
   },
   "outputs": [
    {
     "data": {
      "text/plain": [
       "False"
      ]
     },
     "execution_count": 43,
     "metadata": {
      "tags": []
     },
     "output_type": "execute_result"
    }
   ],
   "source": [
    "not(10 < 0 or 10 > 2)"
   ]
  },
  {
   "cell_type": "code",
   "execution_count": 44,
   "metadata": {
    "colab": {
     "base_uri": "https://localhost:8080/",
     "height": 34
    },
    "colab_type": "code",
    "executionInfo": {
     "elapsed": 2157,
     "status": "ok",
     "timestamp": 1587213778139,
     "user": {
      "displayName": "Can Iban",
      "photoUrl": "",
      "userId": "03730186920594796885"
     },
     "user_tz": -180
    },
    "id": "Zxv3RnjFJBNw",
    "outputId": "3db660cc-17f7-4fa8-cfcf-ae42442f3a56"
   },
   "outputs": [
    {
     "data": {
      "text/plain": [
       "True"
      ]
     },
     "execution_count": 44,
     "metadata": {
      "tags": []
     },
     "output_type": "execute_result"
    }
   ],
   "source": [
    "not (2.14 > 3.49 or ( 2 != 2 and \"Can\" == \"Can\"))"
   ]
  },
  {
   "cell_type": "markdown",
   "metadata": {
    "colab_type": "text",
    "id": "UqX4zah9JBNz"
   },
   "source": [
    "# 4. İşlem Sırası"
   ]
  },
  {
   "cell_type": "markdown",
   "metadata": {
    "colab_type": "text",
    "id": "oxW2IK_JJBN0"
   },
   "source": [
    "**Python'da operatörlerin işlem sırası aşağıdaki gibidir:**\n",
    "\n",
    "1. `()` ilk önce parantez içlerindeki işlemler yapılır.\n",
    "\n",
    "2. `**` Üslü sayı işlemleri\n",
    "\n",
    "3. `*`, `/` , `//`, `%`, Çarpma, Bölme, Bölen ve Kalan Operatörleri\n",
    "\n",
    "4. `+`, `-`, Toplama ve Çıkarma Operatörleri\n",
    "\n",
    "5. `==`, `!=`, `>`, `>=`, `<`, `<=` Karşılaştırma Operatörleri\n",
    "\n",
    "6. `not`\n",
    "\n",
    "7. `and`\n",
    "\n",
    "8. `or`\n",
    "\n",
    "**Örneğin;** "
   ]
  },
  {
   "cell_type": "code",
   "execution_count": 45,
   "metadata": {
    "colab": {
     "base_uri": "https://localhost:8080/",
     "height": 34
    },
    "colab_type": "code",
    "executionInfo": {
     "elapsed": 2124,
     "status": "ok",
     "timestamp": 1587213778143,
     "user": {
      "displayName": "Can Iban",
      "photoUrl": "",
      "userId": "03730186920594796885"
     },
     "user_tz": -180
    },
    "id": "o3ms-N20JBN0",
    "outputId": "30420661-ed71-4521-9a1e-d4f9bd605d69"
   },
   "outputs": [
    {
     "data": {
      "text/plain": [
       "20"
      ]
     },
     "execution_count": 45,
     "metadata": {
      "tags": []
     },
     "output_type": "execute_result"
    }
   ],
   "source": [
    "2 + 3 * 6"
   ]
  },
  {
   "cell_type": "code",
   "execution_count": 46,
   "metadata": {
    "colab": {
     "base_uri": "https://localhost:8080/",
     "height": 34
    },
    "colab_type": "code",
    "executionInfo": {
     "elapsed": 2090,
     "status": "ok",
     "timestamp": 1587213778145,
     "user": {
      "displayName": "Can Iban",
      "photoUrl": "",
      "userId": "03730186920594796885"
     },
     "user_tz": -180
    },
    "id": "sigcRpuEJBN4",
    "outputId": "07fd61a5-799c-4384-8c10-85d85a36451d"
   },
   "outputs": [
    {
     "data": {
      "text/plain": [
       "30"
      ]
     },
     "execution_count": 46,
     "metadata": {
      "tags": []
     },
     "output_type": "execute_result"
    }
   ],
   "source": [
    "(2 + 3) * 6"
   ]
  },
  {
   "cell_type": "code",
   "execution_count": 47,
   "metadata": {
    "colab": {
     "base_uri": "https://localhost:8080/",
     "height": 34
    },
    "colab_type": "code",
    "executionInfo": {
     "elapsed": 2040,
     "status": "ok",
     "timestamp": 1587213778146,
     "user": {
      "displayName": "Can Iban",
      "photoUrl": "",
      "userId": "03730186920594796885"
     },
     "user_tz": -180
    },
    "id": "61fF_uKvJBN7",
    "outputId": "0336c788-2d1a-406f-d8a9-a57f7f26a4e3"
   },
   "outputs": [
    {
     "data": {
      "text/plain": [
       "12.0"
      ]
     },
     "execution_count": 47,
     "metadata": {
      "tags": []
     },
     "output_type": "execute_result"
    }
   ],
   "source": [
    "6 * 4 / 2"
   ]
  },
  {
   "cell_type": "code",
   "execution_count": 48,
   "metadata": {
    "colab": {
     "base_uri": "https://localhost:8080/",
     "height": 34
    },
    "colab_type": "code",
    "executionInfo": {
     "elapsed": 1989,
     "status": "ok",
     "timestamp": 1587213778148,
     "user": {
      "displayName": "Can Iban",
      "photoUrl": "",
      "userId": "03730186920594796885"
     },
     "user_tz": -180
    },
    "id": "eWE_shJ6JBN-",
    "outputId": "482adad4-f688-45d9-fa7a-bd9bda0644e1"
   },
   "outputs": [
    {
     "data": {
      "text/plain": [
       "True"
      ]
     },
     "execution_count": 48,
     "metadata": {
      "tags": []
     },
     "output_type": "execute_result"
    }
   ],
   "source": [
    "True == (3 + 5 > 2) "
   ]
  }
 ],
 "metadata": {
  "colab": {
   "collapsed_sections": [],
   "name": "unite-1-ifadeler-degiskenler-operatorler.ipynb",
   "provenance": []
  },
  "kernelspec": {
   "display_name": "Python 3",
   "language": "python",
   "name": "python3"
  },
  "language_info": {
   "codemirror_mode": {
    "name": "ipython",
    "version": 3
   },
   "file_extension": ".py",
   "mimetype": "text/x-python",
   "name": "python",
   "nbconvert_exporter": "python",
   "pygments_lexer": "ipython3",
   "version": "3.7.6"
  }
 },
 "nbformat": 4,
 "nbformat_minor": 1
}
