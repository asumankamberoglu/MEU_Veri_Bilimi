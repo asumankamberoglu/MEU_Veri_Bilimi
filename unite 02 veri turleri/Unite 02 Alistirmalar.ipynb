{
 "cells": [
  {
   "cell_type": "markdown",
   "metadata": {},
   "source": [
    "## Alıştırma 1\n",
    "Bir uçak, 9000 saniyede 395,000 metre yolculuk etmektedir. Bu uçağın hızını km/s cinsinden hesaplayabilen bir program yazınız. \n",
    "       \n",
    "       "
   ]
  },
  {
   "cell_type": "code",
   "execution_count": null,
   "metadata": {},
   "outputs": [],
   "source": []
  },
  {
   "cell_type": "markdown",
   "metadata": {},
   "source": [
    "## Alıştırma 2\n",
    "Dikdörtgen şeklindeki içi su dolu bir havuzu boşaltmanız gerekmektedir. Bu havuz, 12 metre uzunluğunda, 7 metre genişliğinde ve 2 metre derinliğindedir. Elinizdeki pompa, saatte 17 metreküp su tahliye edebilmektedir. Havuzunuzu boşaltmanız için gereken zamanı hesaplayabileceğiniz bir program yazınız.\n",
    "\n",
    "    "
   ]
  },
  {
   "cell_type": "code",
   "execution_count": null,
   "metadata": {},
   "outputs": [],
   "source": []
  },
  {
   "cell_type": "markdown",
   "metadata": {},
   "source": [
    "## Alıştırma 3\n",
    "Santigrad cinsinden verilen bir sıcaklığı, Fahrenheit cinsine çevirebilecek bir program yazınız.\n",
    "\n",
    "__Not: Girdi değerinin ondalık sayı cinsinden olması gerekmektedir.__"
   ]
  },
  {
   "cell_type": "code",
   "execution_count": null,
   "metadata": {},
   "outputs": [],
   "source": []
  }
 ],
 "metadata": {
  "kernelspec": {
   "display_name": "Python 3",
   "language": "python",
   "name": "python3"
  },
  "language_info": {
   "codemirror_mode": {
    "name": "ipython",
    "version": 3
   },
   "file_extension": ".py",
   "mimetype": "text/x-python",
   "name": "python",
   "nbconvert_exporter": "python",
   "pygments_lexer": "ipython3",
   "version": "3.7.6"
  }
 },
 "nbformat": 4,
 "nbformat_minor": 4
}
