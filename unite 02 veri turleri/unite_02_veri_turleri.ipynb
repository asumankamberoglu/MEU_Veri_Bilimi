{
 "cells": [
  {
   "cell_type": "markdown",
   "metadata": {
    "colab_type": "text",
    "id": "dz3jIt-iupFa"
   },
   "source": [
    "# ÜNİTE 2 - VERİ TÜRLERİ"
   ]
  },
  {
   "cell_type": "markdown",
   "metadata": {
    "colab_type": "text",
    "id": "V6_pVx9JupFd"
   },
   "source": [
    "Veri türleri, bir program içerisinde saklanan ve işlenen, sayılar ya da karakterlerden oluşan verinin türünü ifade eder. Python'daki temel veri türleri: \n",
    "1. Numbers (Sayılar)\n",
    "2. Boolean\n",
    "3. Strings (Karakter dizileri) \n",
    "4. None\n",
    "\n",
    "\n"
   ]
  },
  {
   "cell_type": "markdown",
   "metadata": {
    "colab_type": "text",
    "id": "DgCITYK2upFf"
   },
   "source": [
    "# 1. Numbers"
   ]
  },
  {
   "cell_type": "markdown",
   "metadata": {
    "colab_type": "text",
    "id": "G9EPXk2EupFi"
   },
   "source": [
    " - Tam sayılar (integer numbers), ondalık sayılar (float numbers) ve karmaşık sayılar (complex numbers), Python için sayılar (numbers) kategorisindeki veri türlerini oluşturur.  \n",
    " \n",
    "- Sırasıyla, `int`, `float` ve `complex` veri türü isimleri ile adlandırılır. \n",
    "\n",
    "- Tam sayılar, cihaz hafızası kapasitesinin izin verdiği kadar sınırsız uzunluğa sahip olabilir. Ondalık sayılarda ise, 15 haneli ondalık kısma kadar iyi bir doğruluk beklenir. \n",
    "\n",
    "- Tam ve ondalık sayılar 'nokta' konularak birbirinden ayrılır. `1`, bir tam sayı iken, `1.0` bir ondalık sayı olarak algılanır. Karmaşık sayılar ise `x+yj` formunda yazılır. x, gerçel kısmı, y ise imajiner kısmı temsil eder. "
   ]
  },
  {
   "cell_type": "markdown",
   "metadata": {
    "colab_type": "text",
    "id": "472huhK7upFj"
   },
   "source": [
    "## 1.1 `int() `Fonksiyonu"
   ]
  },
  {
   "cell_type": "markdown",
   "metadata": {
    "colab_type": "text",
    "id": "n0eeYFxUupFl"
   },
   "source": [
    "Bir ondalık sayıyı ya da bir stringi, tam sayıya dönüştürmeye yarar. Örneğin,"
   ]
  },
  {
   "cell_type": "code",
   "execution_count": 1,
   "metadata": {
    "colab": {
     "base_uri": "https://localhost:8080/",
     "height": 51
    },
    "colab_type": "code",
    "executionInfo": {
     "elapsed": 2482,
     "status": "ok",
     "timestamp": 1587214005102,
     "user": {
      "displayName": "Can Iban",
      "photoUrl": "",
      "userId": "03730186920594796885"
     },
     "user_tz": -180
    },
    "id": "97BHuuXLupFn",
    "outputId": "d5ea9201-fa51-4995-dec4-8a2a1d513f2a"
   },
   "outputs": [
    {
     "name": "stdout",
     "output_type": "stream",
     "text": [
      "Ondalık Sayıdan Tam Sayıya Dönüşümün Sonucu 3\n",
      "Stringten Tam Sayıya Dönüşümün Sonucu 1\n"
     ]
    }
   ],
   "source": [
    "ondaliktan_tamsayiya = int(3.9)\n",
    "stringten_tamsayiya = int(\"1\") #sayı, string olarak tanımlanmaktadır.\n",
    "print(f\"Ondalık Sayıdan Tam Sayıya Dönüşümün Sonucu {ondaliktan_tamsayiya}\")\n",
    "print(f\"Stringten Tam Sayıya Dönüşümün Sonucu {stringten_tamsayiya}\")"
   ]
  },
  {
   "cell_type": "markdown",
   "metadata": {
    "colab_type": "text",
    "id": "FpvBQRfgupFy"
   },
   "source": [
    "## 1.2 `float() `Fonksiyonu\n",
    "\n",
    "Bir sayıyı ya da stringi, ondalık sayıya dönüştüren fonksiyondur. Örneğin;"
   ]
  },
  {
   "cell_type": "code",
   "execution_count": 2,
   "metadata": {
    "colab": {
     "base_uri": "https://localhost:8080/",
     "height": 51
    },
    "colab_type": "code",
    "executionInfo": {
     "elapsed": 2450,
     "status": "ok",
     "timestamp": 1587214005105,
     "user": {
      "displayName": "Can Iban",
      "photoUrl": "",
      "userId": "03730186920594796885"
     },
     "user_tz": -180
    },
    "id": "CXkZrCGpupF0",
    "outputId": "9e41adac-46b3-40e6-a002-e8112d309f32"
   },
   "outputs": [
    {
     "name": "stdout",
     "output_type": "stream",
     "text": [
      "Tam sayıdan Ondalık Sayıya Dönüşümün Sonucu 4.0\n",
      "Stringten Ondalık Sayıya Dönüşümün Sonucu 1.0\n"
     ]
    }
   ],
   "source": [
    "tamsayidan_ondaliga = float(4)\n",
    "stringten_ondaliga = float(\"1\") ##sayı, string olarak tanımlanmaktadır.\n",
    "print(f\"Tam sayıdan Ondalık Sayıya Dönüşümün Sonucu {tamsayidan_ondaliga}\")\n",
    "print(f\"Stringten Ondalık Sayıya Dönüşümün Sonucu {stringten_ondaliga}\")"
   ]
  },
  {
   "cell_type": "markdown",
   "metadata": {
    "colab_type": "text",
    "id": "gCi1781TupF5"
   },
   "source": [
    "## 1.3 `complex()` Fonksiyonu\n",
    "\n",
    "Bu fonksiyon, **gerçek + imajiner * j** formatında bir karmaşık sayı yazdırmak için ya da bir string veya sayıyı karmaşık sayıya çevirmek için kullanılır. Fonksiyona girecek olan ilk argüman bir string ise, program bunu bir karmaşık sayı olarak algılar ve asla ikinci argüman olarak bir başka string kullanılmaz. Bir başka deyişle, string kullanımı ile karmaşık sayının sadece reel kısmı oluşturulur. Her argüman, bir sayı olabilir. İmajiner kısım girilmezse, otomatik olarak sıfır atanır. Örneğin;\n",
    "\n",
    "\n"
   ]
  },
  {
   "cell_type": "code",
   "execution_count": 3,
   "metadata": {
    "colab": {
     "base_uri": "https://localhost:8080/",
     "height": 51
    },
    "colab_type": "code",
    "executionInfo": {
     "elapsed": 2427,
     "status": "ok",
     "timestamp": 1587214005107,
     "user": {
      "displayName": "Can Iban",
      "photoUrl": "",
      "userId": "03730186920594796885"
     },
     "user_tz": -180
    },
    "id": "iaXvpV5TupF7",
    "outputId": "1bfd44dc-3b67-4961-c829-dce0e9cea997"
   },
   "outputs": [
    {
     "name": "stdout",
     "output_type": "stream",
     "text": [
      "Stringten kompleks sayının reel kısmının oluşturulmasının sonucu: (1+0j)'dir.\n",
      "Sayıdan kompleks sayının reel ve imajiner kısmının oluşturulmasının sonucu: (5+8j)'dir.\n"
     ]
    }
   ],
   "source": [
    "stringten_komplekse = complex(\"1\")\n",
    "sayidan_komplekse = complex(5,8)\n",
    "print(f\"Stringten kompleks sayının reel kısmının oluşturulmasının sonucu: {stringten_komplekse}'dir.\")\n",
    "print(f\"Sayıdan kompleks sayının reel ve imajiner kısmının oluşturulmasının sonucu: {sayidan_komplekse}'dir.\")"
   ]
  },
  {
   "cell_type": "markdown",
   "metadata": {
    "colab_type": "text",
    "id": "sLXl0f6pupGC"
   },
   "source": [
    "# 2. Boolean"
   ]
  },
  {
   "cell_type": "markdown",
   "metadata": {
    "colab_type": "text",
    "id": "LtmgjWH3upGE"
   },
   "source": [
    "Boolean veri tipi, koşullu ifadeler kullanılırken oldukça işe yaramaktadır. Eğer programda tanımlanan koşullar bir 'Evet-Hayır' ya da 'Doğru-Yanlış' sorusu içeriyorsa, bu koşullara atanacak değerler bir Boolean değeri (yani `True` ya da `False` değerlerinden biri) olmaktadır. `True` ve `False` değerleri, birbirine zıt değerler olarak algılanır. "
   ]
  },
  {
   "cell_type": "markdown",
   "metadata": {
    "colab_type": "text",
    "id": "VC5zEHMvupGG"
   },
   "source": [
    " - Atanan her değişken, eğer bir içeriğe sahip ise `True` olarak değerlendirilir.\n",
    "\n",
    " - Boş string haricinde, tüm string değişkenler `True` olur.\n",
    "\n",
    " - Sıfır haricinde tüm sayılar `True` olur.\n",
    "\n",
    " - Boş olmadığı sürece tüm listeler, kümeler ve sözlükler `True` olarak değerlendirilir. "
   ]
  },
  {
   "cell_type": "code",
   "execution_count": 4,
   "metadata": {
    "colab": {
     "base_uri": "https://localhost:8080/",
     "height": 34
    },
    "colab_type": "code",
    "executionInfo": {
     "elapsed": 2402,
     "status": "ok",
     "timestamp": 1587214005109,
     "user": {
      "displayName": "Can Iban",
      "photoUrl": "",
      "userId": "03730186920594796885"
     },
     "user_tz": -180
    },
    "id": "XB77VXheupGI",
    "outputId": "d1e8bead-10c7-4a6e-8c38-24957700b06b"
   },
   "outputs": [
    {
     "data": {
      "text/plain": [
       "True"
      ]
     },
     "execution_count": 4,
     "metadata": {},
     "output_type": "execute_result"
    }
   ],
   "source": [
    "bool(\"abc\")"
   ]
  },
  {
   "cell_type": "code",
   "execution_count": 5,
   "metadata": {
    "colab": {
     "base_uri": "https://localhost:8080/",
     "height": 34
    },
    "colab_type": "code",
    "executionInfo": {
     "elapsed": 2375,
     "status": "ok",
     "timestamp": 1587214005110,
     "user": {
      "displayName": "Can Iban",
      "photoUrl": "",
      "userId": "03730186920594796885"
     },
     "user_tz": -180
    },
    "id": "1IlZFUQuupGO",
    "outputId": "25ad2310-2b10-4245-bc51-9c4309b74611"
   },
   "outputs": [
    {
     "data": {
      "text/plain": [
       "True"
      ]
     },
     "execution_count": 5,
     "metadata": {},
     "output_type": "execute_result"
    }
   ],
   "source": [
    "bool(123)"
   ]
  },
  {
   "cell_type": "code",
   "execution_count": 6,
   "metadata": {
    "colab": {
     "base_uri": "https://localhost:8080/",
     "height": 34
    },
    "colab_type": "code",
    "executionInfo": {
     "elapsed": 2352,
     "status": "ok",
     "timestamp": 1587214005111,
     "user": {
      "displayName": "Can Iban",
      "photoUrl": "",
      "userId": "03730186920594796885"
     },
     "user_tz": -180
    },
    "id": "sIUm1-ffupGU",
    "outputId": "34b0a15e-783d-4f29-c1c5-26227007bfb3"
   },
   "outputs": [
    {
     "data": {
      "text/plain": [
       "True"
      ]
     },
     "execution_count": 6,
     "metadata": {},
     "output_type": "execute_result"
    }
   ],
   "source": [
    "bool([\"elma\", \"armut\", \"muz\"])"
   ]
  },
  {
   "cell_type": "code",
   "execution_count": 7,
   "metadata": {
    "colab": {
     "base_uri": "https://localhost:8080/",
     "height": 34
    },
    "colab_type": "code",
    "executionInfo": {
     "elapsed": 2319,
     "status": "ok",
     "timestamp": 1587214005112,
     "user": {
      "displayName": "Can Iban",
      "photoUrl": "",
      "userId": "03730186920594796885"
     },
     "user_tz": -180
    },
    "id": "Nt4mkCymupGa",
    "outputId": "aebe6887-7b3e-472a-9980-f6950819d6bf"
   },
   "outputs": [
    {
     "data": {
      "text/plain": [
       "False"
      ]
     },
     "execution_count": 7,
     "metadata": {},
     "output_type": "execute_result"
    }
   ],
   "source": [
    "bool(False)"
   ]
  },
  {
   "cell_type": "code",
   "execution_count": 8,
   "metadata": {
    "colab": {
     "base_uri": "https://localhost:8080/",
     "height": 34
    },
    "colab_type": "code",
    "executionInfo": {
     "elapsed": 2295,
     "status": "ok",
     "timestamp": 1587214005113,
     "user": {
      "displayName": "Can Iban",
      "photoUrl": "",
      "userId": "03730186920594796885"
     },
     "user_tz": -180
    },
    "id": "HzZEehrsupGh",
    "outputId": "8c677745-1401-48b5-f605-9afed7d153e3"
   },
   "outputs": [
    {
     "data": {
      "text/plain": [
       "False"
      ]
     },
     "execution_count": 8,
     "metadata": {},
     "output_type": "execute_result"
    }
   ],
   "source": [
    "bool(None)"
   ]
  },
  {
   "cell_type": "code",
   "execution_count": 9,
   "metadata": {
    "colab": {
     "base_uri": "https://localhost:8080/",
     "height": 34
    },
    "colab_type": "code",
    "executionInfo": {
     "elapsed": 2272,
     "status": "ok",
     "timestamp": 1587214005115,
     "user": {
      "displayName": "Can Iban",
      "photoUrl": "",
      "userId": "03730186920594796885"
     },
     "user_tz": -180
    },
    "id": "3ybe8IWEupGm",
    "outputId": "3e4b7184-012f-46a6-b0a3-e37a5d5510d7"
   },
   "outputs": [
    {
     "data": {
      "text/plain": [
       "False"
      ]
     },
     "execution_count": 9,
     "metadata": {},
     "output_type": "execute_result"
    }
   ],
   "source": [
    "bool(0)"
   ]
  },
  {
   "cell_type": "code",
   "execution_count": 10,
   "metadata": {
    "colab": {
     "base_uri": "https://localhost:8080/",
     "height": 34
    },
    "colab_type": "code",
    "executionInfo": {
     "elapsed": 2234,
     "status": "ok",
     "timestamp": 1587214005116,
     "user": {
      "displayName": "Can Iban",
      "photoUrl": "",
      "userId": "03730186920594796885"
     },
     "user_tz": -180
    },
    "id": "xPma820XupGr",
    "outputId": "8156ba4e-4fe4-45b3-f1d5-3416bec3185c"
   },
   "outputs": [
    {
     "data": {
      "text/plain": [
       "False"
      ]
     },
     "execution_count": 10,
     "metadata": {},
     "output_type": "execute_result"
    }
   ],
   "source": [
    "bool(\"\")"
   ]
  },
  {
   "cell_type": "markdown",
   "metadata": {
    "colab_type": "text",
    "id": "ZUMiav6AupGw"
   },
   "source": [
    "# 3. Strings"
   ]
  },
  {
   "cell_type": "markdown",
   "metadata": {
    "colab_type": "text",
    "id": "yKO92D6iupGx"
   },
   "source": [
    " - String veri tipi, bir ya da daha fazla karakterden oluşan dizilerdir.\n",
    "\n",
    " - Bu karakterler, harfler, rakamlar ya da diğer türdeki karakterlerden oluşabilir.\n",
    "\n",
    " - Bir string, aynı zamanda boşluk içerebilir. Tek (`' '`) ya da çift (`\" \"`) ayraçlar, string oluşturmaya yarar. \n",
    "\n",
    " - Stringler, sabit değerlerdir. Değişken değildir.\n",
    "\n",
    " - Çok satırlı string oluşturmak için üç adet ayraç (`'''` ya da `\"\"\"`) kullanılır. Örneğin:"
   ]
  },
  {
   "cell_type": "code",
   "execution_count": 11,
   "metadata": {
    "colab": {},
    "colab_type": "code",
    "id": "l2OxSuVWupGz"
   },
   "outputs": [],
   "source": [
    "s = 'Bu, tek ayraçla oluşturulmuş stringtir'"
   ]
  },
  {
   "cell_type": "code",
   "execution_count": 12,
   "metadata": {
    "colab": {},
    "colab_type": "code",
    "id": "lZxuWv5EupG5"
   },
   "outputs": [],
   "source": [
    "s = \"Bu, çift ayraçla oluşturulmuş stringtir\""
   ]
  },
  {
   "cell_type": "code",
   "execution_count": 13,
   "metadata": {
    "colab": {},
    "colab_type": "code",
    "id": "DsV9Pq_eupG-"
   },
   "outputs": [],
   "source": [
    "s = '''Bu,\n",
    "        çok satırlı\n",
    "            oluşturulmuş bir stringtir.'''"
   ]
  },
  {
   "cell_type": "code",
   "execution_count": 14,
   "metadata": {
    "colab": {},
    "colab_type": "code",
    "id": "5o2gjt7aupHE"
   },
   "outputs": [],
   "source": [
    "s = \"a\""
   ]
  },
  {
   "cell_type": "markdown",
   "metadata": {
    "colab_type": "text",
    "id": "oIOpYCW5upHJ"
   },
   "source": [
    "## 3.1 `str()` Fonksiyonu\n",
    "\n",
    "Girilen herhangi bir veriyi, stringe dönüştürür. Örneğin;"
   ]
  },
  {
   "cell_type": "code",
   "execution_count": 15,
   "metadata": {
    "colab": {
     "base_uri": "https://localhost:8080/",
     "height": 51
    },
    "colab_type": "code",
    "executionInfo": {
     "elapsed": 2192,
     "status": "ok",
     "timestamp": 1587214005122,
     "user": {
      "displayName": "Can Iban",
      "photoUrl": "",
      "userId": "03730186920594796885"
     },
     "user_tz": -180
    },
    "id": "b4P38-TYupHK",
    "outputId": "dce8d2a1-4529-4c32-875b-be26d1639336"
   },
   "outputs": [
    {
     "name": "stdout",
     "output_type": "stream",
     "text": [
      "Tamsayıdan Stringe olan dönüşümün sonucu 8\n",
      "Ondalık Sayıdan Stringe olan dönüşümün sonucu 3.5\n"
     ]
    }
   ],
   "source": [
    "tamsayidan_stringe = str(8)\n",
    "ondaliktan_stringe = str(3.5)\n",
    "print(f\"Tamsayıdan Stringe olan dönüşümün sonucu {tamsayidan_stringe}\")\n",
    "print(f\"Ondalık Sayıdan Stringe olan dönüşümün sonucu {ondaliktan_stringe}\")\n"
   ]
  },
  {
   "cell_type": "markdown",
   "metadata": {
    "colab_type": "text",
    "id": "yEzSTA0oupHO"
   },
   "source": [
    "# 4. None"
   ]
  },
  {
   "cell_type": "markdown",
   "metadata": {
    "colab_type": "text",
    "id": "aOwPf8jAupHR"
   },
   "source": [
    "`None`, Python'daki bir diğer özel veri tipidir. None veri tipi, bir değerin eksikliğini, var olmamasını ya da mevcut olmamasını temsil etmesi için kullanılır. Örneğin;"
   ]
  },
  {
   "cell_type": "code",
   "execution_count": 16,
   "metadata": {
    "colab": {},
    "colab_type": "code",
    "id": "OtasxkkYupHT"
   },
   "outputs": [
    {
     "name": "stdout",
     "output_type": "stream",
     "text": [
      "None\n"
     ]
    }
   ],
   "source": [
    "para = None\n",
    "print(para)"
   ]
  },
  {
   "cell_type": "markdown",
   "metadata": {
    "colab_type": "text",
    "id": "1KnMu6MeupHa"
   },
   "source": [
    "Buradaki `None` değeri, para değişkeni için atanmıştır. "
   ]
  },
  {
   "cell_type": "markdown",
   "metadata": {},
   "source": [
    "![figure](https://miro.medium.com/max/700/1*deBCy2VgkXZOzeH4osPiyA.jpeg)"
   ]
  },
  {
   "cell_type": "markdown",
   "metadata": {
    "colab_type": "text",
    "id": "V35pAvYrupHb"
   },
   "source": [
    "# 5. `type()` Fonksiyonu ve `is` Operatörü"
   ]
  },
  {
   "cell_type": "markdown",
   "metadata": {
    "colab_type": "text",
    "id": "tkyEYzgzupHd"
   },
   "source": [
    "`type()` fonksiyonu, girilen değikenin veri tipini gösterir. Örneğin;\n",
    "\n",
    "Bu fonksiyonun söz dizimi;\n",
    "\n",
    "        type(nesne)"
   ]
  },
  {
   "cell_type": "code",
   "execution_count": 17,
   "metadata": {
    "colab": {
     "base_uri": "https://localhost:8080/",
     "height": 34
    },
    "colab_type": "code",
    "executionInfo": {
     "elapsed": 2165,
     "status": "ok",
     "timestamp": 1587214005124,
     "user": {
      "displayName": "Can Iban",
      "photoUrl": "",
      "userId": "03730186920594796885"
     },
     "user_tz": -180
    },
    "id": "6s5Wia3kupHf",
    "outputId": "d5ac8c9c-0ae0-4195-a740-fd27699301c8"
   },
   "outputs": [
    {
     "data": {
      "text/plain": [
       "int"
      ]
     },
     "execution_count": 17,
     "metadata": {},
     "output_type": "execute_result"
    }
   ],
   "source": [
    "type(1)"
   ]
  },
  {
   "cell_type": "code",
   "execution_count": 18,
   "metadata": {
    "colab": {
     "base_uri": "https://localhost:8080/",
     "height": 34
    },
    "colab_type": "code",
    "executionInfo": {
     "elapsed": 2134,
     "status": "ok",
     "timestamp": 1587214005124,
     "user": {
      "displayName": "Can Iban",
      "photoUrl": "",
      "userId": "03730186920594796885"
     },
     "user_tz": -180
    },
    "id": "8berhTonupHl",
    "outputId": "a706b6b9-264d-4aeb-b4da-f753b5e00e5f"
   },
   "outputs": [
    {
     "data": {
      "text/plain": [
       "float"
      ]
     },
     "execution_count": 18,
     "metadata": {},
     "output_type": "execute_result"
    }
   ],
   "source": [
    "type(6.4)"
   ]
  },
  {
   "cell_type": "code",
   "execution_count": 19,
   "metadata": {
    "colab": {
     "base_uri": "https://localhost:8080/",
     "height": 34
    },
    "colab_type": "code",
    "executionInfo": {
     "elapsed": 2107,
     "status": "ok",
     "timestamp": 1587214005125,
     "user": {
      "displayName": "Can Iban",
      "photoUrl": "",
      "userId": "03730186920594796885"
     },
     "user_tz": -180
    },
    "id": "DNu5BSFxupHq",
    "outputId": "8b498ade-1b10-4474-e423-6ea6f211acda"
   },
   "outputs": [
    {
     "data": {
      "text/plain": [
       "str"
      ]
     },
     "execution_count": 19,
     "metadata": {},
     "output_type": "execute_result"
    }
   ],
   "source": [
    "type(\"A\")"
   ]
  },
  {
   "cell_type": "code",
   "execution_count": 20,
   "metadata": {
    "colab": {
     "base_uri": "https://localhost:8080/",
     "height": 34
    },
    "colab_type": "code",
    "executionInfo": {
     "elapsed": 2084,
     "status": "ok",
     "timestamp": 1587214005126,
     "user": {
      "displayName": "Can Iban",
      "photoUrl": "",
      "userId": "03730186920594796885"
     },
     "user_tz": -180
    },
    "id": "7Gm0gCMEupHu",
    "outputId": "aefdcab6-6456-49f5-8e3c-eab83bceb1ad"
   },
   "outputs": [
    {
     "data": {
      "text/plain": [
       "bool"
      ]
     },
     "execution_count": 20,
     "metadata": {},
     "output_type": "execute_result"
    }
   ],
   "source": [
    "type(True)"
   ]
  },
  {
   "cell_type": "markdown",
   "metadata": {
    "colab_type": "text",
    "id": "calg1qzVupHz"
   },
   "source": [
    "`type()` fonksiyonunu, kullandığınız değişkenlerin ya da nesnelerin türünü unuttuğunuzda kullanmanız faydalı olacaktır. \n",
    "\n",
    "`is` operatörü, denklemin iki tarafındaki değerler eşitse `True` sonucunu verir; değilse  `False` sonucunu verir. Örneğin;"
   ]
  },
  {
   "cell_type": "code",
   "execution_count": 21,
   "metadata": {
    "colab": {
     "base_uri": "https://localhost:8080/",
     "height": 34
    },
    "colab_type": "code",
    "executionInfo": {
     "elapsed": 2060,
     "status": "ok",
     "timestamp": 1587214005127,
     "user": {
      "displayName": "Can Iban",
      "photoUrl": "",
      "userId": "03730186920594796885"
     },
     "user_tz": -180
    },
    "id": "WaWnbYrxupH0",
    "outputId": "34d98a65-0abb-43f2-ecba-1e40374a80dd"
   },
   "outputs": [
    {
     "data": {
      "text/plain": [
       "True"
      ]
     },
     "execution_count": 21,
     "metadata": {},
     "output_type": "execute_result"
    }
   ],
   "source": [
    "x = \"Ankara\"\n",
    "\n",
    "y = \"Ankara\"\n",
    "\n",
    "x is y"
   ]
  },
  {
   "cell_type": "code",
   "execution_count": 22,
   "metadata": {
    "colab": {
     "base_uri": "https://localhost:8080/",
     "height": 34
    },
    "colab_type": "code",
    "executionInfo": {
     "elapsed": 2036,
     "status": "ok",
     "timestamp": 1587214005127,
     "user": {
      "displayName": "Can Iban",
      "photoUrl": "",
      "userId": "03730186920594796885"
     },
     "user_tz": -180
    },
    "id": "5CoQGN7cupH5",
    "outputId": "30a2ca03-d778-481d-e43b-ae2a6d65f131"
   },
   "outputs": [
    {
     "data": {
      "text/plain": [
       "False"
      ]
     },
     "execution_count": 22,
     "metadata": {},
     "output_type": "execute_result"
    }
   ],
   "source": [
    "z = \"İzmir\"\n",
    "\n",
    "x is z "
   ]
  },
  {
   "cell_type": "markdown",
   "metadata": {
    "colab_type": "text",
    "id": "zc2FFetgupH-"
   },
   "source": [
    "`is not` operatörü ise, üstteki durumun tam tersidir. İki taraftaki nesneler birbirinin aynısı değilse, True sonucunu verir."
   ]
  },
  {
   "cell_type": "code",
   "execution_count": 23,
   "metadata": {
    "colab": {
     "base_uri": "https://localhost:8080/",
     "height": 34
    },
    "colab_type": "code",
    "executionInfo": {
     "elapsed": 2006,
     "status": "ok",
     "timestamp": 1587214005128,
     "user": {
      "displayName": "Can Iban",
      "photoUrl": "",
      "userId": "03730186920594796885"
     },
     "user_tz": -180
    },
    "id": "JGZzu_x8upIA",
    "outputId": "7d18d2ed-4c9d-42cd-eebb-2e594212a750"
   },
   "outputs": [
    {
     "data": {
      "text/plain": [
       "True"
      ]
     },
     "execution_count": 23,
     "metadata": {},
     "output_type": "execute_result"
    }
   ],
   "source": [
    "x is not z"
   ]
  },
  {
   "cell_type": "markdown",
   "metadata": {
    "colab_type": "text",
    "id": "zKsFFp0hupIG"
   },
   "source": [
    "# 6. Indentation *(Satır Girintileri)*"
   ]
  },
  {
   "cell_type": "markdown",
   "metadata": {
    "colab_type": "text",
    "id": "8Ba-PmHyupII"
   },
   "source": [
    "Python'da, programlar satır girintileri boyunca yapılandırılır. Python'da satır girintileri zorunluluktur. Bu girintiler, kodun daha okunaklı ve anlaşılır olmasını sağlar. Aynı satır girintileri içerisinde yazılan ifadeler, program tarafından aynı kod bloğu içerisinde değerlendirilir. Eğer bir sonraki ifade, daha sola yanaşık olarak yazıldıysa, bir önceki kod bloğunun bittiği anlamına gelir. Bir başka ifadeyle, bir kod bloğundaki ifadeler sağ taraftan uzaklaşır. \n",
    "\n",
    "Şekilde görüleceği üzere, Block 2 ve Block 3, Block 1'in altında toplanmıştır. Satır girintilerinde yapılan yanlışlıklar, satır girintisi hatası (`IndentationError`) verir. "
   ]
  },
  {
   "cell_type": "markdown",
   "metadata": {
    "colab_type": "text",
    "id": "GgNw3Od5wOSC"
   },
   "source": [
    "![Python Indentation](https://www.python-course.eu/images/blocks.png)"
   ]
  },
  {
   "cell_type": "markdown",
   "metadata": {
    "colab_type": "text",
    "id": "J2KNSdG1upIL"
   },
   "source": [
    "# 7 Yorumlar *(Comments)*"
   ]
  },
  {
   "cell_type": "markdown",
   "metadata": {
    "colab_type": "text",
    "id": "FerUAdZ0upIM"
   },
   "source": [
    "Yorumlar, bir program için oldukça önemlidir. Yorum, programın ya da programın bir kısmının ne yapmaya çalıştığını tanımlamamızı sağlayan metinlerdir. Python derleyicisi tarafından çalıştırılmazlar. Yorumlar, sizin ve diğer programcıların programı anlaması, çalıştırması ve hatalarından arındırması için mutlaka yazılmalıdır. Python, iki tip yorum biçimine sahiptir: Tek satırlı yorumlar ve çok satırlı yorumlar."
   ]
  },
  {
   "cell_type": "markdown",
   "metadata": {
    "colab_type": "text",
    "id": "d1krX9K4upIO"
   },
   "source": [
    "## 7.1 Tek Satırlı Yorumlar *(Single Line Comment)*"
   ]
  },
  {
   "cell_type": "markdown",
   "metadata": {
    "colab_type": "text",
    "id": "MKa-zbiHupIQ"
   },
   "source": [
    "Python'da, hash sembolü (`#`) yorum yazmaya başlamak için kullanılır. Bu sembolün kullanılmasıyla, satırda ardından gelen tüm metin bir yoruma dönüşür. Örneğin,"
   ]
  },
  {
   "cell_type": "code",
   "execution_count": 24,
   "metadata": {
    "colab": {},
    "colab_type": "code",
    "id": "40xWT5iuupIS"
   },
   "outputs": [],
   "source": [
    "# Bu tek satırlı bir Python yorumudur."
   ]
  },
  {
   "cell_type": "markdown",
   "metadata": {
    "colab_type": "text",
    "id": "YWgNE6gdupIZ"
   },
   "source": [
    "## 7.2 Çok Satırlı Yorumlar *(Multi Line Comments)*"
   ]
  },
  {
   "cell_type": "markdown",
   "metadata": {
    "colab_type": "text",
    "id": "v7Ul1dG-upIb"
   },
   "source": [
    "Yazılacak olan yorum metninin çok sayıda satıra genişlemesi gerekiyorsa, her satırın başına hash sembolü koymak (`#`) gerekmektedir. Örneğin,"
   ]
  },
  {
   "cell_type": "code",
   "execution_count": 25,
   "metadata": {
    "colab": {},
    "colab_type": "code",
    "id": "dTI0rAmIupIc"
   },
   "outputs": [],
   "source": [
    "# Bu\n",
    "# çok satırlı \n",
    "# bir Python yorumudur."
   ]
  },
  {
   "cell_type": "markdown",
   "metadata": {
    "colab_type": "text",
    "id": "LSOkrOm9upIh"
   },
   "source": [
    "# 8. Girdi Veriyi Okuma *(Reading Input)*"
   ]
  },
  {
   "cell_type": "markdown",
   "metadata": {
    "colab_type": "text",
    "id": "-tNXPYDOupIi"
   },
   "source": [
    "Python'da, kullanıcıdan bir veriyi edinebilmek için  `input()` fonksiyonu kullanılır. Bu fonksiyon için söz dizimi (syntax) aşağıdaki gibidir: "
   ]
  },
  {
   "cell_type": "markdown",
   "metadata": {
    "colab_type": "text",
    "id": "g7IKtZjJupIj"
   },
   "source": [
    "    degisken_ismi = input(\"istem\")"
   ]
  },
  {
   "cell_type": "markdown",
   "metadata": {
    "colab_type": "text",
    "id": "HKInQtvMupIl"
   },
   "source": [
    "Parantez içinde yazılan `\"istem\"` (prompt) komutu, kullanıcıya girmesi gerektiği veriyi sorar ve bu soruyu ekranda gösterir. Soruya yönelik cevap verildikten sonra enter tuşuna basılır. Kullanıcının girdiği cevap, program tarafından girdi veri olarak kabul edilir. Girilen bu veri, string tipindedir. Bu girdi verinin işleneceği veri sayılardan oluşuyorsa, `int()` fonksiyonu ile gerekli dönüşüm sağlanmalıdır. Örneğin,"
   ]
  },
  {
   "cell_type": "code",
   "execution_count": 26,
   "metadata": {
    "colab": {
     "base_uri": "https://localhost:8080/",
     "height": 34
    },
    "colab_type": "code",
    "executionInfo": {
     "elapsed": 12282,
     "status": "ok",
     "timestamp": 1587214015438,
     "user": {
      "displayName": "Can Iban",
      "photoUrl": "",
      "userId": "03730186920594796885"
     },
     "user_tz": -180
    },
    "id": "M5ZeoRGgupIm",
    "outputId": "0bbbafaf-8d12-4d95-e079-f485ab49a3dc"
   },
   "outputs": [
    {
     "name": "stdout",
     "output_type": "stream",
     "text": [
      "İsminizi giriniz:Can\n"
     ]
    }
   ],
   "source": [
    "kisi = input (\"İsminizi giriniz:\")"
   ]
  },
  {
   "cell_type": "code",
   "execution_count": 27,
   "metadata": {
    "colab": {
     "base_uri": "https://localhost:8080/",
     "height": 34
    },
    "colab_type": "code",
    "executionInfo": {
     "elapsed": 12257,
     "status": "ok",
     "timestamp": 1587214015440,
     "user": {
      "displayName": "Can Iban",
      "photoUrl": "",
      "userId": "03730186920594796885"
     },
     "user_tz": -180
    },
    "id": "uPfWbI7EupIq",
    "outputId": "637d5303-ec25-4566-c51f-9f7a00ec5892"
   },
   "outputs": [
    {
     "data": {
      "text/plain": [
       "'Can'"
      ]
     },
     "execution_count": 27,
     "metadata": {},
     "output_type": "execute_result"
    }
   ],
   "source": [
    "kisi"
   ]
  },
  {
   "cell_type": "code",
   "execution_count": 28,
   "metadata": {
    "colab": {
     "base_uri": "https://localhost:8080/",
     "height": 51
    },
    "colab_type": "code",
    "executionInfo": {
     "elapsed": 21458,
     "status": "ok",
     "timestamp": 1587214024666,
     "user": {
      "displayName": "Can Iban",
      "photoUrl": "",
      "userId": "03730186920594796885"
     },
     "user_tz": -180
    },
    "id": "303iT2E2upIv",
    "outputId": "b0767477-9dc7-4a21-c182-13b10ea01738"
   },
   "outputs": [
    {
     "name": "stdout",
     "output_type": "stream",
     "text": [
      "Doğum yılınızı giriniz: 1988\n",
      "32\n"
     ]
    }
   ],
   "source": [
    "dogum_yili = int(input(\"Doğum yılınızı giriniz: \"))\n",
    "yas = 2020 - dogum_yili\n",
    "print(yas)"
   ]
  },
  {
   "cell_type": "markdown",
   "metadata": {
    "colab_type": "text",
    "id": "Gop0krtOupIz"
   },
   "source": [
    "# 9. Çıktı Veriyi Gösterme (`print()` Fonksiyonu)"
   ]
  },
  {
   "cell_type": "markdown",
   "metadata": {
    "colab_type": "text",
    "id": "HPK9zkniupI0"
   },
   "source": [
    "`print()` fonksiyonu, bir metnin konsol üzerinde gösterilmesini sağlar. Bu fonksiyon, string olan her şeyi ekranda gösterir. String olmayan verileri de, otomatik olarak string türüne dönüştürür. Örneğin;"
   ]
  },
  {
   "cell_type": "code",
   "execution_count": 29,
   "metadata": {
    "colab": {
     "base_uri": "https://localhost:8080/",
     "height": 34
    },
    "colab_type": "code",
    "executionInfo": {
     "elapsed": 21440,
     "status": "ok",
     "timestamp": 1587214024668,
     "user": {
      "displayName": "Can Iban",
      "photoUrl": "",
      "userId": "03730186920594796885"
     },
     "user_tz": -180
    },
    "id": "eXGpDO76upI1",
    "outputId": "0661de7f-bc92-47ed-ecea-bcc3ccb36adb"
   },
   "outputs": [
    {
     "name": "stdout",
     "output_type": "stream",
     "text": [
      "Merhaba Dünya!!\n"
     ]
    }
   ],
   "source": [
    "print(\"Merhaba Dünya!!\")"
   ]
  },
  {
   "cell_type": "markdown",
   "metadata": {
    "colab_type": "text",
    "id": "6TAasJ2qupI5"
   },
   "source": [
    "Python'da çıktı veriyi göstermenin farklı yöntemleri olsa da, print() fonksiyonu ile birlikte kullanılan iki ana string formatını anlatmak gerekmektedir. Bunlar;\n",
    "\n",
    "1. `str.format()`\n",
    "2. `f-strings`\n",
    "\n"
   ]
  },
  {
   "cell_type": "markdown",
   "metadata": {
    "colab_type": "text",
    "id": "M4lYP6FqupI7"
   },
   "source": [
    "## 9.1 `str.format()`"
   ]
  },
  {
   "cell_type": "markdown",
   "metadata": {
    "colab_type": "text",
    "id": "dpewKwO4upI8"
   },
   "source": [
    "`str.format()` metodu, bir değişkenin, ifadenin ya da nesnenin değerinin başka bir bir string içerisine eklenmesini ve kullanıcıya tek bir string olarak gösterilmesini sağlar. \n",
    "\n",
    "`str.format()`metodu, girilen değerler ile yeni bir string oluşturulmasını sağlamaktadır. Bu metodun söz dizisi,"
   ]
  },
  {
   "cell_type": "markdown",
   "metadata": {
    "colab_type": "text",
    "id": "H3FN6T2fupI-"
   },
   "source": [
    "       str.format(p0,p1,...,k0=v0, k1=v1,...)\n",
    "\n",
    "olarak verilir."
   ]
  },
  {
   "cell_type": "markdown",
   "metadata": {
    "colab_type": "text",
    "id": "0_KZumP2upJA"
   },
   "source": [
    "Burada `p0` ve `p1` konum argümanlarıdır. `k0` ve `k1` ise `v0`ve `v1` değerleri atanmış anahtar (keyword) argümanlardır. "
   ]
  },
  {
   "cell_type": "markdown",
   "metadata": {
    "colab_type": "text",
    "id": "Byq5tV3ZupJK"
   },
   "source": [
    "Konum argümanları, köşeli parantez içerisinde verilen argüman indeksidir. İndeks değerleri sıfırdan başlar. `{keyword}`"
   ]
  },
  {
   "cell_type": "markdown",
   "metadata": {
    "colab_type": "text",
    "id": "pe4CIcEAupJN"
   },
   "source": [
    "Anahtar argümanlar ise, anahtar = değer türündeki argümanları kapsar. Köşeli parantez içinde argümanın ismi ile erişilir. `{keyword}`"
   ]
  },
  {
   "cell_type": "markdown",
   "metadata": {
    "colab_type": "text",
    "id": "29QKQPW-upJP"
   },
   "source": [
    "### Örnek Program 1"
   ]
  },
  {
   "cell_type": "code",
   "execution_count": 30,
   "metadata": {
    "colab": {
     "base_uri": "https://localhost:8080/",
     "height": 34
    },
    "colab_type": "code",
    "executionInfo": {
     "elapsed": 26683,
     "status": "ok",
     "timestamp": 1587214029930,
     "user": {
      "displayName": "Can Iban",
      "photoUrl": "",
      "userId": "03730186920594796885"
     },
     "user_tz": -180
    },
    "id": "9HFlMOr6upJQ",
    "outputId": "1bcb1c47-0db5-48ee-c077-bfdd4cb6d180"
   },
   "outputs": [
    {
     "name": "stdout",
     "output_type": "stream",
     "text": [
      "Hangi ulkede yasiyorsunuz? Türkiye\n",
      "Hangi sehirde yasiyorsunuz? Mersin\n"
     ]
    }
   ],
   "source": [
    "ulke = input(\"Hangi ulkede yasiyorsunuz? \")\n",
    "sehir = input(\"Hangi sehirde yasiyorsunuz? \")"
   ]
  },
  {
   "cell_type": "code",
   "execution_count": 31,
   "metadata": {
    "colab": {
     "base_uri": "https://localhost:8080/",
     "height": 34
    },
    "colab_type": "code",
    "executionInfo": {
     "elapsed": 26669,
     "status": "ok",
     "timestamp": 1587214029932,
     "user": {
      "displayName": "Can Iban",
      "photoUrl": "",
      "userId": "03730186920594796885"
     },
     "user_tz": -180
    },
    "id": "mK9Klmx9upJT",
    "outputId": "b8511f32-bc17-48d6-d246-5618293c7297"
   },
   "outputs": [
    {
     "name": "stdout",
     "output_type": "stream",
     "text": [
      "Yasadigim ulke Türkiye, yasadigim sehir Mersin'dir.\n"
     ]
    }
   ],
   "source": [
    "print(\"Yasadigim ulke {0}, yasadigim sehir {1}'dir.\".format(ulke,sehir))"
   ]
  },
  {
   "cell_type": "markdown",
   "metadata": {
    "colab_type": "text",
    "id": "4nz99oEmupJW"
   },
   "source": [
    "### Örnek Program 2"
   ]
  },
  {
   "cell_type": "code",
   "execution_count": 32,
   "metadata": {
    "colab": {},
    "colab_type": "code",
    "id": "IvJAz1gxupJZ"
   },
   "outputs": [],
   "source": [
    "a = 10"
   ]
  },
  {
   "cell_type": "code",
   "execution_count": 33,
   "metadata": {
    "colab": {},
    "colab_type": "code",
    "id": "e1lLpsRpupJc"
   },
   "outputs": [],
   "source": [
    "b = 20"
   ]
  },
  {
   "cell_type": "code",
   "execution_count": 34,
   "metadata": {
    "colab": {
     "base_uri": "https://localhost:8080/",
     "height": 34
    },
    "colab_type": "code",
    "executionInfo": {
     "elapsed": 26652,
     "status": "ok",
     "timestamp": 1587214029944,
     "user": {
      "displayName": "Can Iban",
      "photoUrl": "",
      "userId": "03730186920594796885"
     },
     "user_tz": -180
    },
    "id": "nn5nUB7EupJg",
    "outputId": "6cca532d-d026-440a-90e2-7d6b658ea829"
   },
   "outputs": [
    {
     "name": "stdout",
     "output_type": "stream",
     "text": [
      "a degeri 10 ve b degeri 20 olarak girilmiştir\n"
     ]
    }
   ],
   "source": [
    "print(\"a degeri {0} ve b degeri {1} olarak girilmiştir\".format(a,b))"
   ]
  },
  {
   "cell_type": "code",
   "execution_count": 35,
   "metadata": {
    "colab": {
     "base_uri": "https://localhost:8080/",
     "height": 34
    },
    "colab_type": "code",
    "executionInfo": {
     "elapsed": 26631,
     "status": "ok",
     "timestamp": 1587214029946,
     "user": {
      "displayName": "Can Iban",
      "photoUrl": "",
      "userId": "03730186920594796885"
     },
     "user_tz": -180
    },
    "id": "lmlOe3K3upJj",
    "outputId": "6473a3d5-1e5f-42cf-e461-3758ea7ed160"
   },
   "outputs": [
    {
     "name": "stdout",
     "output_type": "stream",
     "text": [
      "b degeri 20 ve a degeri 10 olarak girilmiştir\n"
     ]
    }
   ],
   "source": [
    "print(\"b degeri {1} ve a degeri {0} olarak girilmiştir\".format(a,b))"
   ]
  },
  {
   "cell_type": "markdown",
   "metadata": {
    "colab_type": "text",
    "id": "8YKice1yupJo"
   },
   "source": [
    "### Örnek Program 3"
   ]
  },
  {
   "cell_type": "code",
   "execution_count": 36,
   "metadata": {
    "colab": {
     "base_uri": "https://localhost:8080/",
     "height": 34
    },
    "colab_type": "code",
    "executionInfo": {
     "elapsed": 26616,
     "status": "ok",
     "timestamp": 1587214029947,
     "user": {
      "displayName": "Can Iban",
      "photoUrl": "",
      "userId": "03730186920594796885"
     },
     "user_tz": -180
    },
    "id": "Y99dv9peupJp",
    "outputId": "c644c775-172a-44fb-9288-ea0707932ce2"
   },
   "outputs": [
    {
     "name": "stdout",
     "output_type": "stream",
     "text": [
      "Bana futbol topu ver\n"
     ]
    }
   ],
   "source": [
    "print(\"Bana {top} topu ver\". format(top=\"futbol\"))"
   ]
  },
  {
   "cell_type": "markdown",
   "metadata": {
    "colab_type": "text",
    "id": "gl5j8lUMupJu"
   },
   "source": [
    "### 9.2 f-strings"
   ]
  },
  {
   "cell_type": "markdown",
   "metadata": {
    "colab_type": "text",
    "id": "pZAyMUT3upJw"
   },
   "source": [
    "Formatlanmış string ya da f-string, Python 3.6 ile tanımlanmıştır. `print()` fonksiyonu ile kullanılır. Örneğin,"
   ]
  },
  {
   "cell_type": "code",
   "execution_count": 37,
   "metadata": {
    "colab": {
     "base_uri": "https://localhost:8080/",
     "height": 34
    },
    "colab_type": "code",
    "executionInfo": {
     "elapsed": 31830,
     "status": "ok",
     "timestamp": 1587214035178,
     "user": {
      "displayName": "Can Iban",
      "photoUrl": "",
      "userId": "03730186920594796885"
     },
     "user_tz": -180
    },
    "id": "-klPVpTBupJx",
    "outputId": "abe01997-b629-4229-dff3-eb822322faf8"
   },
   "outputs": [
    {
     "name": "stdout",
     "output_type": "stream",
     "text": [
      "Hangi ulkede yasiyorsunuz? Türkiye\n"
     ]
    }
   ],
   "source": [
    "ulke = input (\"Hangi ulkede yasiyorsunuz? \")"
   ]
  },
  {
   "cell_type": "code",
   "execution_count": 38,
   "metadata": {
    "colab": {
     "base_uri": "https://localhost:8080/",
     "height": 34
    },
    "colab_type": "code",
    "executionInfo": {
     "elapsed": 31816,
     "status": "ok",
     "timestamp": 1587214035180,
     "user": {
      "displayName": "Can Iban",
      "photoUrl": "",
      "userId": "03730186920594796885"
     },
     "user_tz": -180
    },
    "id": "NsDH3MgHupJ2",
    "outputId": "93c876c5-4baf-4e82-f39c-80080e623f1e"
   },
   "outputs": [
    {
     "name": "stdout",
     "output_type": "stream",
     "text": [
      "Türkiye'de yasiyorum\n"
     ]
    }
   ],
   "source": [
    "print(f\"{ulke}'de yasiyorum\")"
   ]
  },
  {
   "cell_type": "markdown",
   "metadata": {
    "colab_type": "text",
    "id": "7R4WdwrwupJ6"
   },
   "source": [
    "### Örnek Program 4"
   ]
  },
  {
   "cell_type": "markdown",
   "metadata": {
    "colab_type": "text",
    "id": "VzzGU5HIupJ7"
   },
   "source": [
    "Bir çemberin yarıçapı veriliyor. Çemberin alanını ve çevresini hesaplayan bir Python programı yazınız."
   ]
  },
  {
   "cell_type": "code",
   "execution_count": 39,
   "metadata": {
    "colab": {
     "base_uri": "https://localhost:8080/",
     "height": 51
    },
    "colab_type": "code",
    "executionInfo": {
     "elapsed": 38620,
     "status": "ok",
     "timestamp": 1587214042000,
     "user": {
      "displayName": "Can Iban",
      "photoUrl": "",
      "userId": "03730186920594796885"
     },
     "user_tz": -180
    },
    "id": "Ylw7Sru7upJ9",
    "outputId": "765e54c1-a285-42da-b791-ce21ea919116"
   },
   "outputs": [
    {
     "name": "stdout",
     "output_type": "stream",
     "text": [
      "Cemberin yaricapini giriniz:8\n",
      "Cemberin Alani = 201.056 ve Cemberin Cevresi = 50.264\n"
     ]
    }
   ],
   "source": [
    "yaricap = float(input(\"Cemberin yaricapini giriniz:\"))\n",
    "cemberin_alani = 3.1415 * yaricap * yaricap # pi * r_kare\n",
    "cemberin_cevresi = 2 * 3.1415 * yaricap # 2* pi * r\n",
    "print(f'Cemberin Alani = {cemberin_alani} ve Cemberin Cevresi = {cemberin_cevresi}')"
   ]
  },
  {
   "cell_type": "markdown",
   "metadata": {
    "colab_type": "text",
    "id": "HtoZWCCfupKA"
   },
   "source": [
    "### Örnek Program 5"
   ]
  },
  {
   "cell_type": "markdown",
   "metadata": {
    "colab_type": "text",
    "id": "_vcmDOAmupKB"
   },
   "source": [
    "Verilen gün sayısının, kaç yıl, kaç hafta ve kaç güne tekabül ettiğini yazan bir Python programı yazınız (Artık yılları ihmal ediniz). "
   ]
  },
  {
   "cell_type": "code",
   "execution_count": 40,
   "metadata": {
    "colab": {
     "base_uri": "https://localhost:8080/",
     "height": 51
    },
    "colab_type": "code",
    "executionInfo": {
     "elapsed": 44410,
     "status": "ok",
     "timestamp": 1587214047806,
     "user": {
      "displayName": "Can Iban",
      "photoUrl": "",
      "userId": "03730186920594796885"
     },
     "user_tz": -180
    },
    "id": "A-pvk4LkupKB",
    "outputId": "f157b345-157a-4527-c567-b56316ba7ff6"
   },
   "outputs": [
    {
     "name": "stdout",
     "output_type": "stream",
     "text": [
      "Gün sayısını giriniz:512\n",
      "512 Gün; 1 Yıl, 21 Hafta, 0 Gün etmektedir.\n"
     ]
    }
   ],
   "source": [
    "gun_sayisi = int(input(\"Gün sayısını giriniz:\"))\n",
    "yil_sayisi = int(gun_sayisi/365)\n",
    "hafta_sayisi = int(gun_sayisi % 365 / 7)\n",
    "kalan_gun_sayisi = int(gun_sayisi % 365 % 7)\n",
    "print(f\"{gun_sayisi} Gün; {yil_sayisi} Yıl, {hafta_sayisi} Hafta, {kalan_gun_sayisi} Gün etmektedir.\")"
   ]
  },
  {
   "cell_type": "markdown",
   "metadata": {
    "colab_type": "text",
    "id": "qrXdamD8upKH"
   },
   "source": [
    "## Alıştırma 1"
   ]
  },
  {
   "cell_type": "markdown",
   "metadata": {
    "colab_type": "text",
    "id": "de2cBTPVupKI"
   },
   "source": [
    "İki adet tam sayı üzerinde aritmetik operasyonlar yapan (toplama, çıkarma, çarpma, bölme) bir program yazınız."
   ]
  },
  {
   "cell_type": "code",
   "execution_count": 41,
   "metadata": {
    "colab": {
     "base_uri": "https://localhost:8080/",
     "height": 119
    },
    "colab_type": "code",
    "executionInfo": {
     "elapsed": 50701,
     "status": "ok",
     "timestamp": 1587214054113,
     "user": {
      "displayName": "Can Iban",
      "photoUrl": "",
      "userId": "03730186920594796885"
     },
     "user_tz": -180
    },
    "id": "f27jryjhupKJ",
    "outputId": "347610d2-2421-418f-f92f-ae0a4e61a126"
   },
   "outputs": [
    {
     "name": "stdout",
     "output_type": "stream",
     "text": [
      "İlk sayıyı giriniz:6\n",
      "İkinci sayıyı giriniz:8\n",
      "6 ve 8 sayılarının toplamı 14\n",
      "6 sayısından 8 sayısı çıkarıldığında sonuç -2\n",
      "6 ve 8 sayılarının çarpımı 48\n",
      "6 sayısı ile 8 sayısının bölümü 0.75\n"
     ]
    }
   ],
   "source": [
    "a = int(input(\"İlk sayıyı giriniz:\"))\n",
    "b = int(input(\"İkinci sayıyı giriniz:\"))\n",
    "toplam = a+b\n",
    "cikarma = a-b\n",
    "carpma = a*b\n",
    "bolme = a/b\n",
    "print(f\"{a} ve {b} sayılarının toplamı {toplam}\")\n",
    "print(f\"{a} sayısından {b} sayısı çıkarıldığında sonuç {cikarma}\")\n",
    "print(f\"{a} ve {b} sayılarının çarpımı {carpma}\")\n",
    "print(f\"{a} sayısı ile {b} sayısının bölümü {bolme}\")"
   ]
  },
  {
   "cell_type": "markdown",
   "metadata": {
    "colab_type": "text",
    "id": "v0WP0Ac_upKM"
   },
   "source": [
    "## Alıştırma 2"
   ]
  },
  {
   "cell_type": "markdown",
   "metadata": {
    "colab_type": "text",
    "id": "nI-k_tyNupKN"
   },
   "source": [
    "Bir dersin üç sınavının notunu giriniz ve bu sınavların ortalamasını bulunuz. "
   ]
  },
  {
   "cell_type": "code",
   "execution_count": 42,
   "metadata": {
    "colab": {
     "base_uri": "https://localhost:8080/",
     "height": 85
    },
    "colab_type": "code",
    "executionInfo": {
     "elapsed": 59793,
     "status": "ok",
     "timestamp": 1587214063224,
     "user": {
      "displayName": "Can Iban",
      "photoUrl": "",
      "userId": "03730186920594796885"
     },
     "user_tz": -180
    },
    "id": "l3BWUSqBupKN",
    "outputId": "9b6a1dd0-cf00-4060-b111-7bc76f8cbe93"
   },
   "outputs": [
    {
     "name": "stdout",
     "output_type": "stream",
     "text": [
      "İlk sınav sonucunu giriniz:75\n",
      "İkinci sınav sonucunu giriniz:65\n",
      "Üçüncü sınav sonucunu giriniz:55\n",
      "Öğrencinin sınav ortalaması sonucu: 65.0\n"
     ]
    }
   ],
   "source": [
    "sinav_1 = float(input(\"İlk sınav sonucunu giriniz:\"))\n",
    "sinav_2 = float(input(\"İkinci sınav sonucunu giriniz:\"))\n",
    "sinav_3 = float(input(\"Üçüncü sınav sonucunu giriniz:\"))\n",
    "ort = (sinav_1+sinav_2+sinav_3)/3\n",
    "print(f\"Öğrencinin sınav ortalaması sonucu: {ort}\")"
   ]
  },
  {
   "cell_type": "markdown",
   "metadata": {
    "colab_type": "text",
    "id": "sROQjpsVupKT"
   },
   "source": [
    "## Alıştırma 3"
   ]
  },
  {
   "cell_type": "markdown",
   "metadata": {
    "colab_type": "text",
    "id": "LwOKnyDlupKU"
   },
   "source": [
    "Bir ağırlık değerini kilogram cinsinden, pound (libre) cinsine çeviren bir program yazınız. "
   ]
  },
  {
   "cell_type": "code",
   "execution_count": 43,
   "metadata": {
    "colab": {
     "base_uri": "https://localhost:8080/",
     "height": 34
    },
    "colab_type": "code",
    "executionInfo": {
     "elapsed": 71590,
     "status": "ok",
     "timestamp": 1587214075038,
     "user": {
      "displayName": "Can Iban",
      "photoUrl": "",
      "userId": "03730186920594796885"
     },
     "user_tz": -180
    },
    "id": "4LyAjKvSupKV",
    "outputId": "cb7c4814-8904-45e2-9866-05178d2baf96"
   },
   "outputs": [
    {
     "name": "stdout",
     "output_type": "stream",
     "text": [
      "Kilogram cinsinden ağırlık değerini giriniz:125\n",
      "Pound cinsinden ağırlık değeri: 275.57782749999996\n"
     ]
    }
   ],
   "source": [
    "kg = float(input(\"Kilogram cinsinden ağırlık değerini giriniz:\"))\n",
    "lb = kg * 2.20462262\n",
    "print(f\"Pound cinsinden ağırlık değeri: {lb}\")"
   ]
  },
  {
   "cell_type": "markdown",
   "metadata": {
    "colab_type": "text",
    "id": "M2ZRF-PPupKl"
   },
   "source": [
    "## Alıştırma 4"
   ]
  },
  {
   "cell_type": "markdown",
   "metadata": {
    "colab_type": "text",
    "id": "IszXtnf8upKm"
   },
   "source": [
    "Bir prizmanın yüzey alanı, her bir kenarının uzunluğu biliniyorsa aşağıdaki formül ile hesaplanabilir."
   ]
  },
  {
   "cell_type": "markdown",
   "metadata": {
    "colab_type": "text",
    "id": "NaJPfUlvupKn"
   },
   "source": [
    "        Yüzey Alanı = 2ab + 2bc + 2ca"
   ]
  },
  {
   "cell_type": "markdown",
   "metadata": {
    "colab_type": "text",
    "id": "g0myUb5bupKp"
   },
   "source": [
    "Tam sayı olarak girilen her kenar için, prizmanın yüzey alanını hesaplayabilen bir program yazınız."
   ]
  },
  {
   "cell_type": "code",
   "execution_count": 44,
   "metadata": {
    "colab": {
     "base_uri": "https://localhost:8080/",
     "height": 85
    },
    "colab_type": "code",
    "executionInfo": {
     "elapsed": 79238,
     "status": "ok",
     "timestamp": 1587214082734,
     "user": {
      "displayName": "Can Iban",
      "photoUrl": "",
      "userId": "03730186920594796885"
     },
     "user_tz": -180
    },
    "id": "PDbTv3LTupKq",
    "outputId": "4f6c8eb3-6684-482b-d387-297324116bab"
   },
   "outputs": [
    {
     "name": "stdout",
     "output_type": "stream",
     "text": [
      "Kısa kenar uzunluğunu giriniz:6\n",
      "Uzun kenar uzunluğunu giriniz:9\n",
      "Yüksekliği giriniz:5\n",
      "Bu prizmanın yüzey alanı: 258 birimküptür.\n"
     ]
    }
   ],
   "source": [
    "a = int(input(\"Kısa kenar uzunluğunu giriniz:\"))\n",
    "b = int(input(\"Uzun kenar uzunluğunu giriniz:\"))\n",
    "c = int(input(\"Yüksekliği giriniz:\"))\n",
    "ya = (2*a*b)+(2*b*c)+(2*c*a)\n",
    "print(f\"Bu prizmanın yüzey alanı: {ya} birimküptür.\")"
   ]
  },
  {
   "cell_type": "markdown",
   "metadata": {
    "colab_type": "text",
    "id": "6hFYmgVlupKu"
   },
   "source": [
    "## Alıştırma 5"
   ]
  },
  {
   "cell_type": "markdown",
   "metadata": {
    "colab_type": "text",
    "id": "0QWQX1tsupKy"
   },
   "source": [
    "Girilecek olan bir `n` tam sayısı değeri için, 1'den n'e kadar olan tam sayıların toplamını hesaplayan bir program yazınız. \n",
    "\n",
    "\\begin{align*}\n",
    "\\sum_{k=1}^n (n (n +1))/2\n",
    "\\end{align*}"
   ]
  },
  {
   "cell_type": "code",
   "execution_count": 45,
   "metadata": {
    "colab": {
     "base_uri": "https://localhost:8080/",
     "height": 51
    },
    "colab_type": "code",
    "executionInfo": {
     "elapsed": 86145,
     "status": "ok",
     "timestamp": 1587214089658,
     "user": {
      "displayName": "Can Iban",
      "photoUrl": "",
      "userId": "03730186920594796885"
     },
     "user_tz": -180
    },
    "id": "QUyUE7CiupKz",
    "outputId": "843041eb-262f-4340-9e29-908603f020cc"
   },
   "outputs": [
    {
     "name": "stdout",
     "output_type": "stream",
     "text": [
      "n değerini giriniz:8\n",
      "Serinin toplamı: 36.0\n"
     ]
    }
   ],
   "source": [
    "n = int(input(\"n değerini giriniz:\"))\n",
    "toplam = (n*(n+1))/2\n",
    "print(f\"Serinin toplamı: {toplam}\")"
   ]
  },
  {
   "cell_type": "markdown",
   "metadata": {
    "colab_type": "text",
    "id": "rc7_7U2bupK5"
   },
   "source": [
    "## Alıştırma 6"
   ]
  },
  {
   "cell_type": "markdown",
   "metadata": {
    "colab_type": "text",
    "id": "eHiifyTtupK6"
   },
   "source": [
    "İki stringin toplamı, iki sayının toplamından daha farklı bir davranış gösterir. Aşağıda, farklı türlerde bazı veriler sizin için hazırlanmıştır."
   ]
  },
  {
   "cell_type": "markdown",
   "metadata": {
    "colab_type": "text",
    "id": "vGuXxb0jupK7"
   },
   "source": [
    "Anapara ve faiz faktörünün çarpımını bulalım ve ilk yılda elde ettiğimiz kazancı ekrana verelim. Kazancı gösteren verinin türünü ekranda gösterelim."
   ]
  },
  {
   "cell_type": "code",
   "execution_count": 46,
   "metadata": {
    "colab": {
     "base_uri": "https://localhost:8080/",
     "height": 51
    },
    "colab_type": "code",
    "executionInfo": {
     "elapsed": 86127,
     "status": "ok",
     "timestamp": 1587214089659,
     "user": {
      "displayName": "Can Iban",
      "photoUrl": "",
      "userId": "03730186920594796885"
     },
     "user_tz": -180
    },
    "id": "jeC-Nzq5upK8",
    "outputId": "df45484a-9df5-4a51-ea4b-0501854a5fec"
   },
   "outputs": [
    {
     "name": "stdout",
     "output_type": "stream",
     "text": [
      "110.00000000000001\n",
      "<class 'float'>\n"
     ]
    }
   ],
   "source": [
    "anapara = 100\n",
    "faiz_faktoru = 1.1\n",
    "tanim = \"birlesik faiz\"\n",
    "\n",
    "# İlk yılda elde edilen kazancı hesaplayalım.\n",
    "yil1 = anapara * faiz_faktoru\n",
    "\n",
    "# İlk yıl elde ettiğimiz kazancı ekrana verelim.\n",
    "print(yil1)\n",
    "\n",
    "# Kazancı gösteren değişkenin türünü ekrana verelim.\n",
    "print(type(yil1))\n"
   ]
  },
  {
   "cell_type": "code",
   "execution_count": 47,
   "metadata": {
    "colab": {
     "base_uri": "https://localhost:8080/",
     "height": 34
    },
    "colab_type": "code",
    "executionInfo": {
     "elapsed": 86109,
     "status": "ok",
     "timestamp": 1587214089660,
     "user": {
      "displayName": "Can Iban",
      "photoUrl": "",
      "userId": "03730186920594796885"
     },
     "user_tz": -180
    },
    "id": "EXdEOTRKupK_",
    "outputId": "a2bf0ba8-7b4b-43f7-ad41-63bd6ea61495"
   },
   "outputs": [
    {
     "name": "stdout",
     "output_type": "stream",
     "text": [
      "birlesik faizbirlesik faiz\n"
     ]
    }
   ],
   "source": [
    "# tanım değişkenini kendisiyle toplayalım.\n",
    "duble_tanim = tanim + tanim\n",
    "\n",
    "# Yeni değişkeni ekrana verelim\n",
    "print(duble_tanim)"
   ]
  },
  {
   "cell_type": "markdown",
   "metadata": {
    "colab_type": "text",
    "id": "YH89g1xsupLC"
   },
   "source": [
    "__İki string değişkenin toplamı, bu stringlerin peşpeşe eklenmesi anlamına gelmektedir. Sayılardan farklı olarak görülen davranış biçimi budur.__"
   ]
  },
  {
   "cell_type": "markdown",
   "metadata": {
    "colab_type": "text",
    "id": "IGHZpSUSupLD"
   },
   "source": [
    "## Alıştırma 7"
   ]
  },
  {
   "cell_type": "code",
   "execution_count": 48,
   "metadata": {
    "colab": {
     "base_uri": "https://localhost:8080/",
     "height": 34
    },
    "colab_type": "code",
    "executionInfo": {
     "elapsed": 86095,
     "status": "ok",
     "timestamp": 1587214089662,
     "user": {
      "displayName": "Can Iban",
      "photoUrl": "",
      "userId": "03730186920594796885"
     },
     "user_tz": -180
    },
    "id": "jFvpje4yupLD",
    "outputId": "128a01b2-9fd7-494a-b7ed-7efd914e1f82"
   },
   "outputs": [
    {
     "name": "stdout",
     "output_type": "stream",
     "text": [
      "100 TL anaparam vardı, 7 yıl sonra toplam bakiyem 194.87171000000012 TL oldu. Harika!\n"
     ]
    }
   ],
   "source": [
    "# Anapara değerini girelim ve 7 yıllık faizle toplam bakiyemizi hesaplayalım.\n",
    "anapara = 100\n",
    "getiri = 100 * 1.10 ** 7\n",
    "\n",
    "# Çıktı bilgiyi yazdıralım\n",
    "print(str(anapara)+ \" TL anaparam vardı, 7 yıl sonra toplam bakiyem \" + str(getiri) + \" TL oldu. Harika!\")"
   ]
  }
 ],
 "metadata": {
  "colab": {
   "collapsed_sections": [],
   "name": "Ünite 2 - Veri Türleri.ipynb",
   "provenance": []
  },
  "kernelspec": {
   "display_name": "Python 3",
   "language": "python",
   "name": "python3"
  },
  "language_info": {
   "codemirror_mode": {
    "name": "ipython",
    "version": 3
   },
   "file_extension": ".py",
   "mimetype": "text/x-python",
   "name": "python",
   "nbconvert_exporter": "python",
   "pygments_lexer": "ipython3",
   "version": "3.7.6"
  }
 },
 "nbformat": 4,
 "nbformat_minor": 1
}
