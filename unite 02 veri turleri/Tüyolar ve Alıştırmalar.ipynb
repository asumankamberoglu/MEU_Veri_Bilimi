{
 "cells": [
  {
   "cell_type": "markdown",
   "metadata": {},
   "source": [
    "$\\frac{1}{2} + \\frac{1}{4} + \\frac{1}{8} + \\frac{1}{16}$\n",
    "\n",
    "$(2.1^3 - 4.7^{-4.3}) / (2.5^{0.5} + 10^{0.25})$\n",
    "\n",
    "$x=1,2,3$ için $x^3 - 3x^2 + 5x -1$"
   ]
  },
  {
   "cell_type": "code",
   "execution_count": 10,
   "metadata": {
    "scrolled": false
   },
   "outputs": [
    {
     "data": {
      "text/plain": [
       "0.9375"
      ]
     },
     "execution_count": 10,
     "metadata": {},
     "output_type": "execute_result"
    }
   ],
   "source": [
    "(1/2)+(1/4)+(1/8)+(1/16)"
   ]
  },
  {
   "cell_type": "code",
   "execution_count": 13,
   "metadata": {},
   "outputs": [
    {
     "data": {
      "text/plain": [
       "2.7563438518969154"
      ]
     },
     "execution_count": 13,
     "metadata": {},
     "output_type": "execute_result"
    }
   ],
   "source": [
    "((2.1**3)-(4.7**(-4.3)))/((2.5**0.5)+(10**0.25))"
   ]
  },
  {
   "cell_type": "code",
   "execution_count": 17,
   "metadata": {
    "scrolled": true
   },
   "outputs": [
    {
     "name": "stdout",
     "output_type": "stream",
     "text": [
      "14\n"
     ]
    }
   ],
   "source": [
    "x = 3\n",
    "\n",
    "y = (x**3)- (3*(x**2))+(5*x)-1\n",
    "print(y)"
   ]
  },
  {
   "cell_type": "code",
   "execution_count": 1,
   "metadata": {},
   "outputs": [
    {
     "data": {
      "text/plain": [
       "['False',\n",
       " 'None',\n",
       " 'True',\n",
       " 'and',\n",
       " 'as',\n",
       " 'assert',\n",
       " 'async',\n",
       " 'await',\n",
       " 'break',\n",
       " 'class',\n",
       " 'continue',\n",
       " 'def',\n",
       " 'del',\n",
       " 'elif',\n",
       " 'else',\n",
       " 'except',\n",
       " 'finally',\n",
       " 'for',\n",
       " 'from',\n",
       " 'global',\n",
       " 'if',\n",
       " 'import',\n",
       " 'in',\n",
       " 'is',\n",
       " 'lambda',\n",
       " 'nonlocal',\n",
       " 'not',\n",
       " 'or',\n",
       " 'pass',\n",
       " 'raise',\n",
       " 'return',\n",
       " 'try',\n",
       " 'while',\n",
       " 'with',\n",
       " 'yield']"
      ]
     },
     "execution_count": 1,
     "metadata": {},
     "output_type": "execute_result"
    }
   ],
   "source": [
    "# Değişken ismi olarak atayamayacağımız ve Python'da anahtar sözcük olarak kullanılan ifadeler\n",
    "import keyword\n",
    "keyword.kwlist"
   ]
  },
  {
   "cell_type": "code",
   "execution_count": 1,
   "metadata": {},
   "outputs": [
    {
     "data": {
      "text/plain": [
       "13"
      ]
     },
     "execution_count": 1,
     "metadata": {},
     "output_type": "execute_result"
    }
   ],
   "source": [
    "5 + 8"
   ]
  },
  {
   "cell_type": "code",
   "execution_count": 2,
   "metadata": {},
   "outputs": [
    {
     "data": {
      "text/plain": [
       "13"
      ]
     },
     "execution_count": 2,
     "metadata": {},
     "output_type": "execute_result"
    }
   ],
   "source": [
    "_"
   ]
  },
  {
   "cell_type": "code",
   "execution_count": 5,
   "metadata": {},
   "outputs": [
    {
     "name": "stdout",
     "output_type": "stream",
     "text": [
      "Ankara'da yaşıyorum\n"
     ]
    }
   ],
   "source": [
    "print('Ankara\\'da yaşıyorum')"
   ]
  },
  {
   "cell_type": "code",
   "execution_count": 6,
   "metadata": {},
   "outputs": [
    {
     "name": "stdout",
     "output_type": "stream",
     "text": [
      "\"book\" kelimesi Türkçede \"kitap\" anlamına gelir.\n"
     ]
    }
   ],
   "source": [
    "print(\"\\\"book\\\" kelimesi Türkçede \\\"kitap\\\" anlamına gelir.\")"
   ]
  },
  {
   "cell_type": "code",
   "execution_count": 9,
   "metadata": {},
   "outputs": [
    {
     "name": "stdout",
     "output_type": "stream",
     "text": [
      "Bu birinci satır \n",
      "Bu ikinci satır \n",
      "Son satır\n"
     ]
    }
   ],
   "source": [
    "print(\"Bu birinci satır \\nBu ikinci satır \\nSon satır\")"
   ]
  },
  {
   "cell_type": "code",
   "execution_count": 10,
   "metadata": {},
   "outputs": [
    {
     "name": "stdout",
     "output_type": "stream",
     "text": [
      "tarih: 26 Ekim 2020\n",
      "üniversite adı: MERSİN\n",
      "fakülte adı: Mühendislik\n",
      "bölüm adı: Harita Mühendisliği\n",
      "öğrenci no. :010060338\n",
      "öğretim yılı: 2020-2021\n",
      "yarıyıl: Güz\n",
      "öğrencinin adı: Can İban\n",
      "öğrencinin soyadı: İban\n",
      "TC Kimlik no. :2535353523\n",
      "adres: Çiftlikköy Mersin\n",
      "telefon: 56353535353\n",
      "ekler: Öğrenci Belgesi\n",
      "\n",
      "                                                    Tarih: 26 Ekim 2020\n",
      "\n",
      "\n",
      "                T.C.\n",
      "                MERSİN ÜNİVERSİTESİ\n",
      "            Mühendislik Fakültesi Dekanlığına\n",
      "\n",
      "\n",
      "Fakülteniz Harita Mühendisliği Bölümü 010060338 numaralı öğrencisiyim. Ekte sunduğum belgede\n",
      "belirtilen mazeretim gereğince 2020-2021 Eğitim-Öğretim Yılı  Güz.\n",
      "yarıyılında öğrenime ara izni (kayıt dondurma) istiyorum.\n",
      "\n",
      "    Bilgilerinizi ve gereğini arz ederim.\n",
      "\n",
      "        İmza\n",
      "\n",
      "Ad              : Can İban\n",
      "Soyad           : İban\n",
      "T.C. Kimlik No. : 2535353523\n",
      "Adres           : Çiftlikköy Mersin\n",
      "Tel.            : 56353535353\n",
      "Ekler           : Öğrenci Belgesi\n",
      "\n"
     ]
    }
   ],
   "source": [
    "dilekçe = \"\"\"\n",
    "                                                    Tarih: {}\n",
    "\n",
    "\n",
    "                T.C.\n",
    "                {} ÜNİVERSİTESİ\n",
    "            {} Fakültesi Dekanlığına\n",
    "\n",
    "\n",
    "Fakülteniz {} Bölümü {} numaralı öğrencisiyim. Ekte sunduğum belgede\n",
    "belirtilen mazeretim gereğince {} Eğitim-Öğretim Yılı  {}.\n",
    "yarıyılında öğrenime ara izni (kayıt dondurma) istiyorum.\n",
    "\n",
    "    Bilgilerinizi ve gereğini arz ederim.\n",
    "\n",
    "        İmza\n",
    "\n",
    "Ad              : {}\n",
    "Soyad           : {}\n",
    "T.C. Kimlik No. : {}\n",
    "Adres           : {}\n",
    "Tel.            : {}\n",
    "Ekler           : {}\n",
    "\"\"\"\n",
    "\n",
    "\n",
    "tarih           = input(\"tarih: \")\n",
    "üniversite      = input(\"üniversite adı: \")\n",
    "fakülte         = input(\"fakülte adı: \")\n",
    "bölüm           = input(\"bölüm adı: \")\n",
    "öğrenci_no      = input(\"öğrenci no. :\")\n",
    "öğretim_yılı    = input(\"öğretim yılı: \")\n",
    "yarıyıl         = input(\"yarıyıl: \")\n",
    "ad              = input(\"öğrencinin adı: \")\n",
    "soyad           = input(\"öğrencinin soyadı: \")\n",
    "tc_kimlik_no    = input(\"TC Kimlik no. :\")\n",
    "adres           = input(\"adres: \")\n",
    "tel             = input(\"telefon: \")\n",
    "ekler           = input(\"ekler: \"\n",
    "                       )\n",
    "\n",
    "print(dilekçe.format(tarih, üniversite, fakülte, bölüm,\n",
    "                     öğrenci_no, öğretim_yılı, yarıyıl,\n",
    "                     ad, soyad, tc_kimlik_no,\n",
    "                     adres, tel, ekler))"
   ]
  }
 ],
 "metadata": {
  "kernelspec": {
   "display_name": "Python 3",
   "language": "python",
   "name": "python3"
  },
  "language_info": {
   "codemirror_mode": {
    "name": "ipython",
    "version": 3
   },
   "file_extension": ".py",
   "mimetype": "text/x-python",
   "name": "python",
   "nbconvert_exporter": "python",
   "pygments_lexer": "ipython3",
   "version": "3.7.6"
  }
 },
 "nbformat": 4,
 "nbformat_minor": 4
}
