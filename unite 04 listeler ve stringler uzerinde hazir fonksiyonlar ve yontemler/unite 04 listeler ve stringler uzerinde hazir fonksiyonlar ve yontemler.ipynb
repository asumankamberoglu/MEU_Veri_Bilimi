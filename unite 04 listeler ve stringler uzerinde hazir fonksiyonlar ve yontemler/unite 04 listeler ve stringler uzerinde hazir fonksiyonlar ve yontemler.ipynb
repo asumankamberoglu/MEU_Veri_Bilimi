{
 "cells": [
  {
   "cell_type": "markdown",
   "metadata": {
    "colab_type": "text",
    "id": "rlqC4DfeduFn"
   },
   "source": [
    "# ÜNİTE 4 - LİSTELER VE STRİNGLER ÜZERİNDE HAZIR FONKSİYONLAR VE YÖNTEMLER\n",
    "\n"
   ]
  },
  {
   "cell_type": "markdown",
   "metadata": {
    "colab_type": "text",
    "id": "hRkoreu4dqRD"
   },
   "source": [
    "# 1. String Hazır Fonksiyonları"
   ]
  },
  {
   "cell_type": "markdown",
   "metadata": {
    "colab_type": "text",
    "id": "z0MiB28YdqRJ"
   },
   "source": [
    "|ASCII Karakter Sıralama|\n",
    "|------------------------------------------------------------------------|\n",
    "|boşluk ! \" # $ % & ' ( ) * + , - . /0 1 2 3 4 5 6 7 8 9 : ; < = > ? @  |\n",
    "|A B C D E F G H I J K L M N O P Q R S T U V W X Y Z[ \\] ˆ_  |\n",
    "|a b c d e f g h i j k l m n o p q r s t u v w x y z { } ~  |\n",
    "\n",
    "`len()` fonksiyonu, bir stringteki karakter sayısını hesaplar. Boşluk karakteri de sayılır.\n",
    "\n",
    "\n",
    "`max()` fonksiyonu, stringteki en yüksek ASCII değerine sahip karakteri gösterir. \n",
    "\n",
    "\n",
    "`min()` fonksiyonu, stringteki en düşük ASCII değerine sahip karakteri gösterir. Örneğin;"
   ]
  },
  {
   "cell_type": "code",
   "execution_count": 1,
   "metadata": {
    "colab": {
     "base_uri": "https://localhost:8080/",
     "height": 34
    },
    "colab_type": "code",
    "id": "j5ysQUykdqRL",
    "outputId": "62d9e895-ef72-456c-81d4-72bb7b039e73"
   },
   "outputs": [
    {
     "data": {
      "text/plain": [
       "6"
      ]
     },
     "execution_count": 1,
     "metadata": {},
     "output_type": "execute_result"
    }
   ],
   "source": [
    "len(\"eskimo\")"
   ]
  },
  {
   "cell_type": "code",
   "execution_count": 2,
   "metadata": {
    "colab": {
     "base_uri": "https://localhost:8080/",
     "height": 34
    },
    "colab_type": "code",
    "id": "jpWbE_dzdqRU",
    "outputId": "7516d434-4f08-488c-a65d-a1f35c66cf56"
   },
   "outputs": [
    {
     "data": {
      "text/plain": [
       "12"
      ]
     },
     "execution_count": 2,
     "metadata": {},
     "output_type": "execute_result"
    }
   ],
   "source": [
    "len(\"python dersi\") # boşluğun da dahil edildiğine dikkat edelim. "
   ]
  },
  {
   "cell_type": "code",
   "execution_count": 3,
   "metadata": {
    "colab": {
     "base_uri": "https://localhost:8080/",
     "height": 34
    },
    "colab_type": "code",
    "id": "rRqSUO1AdqRa",
    "outputId": "ebe0142a-4cf1-4279-885c-b5d22e56297a"
   },
   "outputs": [
    {
     "data": {
      "text/plain": [
       "'s'"
      ]
     },
     "execution_count": 3,
     "metadata": {},
     "output_type": "execute_result"
    }
   ],
   "source": [
    "max(\"eskimo\")"
   ]
  },
  {
   "cell_type": "code",
   "execution_count": 4,
   "metadata": {
    "colab": {
     "base_uri": "https://localhost:8080/",
     "height": 34
    },
    "colab_type": "code",
    "id": "6BDaRsHzdqRg",
    "outputId": "a8fa2013-b84d-43ac-ffa0-20486e46bed1"
   },
   "outputs": [
    {
     "data": {
      "text/plain": [
       "'e'"
      ]
     },
     "execution_count": 4,
     "metadata": {},
     "output_type": "execute_result"
    }
   ],
   "source": [
    "min(\"eskimo\")"
   ]
  },
  {
   "cell_type": "markdown",
   "metadata": {
    "colab_type": "text",
    "id": "cBas-S3KdqRn"
   },
   "source": [
    "## 1.1 İndeks Numarası ile String Karakterlerine Erişim"
   ]
  },
  {
   "cell_type": "markdown",
   "metadata": {
    "colab_type": "text",
    "id": "wnCrOi0OdqRp"
   },
   "source": [
    "Listelerde yapıldığı gibi, indeks numaraları kullanılarak stringlerin içindeki karakterlerin çıkarılması işlemi yapılabilir. İndeksleme mantığı, listelerdeki gibidir. Örneğin;"
   ]
  },
  {
   "cell_type": "code",
   "execution_count": 5,
   "metadata": {
    "colab": {
     "base_uri": "https://localhost:8080/",
     "height": 34
    },
    "colab_type": "code",
    "id": "meQOyTILdqRr",
    "outputId": "856dc721-5c2f-4565-cdab-c27a426a5424"
   },
   "outputs": [
    {
     "data": {
      "text/plain": [
       "'p'"
      ]
     },
     "execution_count": 5,
     "metadata": {},
     "output_type": "execute_result"
    }
   ],
   "source": [
    "kelime = \"python\"\n",
    "kelime[0]"
   ]
  },
  {
   "cell_type": "code",
   "execution_count": 6,
   "metadata": {
    "colab": {
     "base_uri": "https://localhost:8080/",
     "height": 34
    },
    "colab_type": "code",
    "id": "jomjzFlbdqRz",
    "outputId": "4a5c1bfc-203c-4b9a-e6ed-9e7f5c9c9944"
   },
   "outputs": [
    {
     "data": {
      "text/plain": [
       "'y'"
      ]
     },
     "execution_count": 6,
     "metadata": {},
     "output_type": "execute_result"
    }
   ],
   "source": [
    "kelime[1]"
   ]
  },
  {
   "cell_type": "code",
   "execution_count": 7,
   "metadata": {
    "colab": {
     "base_uri": "https://localhost:8080/",
     "height": 34
    },
    "colab_type": "code",
    "id": "Rx3IyzYTdqR5",
    "outputId": "6bd8bdee-23ec-4011-9046-1c7122bca272"
   },
   "outputs": [
    {
     "data": {
      "text/plain": [
       "'t'"
      ]
     },
     "execution_count": 7,
     "metadata": {},
     "output_type": "execute_result"
    }
   ],
   "source": [
    "kelime[2]"
   ]
  },
  {
   "cell_type": "code",
   "execution_count": 8,
   "metadata": {
    "colab": {
     "base_uri": "https://localhost:8080/",
     "height": 34
    },
    "colab_type": "code",
    "id": "79x-GroddqSA",
    "outputId": "04d02980-da64-4efe-8229-03c69833f0e5"
   },
   "outputs": [
    {
     "data": {
      "text/plain": [
       "'h'"
      ]
     },
     "execution_count": 8,
     "metadata": {},
     "output_type": "execute_result"
    }
   ],
   "source": [
    "kelime[3]"
   ]
  },
  {
   "cell_type": "code",
   "execution_count": 9,
   "metadata": {
    "colab": {
     "base_uri": "https://localhost:8080/",
     "height": 34
    },
    "colab_type": "code",
    "id": "cHoU-58ydqSH",
    "outputId": "1dd04a8a-6391-4c08-b2de-e54134c2f03a"
   },
   "outputs": [
    {
     "data": {
      "text/plain": [
       "'o'"
      ]
     },
     "execution_count": 9,
     "metadata": {},
     "output_type": "execute_result"
    }
   ],
   "source": [
    "kelime[4]"
   ]
  },
  {
   "cell_type": "code",
   "execution_count": 10,
   "metadata": {
    "colab": {
     "base_uri": "https://localhost:8080/",
     "height": 34
    },
    "colab_type": "code",
    "id": "u5is_TXwdqSO",
    "outputId": "46f9dcdc-1d85-46a0-e6f8-83d2caa1adcd"
   },
   "outputs": [
    {
     "data": {
      "text/plain": [
       "'n'"
      ]
     },
     "execution_count": 10,
     "metadata": {},
     "output_type": "execute_result"
    }
   ],
   "source": [
    "kelime[5]"
   ]
  },
  {
   "cell_type": "code",
   "execution_count": 11,
   "metadata": {
    "colab": {
     "base_uri": "https://localhost:8080/",
     "height": 163
    },
    "colab_type": "code",
    "id": "PSHk8pykdqST",
    "outputId": "f087bfaa-2365-4dc8-de04-100abf3db4d4"
   },
   "outputs": [
    {
     "ename": "IndexError",
     "evalue": "string index out of range",
     "output_type": "error",
     "traceback": [
      "\u001b[1;31m---------------------------------------------------------------------------\u001b[0m",
      "\u001b[1;31mIndexError\u001b[0m                                Traceback (most recent call last)",
      "\u001b[1;32m<ipython-input-11-7b3413f99bc8>\u001b[0m in \u001b[0;36m<module>\u001b[1;34m\u001b[0m\n\u001b[1;32m----> 1\u001b[1;33m \u001b[0mkelime\u001b[0m\u001b[1;33m[\u001b[0m\u001b[1;36m6\u001b[0m\u001b[1;33m]\u001b[0m \u001b[1;31m#İndeksi 6 olan karakter var mı?\u001b[0m\u001b[1;33m\u001b[0m\u001b[1;33m\u001b[0m\u001b[0m\n\u001b[0m",
      "\u001b[1;31mIndexError\u001b[0m: string index out of range"
     ]
    }
   ],
   "source": [
    "kelime[6] #İndeksi 6 olan karakter var mı?"
   ]
  },
  {
   "cell_type": "markdown",
   "metadata": {
    "colab_type": "text",
    "id": "r4DYEjhXdqSX"
   },
   "source": [
    "İndekslemeyi tersten yapmak, listelerde yaptığımız gibi olanaklıdır. Son karakter, yine -1 indeksine sahiptir. Örneğin;"
   ]
  },
  {
   "cell_type": "code",
   "execution_count": 12,
   "metadata": {
    "colab": {
     "base_uri": "https://localhost:8080/",
     "height": 34
    },
    "colab_type": "code",
    "id": "663mEotGdqSZ",
    "outputId": "4df7fe45-2db8-479f-b762-93acaa9c9985"
   },
   "outputs": [
    {
     "data": {
      "text/plain": [
       "'n'"
      ]
     },
     "execution_count": 12,
     "metadata": {},
     "output_type": "execute_result"
    }
   ],
   "source": [
    "kelime[-1]"
   ]
  },
  {
   "cell_type": "code",
   "execution_count": 13,
   "metadata": {
    "colab": {
     "base_uri": "https://localhost:8080/",
     "height": 34
    },
    "colab_type": "code",
    "id": "kIXVutsUdqSe",
    "outputId": "bcbc8c0d-8b72-4500-ea11-67a466d204d9"
   },
   "outputs": [
    {
     "data": {
      "text/plain": [
       "'o'"
      ]
     },
     "execution_count": 13,
     "metadata": {},
     "output_type": "execute_result"
    }
   ],
   "source": [
    "kelime[-2]"
   ]
  },
  {
   "cell_type": "markdown",
   "metadata": {
    "colab_type": "text",
    "id": "LkGUP2X1dqSj"
   },
   "source": [
    "## 1.2 String Dilimleme "
   ]
  },
  {
   "cell_type": "markdown",
   "metadata": {
    "colab_type": "text",
    "id": "1rRmfgZvdqSl"
   },
   "source": [
    "Stringler de, tıpkı listeler gibi dilimlenebilir ve birleştirilebilir. İndeksleme mantığı aynıdır. Örneğin;"
   ]
  },
  {
   "cell_type": "code",
   "execution_count": 14,
   "metadata": {
    "colab": {
     "base_uri": "https://localhost:8080/",
     "height": 34
    },
    "colab_type": "code",
    "id": "ymX-_IH-dqSo",
    "outputId": "5036b8e0-e252-46fb-9b29-363bcc703348"
   },
   "outputs": [
    {
     "data": {
      "text/plain": [
       "'yesil'"
      ]
     },
     "execution_count": 14,
     "metadata": {},
     "output_type": "execute_result"
    }
   ],
   "source": [
    "icecek = \"yesil cay\"\n",
    "\n",
    "icecek[0:5]"
   ]
  },
  {
   "cell_type": "code",
   "execution_count": 15,
   "metadata": {
    "colab": {
     "base_uri": "https://localhost:8080/",
     "height": 34
    },
    "colab_type": "code",
    "id": "M33OzPSTdqSt",
    "outputId": "d92d8d5f-eea3-458b-e855-28ee209fb454"
   },
   "outputs": [
    {
     "data": {
      "text/plain": [
       "'cay'"
      ]
     },
     "execution_count": 15,
     "metadata": {},
     "output_type": "execute_result"
    }
   ],
   "source": [
    "icecek[6:]"
   ]
  },
  {
   "cell_type": "code",
   "execution_count": 16,
   "metadata": {
    "colab": {
     "base_uri": "https://localhost:8080/",
     "height": 34
    },
    "colab_type": "code",
    "id": "J0RhJll-dqSx",
    "outputId": "367d2a43-b5a5-442b-a198-da1d340f6695"
   },
   "outputs": [
    {
     "data": {
      "text/plain": [
       "'yesil'"
      ]
     },
     "execution_count": 16,
     "metadata": {},
     "output_type": "execute_result"
    }
   ],
   "source": [
    "icecek[:5]"
   ]
  },
  {
   "cell_type": "code",
   "execution_count": 17,
   "metadata": {
    "colab": {
     "base_uri": "https://localhost:8080/",
     "height": 34
    },
    "colab_type": "code",
    "id": "4_vzC3SodqS1",
    "outputId": "e3d1b06f-3e40-4b28-a071-fd43be86603b"
   },
   "outputs": [
    {
     "data": {
      "text/plain": [
       "'yesil cay'"
      ]
     },
     "execution_count": 17,
     "metadata": {},
     "output_type": "execute_result"
    }
   ],
   "source": [
    "icecek[:]"
   ]
  },
  {
   "cell_type": "markdown",
   "metadata": {
    "colab_type": "text",
    "id": "NJqr3VUHdqS5"
   },
   "source": [
    "İndekslemeyi tersten yapmak yine olanaklıdır"
   ]
  },
  {
   "cell_type": "markdown",
   "metadata": {
    "colab_type": "text",
    "id": "dDsjTOxlfqfy"
   },
   "source": [
    "## 1.3 String Karakterlerini Alfabetik Sıralama\n",
    "\n",
    "Bir string içindeki karakterleri alfabetik olarak sıralamak olanaklıdır. \n",
    "\n",
    "Bunun için `sorted()` hazır fonksiyonunun kullanılması yeterlidir. Çıktı olarak, alfabetik sıraya dizilmiş karakterlerden oluşan bir liste görülecektir. Örneğin: \n",
    "\n"
   ]
  },
  {
   "cell_type": "code",
   "execution_count": 19,
   "metadata": {
    "colab": {
     "base_uri": "https://localhost:8080/",
     "height": 34
    },
    "colab_type": "code",
    "id": "-CtQ3ADfgJRD",
    "outputId": "4c04be5a-6c45-4b05-ed57-7bb59dab36aa"
   },
   "outputs": [
    {
     "data": {
      "text/plain": [
       "['P', 'h', 'n', 'o', 't', 'y']"
      ]
     },
     "execution_count": 19,
     "metadata": {},
     "output_type": "execute_result"
    }
   ],
   "source": [
    "sorted(\"Python\")"
   ]
  },
  {
   "cell_type": "markdown",
   "metadata": {
    "colab_type": "text",
    "id": "ppcqLyZMdqS7"
   },
   "source": [
    "# 2. String Yöntemleri"
   ]
  },
  {
   "cell_type": "markdown",
   "metadata": {
    "colab_type": "text",
    "id": "pL9si7IqdqS8"
   },
   "source": [
    "Stringler üzerinde çeşitli yöntemler uygulanabilir. Yöntemler (methods), fonksiyonlardan farklı olarak değişkenin arkasına nokta eklenerek yazılır. Yöntemin isminin sonuna da `()` eklenir. String üzerinde uygulanabilecek yöntemler için her zaman help menüsünden faydanılabilir. bkz: `help(str)`\n",
    "\n",
    "\n",
    "`yer` değişkenine \"poolhouse\" stringini atayalım. \n"
   ]
  },
  {
   "cell_type": "code",
   "execution_count": 20,
   "metadata": {
    "colab": {},
    "colab_type": "code",
    "id": "oOkI37pddqS_"
   },
   "outputs": [],
   "source": [
    "yer = \"havalimani\""
   ]
  },
  {
   "cell_type": "markdown",
   "metadata": {
    "colab_type": "text",
    "id": "3Ok8aD67kOoX"
   },
   "source": [
    "`upper()` yöntemini uygulayarak, bu stringi büyük harfli hale çevirelim.  \n"
   ]
  },
  {
   "cell_type": "code",
   "execution_count": 21,
   "metadata": {
    "colab": {
     "base_uri": "https://localhost:8080/",
     "height": 51
    },
    "colab_type": "code",
    "id": "CS62wu4tkUR1",
    "outputId": "d173cc95-5a9a-4fed-d01d-f08e5113c933"
   },
   "outputs": [
    {
     "name": "stdout",
     "output_type": "stream",
     "text": [
      "havalimani\n",
      "HAVALIMANI\n"
     ]
    }
   ],
   "source": [
    "yer_buyuk = yer.upper()\n",
    "\n",
    "# yer ve yer_buyuk değişkenlerini ekrana yazdıralım.\n",
    "print(yer)\n",
    "print(yer_buyuk)\n",
    "\n",
    "\n"
   ]
  },
  {
   "cell_type": "markdown",
   "metadata": {
    "colab_type": "text",
    "id": "On4bFCudkfcD"
   },
   "source": [
    "`count()` yöntemi ile de parantez içine gireceğimiz karakterden, stringin içinde kaç tane bulunduğunu hesaplatıp, ekrana verelim.\n"
   ]
  },
  {
   "cell_type": "code",
   "execution_count": 22,
   "metadata": {
    "colab": {
     "base_uri": "https://localhost:8080/",
     "height": 34
    },
    "colab_type": "code",
    "id": "w1sMpMvSkkZ6",
    "outputId": "1ca47f3a-45db-4775-976a-33d2a40f082c"
   },
   "outputs": [
    {
     "name": "stdout",
     "output_type": "stream",
     "text": [
      "2\n"
     ]
    }
   ],
   "source": [
    "print(yer.count('i'))"
   ]
  },
  {
   "cell_type": "markdown",
   "metadata": {
    "colab_type": "text",
    "id": "fSGDz79xdqTD"
   },
   "source": [
    "Listelerin içindeki stringleri birleştirme örneği de verelim. Bunun için `join()` yöntemi kullanılır. Örneğin;"
   ]
  },
  {
   "cell_type": "code",
   "execution_count": 23,
   "metadata": {
    "colab": {
     "base_uri": "https://localhost:8080/",
     "height": 34
    },
    "colab_type": "code",
    "id": "D8T04X6HdqTF",
    "outputId": "ade932cc-8669-47c6-d282-da2d11166f8e"
   },
   "outputs": [
    {
     "data": {
      "text/plain": [
       "'02:08:1988'"
      ]
     },
     "execution_count": 23,
     "metadata": {},
     "output_type": "execute_result"
    }
   ],
   "source": [
    "dogum_tarihi = [\"02\",\"08\",\"1988\"]\n",
    "\n",
    "# Bu listedeki stringleri, arasında \":\" olacak şekilde birleştirelim. \n",
    "\":\".join(dogum_tarihi)"
   ]
  },
  {
   "cell_type": "code",
   "execution_count": 26,
   "metadata": {
    "colab": {
     "base_uri": "https://localhost:8080/",
     "height": 34
    },
    "colab_type": "code",
    "id": "2kFPx8Z5dqTK",
    "outputId": "4e11ff27-3b9f-434d-ce98-16166ecb7016"
   },
   "outputs": [
    {
     "data": {
      "text/plain": [
       "'Instagram bir fotoğraf paylaşım uygulamasıdır'"
      ]
     },
     "execution_count": 26,
     "metadata": {},
     "output_type": "execute_result"
    }
   ],
   "source": [
    "sosyal_medya = [\"Instagram\", \"bir\", \"fotoğraf\",\"paylaşım\", \"uygulamasıdır\"]\n",
    "# Bu listedeki stringleri, arasında boşluk olacak şekilde birleştirelim. \n",
    "\" \".join(sosyal_medya)"
   ]
  },
  {
   "cell_type": "markdown",
   "metadata": {
    "colab_type": "text",
    "id": "WzABsIyxdqTP"
   },
   "source": [
    "Stringleri parçalamak da mümkündür. Bunun için `split()` yöntemi kullanılır. Parçalama işlemini karakterler arasındaki virgül ya da nokta gibi işaretler kullanılacak ise, yöntem içinde bu işaret belirtilmelidir.Örneğin;"
   ]
  },
  {
   "cell_type": "code",
   "execution_count": 27,
   "metadata": {
    "colab": {
     "base_uri": "https://localhost:8080/",
     "height": 34
    },
    "colab_type": "code",
    "id": "UslSLQhddqTQ",
    "outputId": "225d7bef-1bad-40f5-c051-c08315f23157"
   },
   "outputs": [
    {
     "data": {
      "text/plain": [
       "['edison', ' tesla', ' marconi', ' newton']"
      ]
     },
     "execution_count": 27,
     "metadata": {},
     "output_type": "execute_result"
    }
   ],
   "source": [
    "mucitler = \"edison, tesla, marconi, newton\"\n",
    "mucitler.split(\",\")"
   ]
  },
  {
   "cell_type": "code",
   "execution_count": 28,
   "metadata": {
    "colab": {
     "base_uri": "https://localhost:8080/",
     "height": 34
    },
    "colab_type": "code",
    "id": "UgqFO21OdqTU",
    "outputId": "80af23ea-3ee0-4c93-a272-5537eee34713"
   },
   "outputs": [
    {
     "data": {
      "text/plain": [
       "['rolex', 'hublot', 'cartier', 'omega']"
      ]
     },
     "execution_count": 28,
     "metadata": {},
     "output_type": "execute_result"
    }
   ],
   "source": [
    "saatler = \"rolex hublot cartier omega\"\n",
    "saatler.split()"
   ]
  },
  {
   "cell_type": "markdown",
   "metadata": {
    "colab_type": "text",
    "id": "LmRJkpZKdqTa"
   },
   "source": [
    "`.capitalize()` yöntemi ile elimizdeki stringin baş harfini büyütebiliriz. Örneğin;"
   ]
  },
  {
   "cell_type": "code",
   "execution_count": 29,
   "metadata": {
    "colab": {
     "base_uri": "https://localhost:8080/",
     "height": 34
    },
    "colab_type": "code",
    "id": "h_psJr8qdqTb",
    "outputId": "3c24a30e-7559-442d-d9ff-d5e69046571a"
   },
   "outputs": [
    {
     "data": {
      "text/plain": [
       "'Havalimani'"
      ]
     },
     "execution_count": 29,
     "metadata": {},
     "output_type": "execute_result"
    }
   ],
   "source": [
    "yer = \"havalimani\"\n",
    "yer.capitalize()"
   ]
  },
  {
   "cell_type": "markdown",
   "metadata": {
    "colab_type": "text",
    "id": "KKaRwPQbdqTg"
   },
   "source": [
    "`.casefold()` yöntemi ile elimizdeki stringte bulunan küçük ya da büyük harflerin tamamı küçüğe çevrilir. Bu stringler, harflerin büyük ya da küçük olduğunu önemsemeyen karşılaştırmalar için kullanılır. Örneğin;"
   ]
  },
  {
   "cell_type": "code",
   "execution_count": 30,
   "metadata": {
    "colab": {
     "base_uri": "https://localhost:8080/",
     "height": 34
    },
    "colab_type": "code",
    "id": "I49DU6R3dqTi",
    "outputId": "3bbdb383-5646-4b7b-a912-eb5d32a4cb04"
   },
   "outputs": [
    {
     "data": {
      "text/plain": [
       "'havalimani'"
      ]
     },
     "execution_count": 30,
     "metadata": {},
     "output_type": "execute_result"
    }
   ],
   "source": [
    "yer = \"HaValiManI\"\n",
    "yer.casefold()"
   ]
  },
  {
   "cell_type": "code",
   "execution_count": 31,
   "metadata": {
    "colab": {
     "base_uri": "https://localhost:8080/",
     "height": 34
    },
    "colab_type": "code",
    "id": "4rOGDgOydqTm",
    "outputId": "f30b6e09-c11c-4c67-e7ea-a86166411dc9"
   },
   "outputs": [
    {
     "data": {
      "text/plain": [
       "False"
      ]
     },
     "execution_count": 31,
     "metadata": {},
     "output_type": "execute_result"
    }
   ],
   "source": [
    "yer == yer.casefold()"
   ]
  },
  {
   "cell_type": "markdown",
   "metadata": {
    "colab_type": "text",
    "id": "PHOBCAk-dqTr"
   },
   "source": [
    "String içerisindeki tüm karakterlerin belirli bir tipe ait olup olmadığını sorgulamak için de çeşitli yöntemler bulunmaktadır. Bu yöntemle yaptığımız sorgular doğru ise, program `True` sonucunu verir. Değilse, `False` yanıtını alırız. Örneğin, `.isalnum()` yöntemi ile stringteki tüm karakterlerin alfanümerik olup olmadığını, `.isalpha()` yöntemi ile yalnızca harflerden oluşup oluşmadığını, `.isdecimal()` yöntemi ile ondalık kısım olup olmadığını,  `.isdigit()` yöntemi ile sadece rakamlardan oluşup oluşmadığını, `.islower()` ile tamamen küçük harflerden oluşup oluşmadığını, `.isupper()` ile tamamen büyük harflerden oluşup oluşmadığını sorgulayabiliriz. `.swapcase() `yöntemi ile stringteki küçük harfleri büyük harflere, büyük harfleri küçük harflere çevirebiliriz. Örnekler;\n",
    "\n",
    "| Yöntem     | İşlevi           | \n",
    "|--------------|----------------|\n",
    "| `.isalnum()`    | Stringteki tüm karakterlerin alfanümerik olup olmadığını sorgular        |\n",
    "| ``.isalpha()``    | Stringteki tüm karakterlerin harflerden oluşup oluşmadığını sorgular          | \n",
    "| ``.isdigit()``    | Stringteki tüm karakterlerin rakamlardan oluşup oluşmadığını sorgular        | \n",
    "| ``.islower()``    | Stringteki karakterlerin tamamen küçük harflerden oluşup oluşmadığını sorgular   |\n",
    "| ``.isupper()``   | Stringteki karakterlerin tamamen büyük harflerden oluşup oluşmadığını sorgular          | \n",
    "| ``.swapcase()``    | Bu yöntem ile stringteki küçük harfler büyük harflere, büyük harfler de küçük harflere dönüşür.   | \n",
    "| ``.endswith()``   | Bu yöntem ile stringin belirtildiği şekilde sonlanıp sonlanmadığı sorgulanır.       | \n"
   ]
  },
  {
   "cell_type": "code",
   "execution_count": 32,
   "metadata": {
    "colab": {
     "base_uri": "https://localhost:8080/",
     "height": 34
    },
    "colab_type": "code",
    "id": "gg8v58ThdqTs",
    "outputId": "64dc8c42-d34d-4249-bfdf-5610fff26c90"
   },
   "outputs": [
    {
     "data": {
      "text/plain": [
       "False"
      ]
     },
     "execution_count": 32,
     "metadata": {},
     "output_type": "execute_result"
    }
   ],
   "source": [
    "bilgi = \"Mustafa Kemal Atatürk cumhuriyetin kurucusudur\"\n",
    "bilgi.isalnum()"
   ]
  },
  {
   "cell_type": "code",
   "execution_count": 33,
   "metadata": {
    "colab": {
     "base_uri": "https://localhost:8080/",
     "height": 34
    },
    "colab_type": "code",
    "id": "Yi1XWzLadqTx",
    "outputId": "2ca91bc5-87ed-44ab-b8b7-e627e7db2d8e"
   },
   "outputs": [
    {
     "data": {
      "text/plain": [
       "True"
      ]
     },
     "execution_count": 33,
     "metadata": {},
     "output_type": "execute_result"
    }
   ],
   "source": [
    "\"poolhouse\".isalpha()"
   ]
  },
  {
   "cell_type": "code",
   "execution_count": 34,
   "metadata": {
    "colab": {
     "base_uri": "https://localhost:8080/",
     "height": 34
    },
    "colab_type": "code",
    "id": "8sSulY5zdqT4",
    "outputId": "c93adde8-e71b-418f-df43-4efc0400d9b1"
   },
   "outputs": [
    {
     "data": {
      "text/plain": [
       "False"
      ]
     },
     "execution_count": 34,
     "metadata": {},
     "output_type": "execute_result"
    }
   ],
   "source": [
    "\"poolhouse1\".isalpha()"
   ]
  },
  {
   "cell_type": "code",
   "execution_count": 35,
   "metadata": {
    "colab": {
     "base_uri": "https://localhost:8080/",
     "height": 34
    },
    "colab_type": "code",
    "id": "uHa8MNmMdqT_",
    "outputId": "e36e1ad9-9bff-434b-d4f1-2719a957ed6c"
   },
   "outputs": [
    {
     "data": {
      "text/plain": [
       "True"
      ]
     },
     "execution_count": 35,
     "metadata": {},
     "output_type": "execute_result"
    }
   ],
   "source": [
    "\"2018\".isdigit()"
   ]
  },
  {
   "cell_type": "code",
   "execution_count": 36,
   "metadata": {
    "colab": {
     "base_uri": "https://localhost:8080/",
     "height": 34
    },
    "colab_type": "code",
    "id": "Lg8P5QoJdqUE",
    "outputId": "7c2ff9b8-cc33-4f41-94ab-46e9ec0a2d78"
   },
   "outputs": [
    {
     "data": {
      "text/plain": [
       "False"
      ]
     },
     "execution_count": 36,
     "metadata": {},
     "output_type": "execute_result"
    }
   ],
   "source": [
    "bilgi.islower()"
   ]
  },
  {
   "cell_type": "code",
   "execution_count": 37,
   "metadata": {
    "colab": {
     "base_uri": "https://localhost:8080/",
     "height": 34
    },
    "colab_type": "code",
    "id": "soIvW71sdqUI",
    "outputId": "841fa562-b949-42df-a8cc-cac53c2a0f61"
   },
   "outputs": [
    {
     "data": {
      "text/plain": [
       "True"
      ]
     },
     "execution_count": 37,
     "metadata": {},
     "output_type": "execute_result"
    }
   ],
   "source": [
    "\"IZMIR\".isupper()"
   ]
  },
  {
   "cell_type": "code",
   "execution_count": 38,
   "metadata": {
    "colab": {
     "base_uri": "https://localhost:8080/",
     "height": 34
    },
    "colab_type": "code",
    "id": "KsH-PpEzdqUR",
    "outputId": "2688308b-3e1a-44a5-a421-d20d5ffec983"
   },
   "outputs": [
    {
     "data": {
      "text/plain": [
       "'iZmIr'"
      ]
     },
     "execution_count": 38,
     "metadata": {},
     "output_type": "execute_result"
    }
   ],
   "source": [
    "\"IzMiR\".swapcase()"
   ]
  },
  {
   "cell_type": "markdown",
   "metadata": {
    "colab_type": "text",
    "id": "QFmj_jkxdqUW"
   },
   "source": [
    "String içerisinde en sonda bulunan alt stringin varlığını sorgulamak için `.endswith()` yöntemi kullanılır. Başlangıçtaki alt stringi bulmak için uygulanırsa, `.startswith()` yöntemi kullanılmalıdır. Örnekler; "
   ]
  },
  {
   "cell_type": "code",
   "execution_count": 39,
   "metadata": {
    "colab": {
     "base_uri": "https://localhost:8080/",
     "height": 34
    },
    "colab_type": "code",
    "id": "c2o5okfKdqUY",
    "outputId": "2e7e2f5f-f3f1-4e98-d97c-54b1e59fd55c"
   },
   "outputs": [
    {
     "data": {
      "text/plain": [
       "True"
      ]
     },
     "execution_count": 39,
     "metadata": {},
     "output_type": "execute_result"
    }
   ],
   "source": [
    "savasci = \"antik cag gladyatorleri vejeteryandir\"\n",
    "savasci.endswith(\"vejeteryandir\")"
   ]
  },
  {
   "cell_type": "code",
   "execution_count": 40,
   "metadata": {
    "colab": {
     "base_uri": "https://localhost:8080/",
     "height": 34
    },
    "colab_type": "code",
    "id": "0ya7uiXldqUc",
    "outputId": "02a42e31-c924-426d-e1f2-b911c39002ef"
   },
   "outputs": [
    {
     "data": {
      "text/plain": [
       "True"
      ]
     },
     "execution_count": 40,
     "metadata": {},
     "output_type": "execute_result"
    }
   ],
   "source": [
    "savasci.startswith(\"antik\")"
   ]
  },
  {
   "cell_type": "code",
   "execution_count": 41,
   "metadata": {
    "colab": {
     "base_uri": "https://localhost:8080/",
     "height": 34
    },
    "colab_type": "code",
    "id": "WSRUgwPwdqUg",
    "outputId": "dd17e1b0-20ae-4255-98e6-4b59f5f98c0f"
   },
   "outputs": [
    {
     "data": {
      "text/plain": [
       "False"
      ]
     },
     "execution_count": 41,
     "metadata": {},
     "output_type": "execute_result"
    }
   ],
   "source": [
    "savasci.startswith(\"A\")"
   ]
  },
  {
   "cell_type": "code",
   "execution_count": 42,
   "metadata": {
    "colab": {
     "base_uri": "https://localhost:8080/",
     "height": 34
    },
    "colab_type": "code",
    "id": "fEDJuBSBdqUk",
    "outputId": "7a2697d2-2d32-446f-94ae-cf633bbd821c"
   },
   "outputs": [
    {
     "data": {
      "text/plain": [
       "True"
      ]
     },
     "execution_count": 42,
     "metadata": {},
     "output_type": "execute_result"
    }
   ],
   "source": [
    "savasci.startswith(\"a\")"
   ]
  },
  {
   "cell_type": "code",
   "execution_count": 43,
   "metadata": {
    "colab": {
     "base_uri": "https://localhost:8080/",
     "height": 34
    },
    "colab_type": "code",
    "id": "TNlM3tAhdqUy",
    "outputId": "0dd8a65e-b987-4022-d555-7f4478308ce3"
   },
   "outputs": [
    {
     "data": {
      "text/plain": [
       "True"
      ]
     },
     "execution_count": 43,
     "metadata": {},
     "output_type": "execute_result"
    }
   ],
   "source": [
    "\"istanbul\".startswith(\"ist\")"
   ]
  },
  {
   "cell_type": "markdown",
   "metadata": {
    "colab_type": "text",
    "id": "HGhHOeAzdqU5"
   },
   "source": [
    "Stringte bulunan tüm kelimelerin baş harflerini büyütmek için .title() yöntemi kullanılır. .capitalize() yöntemi sadece ilk kelimenin harfini büyüğe çevirmekteydi. Örneğin;"
   ]
  },
  {
   "cell_type": "code",
   "execution_count": 44,
   "metadata": {
    "colab": {
     "base_uri": "https://localhost:8080/",
     "height": 34
    },
    "colab_type": "code",
    "id": "RbbKbtzUdqU6",
    "outputId": "ed3c226a-8f72-444b-972d-56c1fc6c3df7",
    "scrolled": true
   },
   "outputs": [
    {
     "data": {
      "text/plain": [
       "'Abraham graham bell telefonun mucididir'"
      ]
     },
     "execution_count": 44,
     "metadata": {},
     "output_type": "execute_result"
    }
   ],
   "source": [
    "mucit = \"abraham graham bell telefonun mucididir\"\n",
    "mucit.capitalize()"
   ]
  },
  {
   "cell_type": "code",
   "execution_count": 45,
   "metadata": {
    "colab": {
     "base_uri": "https://localhost:8080/",
     "height": 34
    },
    "colab_type": "code",
    "id": "U-ZJOFtqdqU-",
    "outputId": "bd587510-2813-4cdc-937e-72f08810e760"
   },
   "outputs": [
    {
     "data": {
      "text/plain": [
       "'Abraham Graham Bell Telefonun Mucididir'"
      ]
     },
     "execution_count": 45,
     "metadata": {},
     "output_type": "execute_result"
    }
   ],
   "source": [
    "mucit.title()"
   ]
  },
  {
   "cell_type": "markdown",
   "metadata": {
    "colab_type": "text",
    "id": "NLy23XA_dqVC"
   },
   "source": [
    "Stringte bulunan bir kelimeyi değiştirmek için .replace() yöntemi kullanılır."
   ]
  },
  {
   "cell_type": "code",
   "execution_count": 46,
   "metadata": {
    "colab": {
     "base_uri": "https://localhost:8080/",
     "height": 34
    },
    "colab_type": "code",
    "id": "hFjNdtSZdqVE",
    "outputId": "a3a4fc30-977a-4529-ae21-cf455b6958d4"
   },
   "outputs": [
    {
     "data": {
      "text/plain": [
       "'tarih tekerrür eder'"
      ]
     },
     "execution_count": 46,
     "metadata": {},
     "output_type": "execute_result"
    }
   ],
   "source": [
    "\"tarih tekerrür etmez\".replace(\"etmez\",\"eder\")"
   ]
  },
  {
   "cell_type": "markdown",
   "metadata": {
    "colab_type": "text",
    "id": "1b9pI-uFdqVK"
   },
   "source": [
    "# 3. Liste Hazır Fonksiyonları"
   ]
  },
  {
   "cell_type": "markdown",
   "metadata": {
    "colab_type": "text",
    "id": "KTeAB3k3dqVM"
   },
   "source": [
    "\n",
    "\n",
    "| Hazır Fonksiyon     | İşlevi           | \n",
    "|--------------|----------------|\n",
    "| `len()`    | Bir listedeki eleman sayısını hesaplar.|\n",
    "| `sum()`    | Bir listedeki sayısal elemanların toplamını hesaplar.| \n",
    "| `any()`    | Listedeki Boolean değişkenlerinin herhangi birinin True değerinde olup olmadığını araştırır. Varsa, `True` sonucunu verir. | \n",
    "| `sorted()`    | Listede bulunan elemanların alfabetik sıraya dizilmiş halini oluşturan yeni bir liste oluşturur.  |\n",
    "\n",
    "\n",
    "Örnekler:"
   ]
  },
  {
   "cell_type": "code",
   "execution_count": 47,
   "metadata": {
    "colab": {
     "base_uri": "https://localhost:8080/",
     "height": 34
    },
    "colab_type": "code",
    "id": "PAJyCyTrdqVM",
    "outputId": "064ddc4a-38c9-4385-f1f8-4d6155a1e0ac"
   },
   "outputs": [
    {
     "data": {
      "text/plain": [
       "5"
      ]
     },
     "execution_count": 47,
     "metadata": {},
     "output_type": "execute_result"
    }
   ],
   "source": [
    "goller = ['van', 'tuz', 'beysehir', 'egridir', 'iznik']\n",
    "len(goller)"
   ]
  },
  {
   "cell_type": "code",
   "execution_count": 51,
   "metadata": {
    "colab": {
     "base_uri": "https://localhost:8080/",
     "height": 34
    },
    "colab_type": "code",
    "id": "EgalBNh5dqVT",
    "outputId": "d7324666-aa8d-48b6-ee80-c28adcf99d53"
   },
   "outputs": [
    {
     "data": {
      "text/plain": [
       "15.0"
      ]
     },
     "execution_count": 51,
     "metadata": {},
     "output_type": "execute_result"
    }
   ],
   "source": [
    "sayilar = [4,5,3,2,1]\n",
    "sum(sayilar)\n"
   ]
  },
  {
   "cell_type": "code",
   "execution_count": 52,
   "metadata": {
    "colab": {
     "base_uri": "https://localhost:8080/",
     "height": 34
    },
    "colab_type": "code",
    "id": "bE4kdFmKdqVY",
    "outputId": "2a290cf5-4374-40ee-b87b-a3ecbe5ce960"
   },
   "outputs": [
    {
     "data": {
      "text/plain": [
       "True"
      ]
     },
     "execution_count": 52,
     "metadata": {},
     "output_type": "execute_result"
    }
   ],
   "source": [
    "any([1,1,0,0,1,0])"
   ]
  },
  {
   "cell_type": "code",
   "execution_count": 53,
   "metadata": {
    "colab": {
     "base_uri": "https://localhost:8080/",
     "height": 34
    },
    "colab_type": "code",
    "id": "2I5ldh9ddqVe",
    "outputId": "691505cc-2811-4876-a394-54267d42bb73"
   },
   "outputs": [
    {
     "data": {
      "text/plain": [
       "True"
      ]
     },
     "execution_count": 53,
     "metadata": {},
     "output_type": "execute_result"
    }
   ],
   "source": [
    "all([1,1,1,1])"
   ]
  },
  {
   "cell_type": "code",
   "execution_count": 54,
   "metadata": {
    "colab": {
     "base_uri": "https://localhost:8080/",
     "height": 34
    },
    "colab_type": "code",
    "id": "nRyaVHtgdqVh",
    "outputId": "b73c7550-d0ce-4f2c-b5ee-aac22ab097f2"
   },
   "outputs": [
    {
     "data": {
      "text/plain": [
       "['beysehir', 'egridir', 'iznik', 'tuz', 'van']"
      ]
     },
     "execution_count": 54,
     "metadata": {},
     "output_type": "execute_result"
    }
   ],
   "source": [
    "goller_sirali = sorted(goller)\n",
    "goller_sirali"
   ]
  },
  {
   "cell_type": "code",
   "execution_count": 55,
   "metadata": {},
   "outputs": [
    {
     "data": {
      "text/plain": [
       "[1, 2, 3, 4, 5]"
      ]
     },
     "execution_count": 55,
     "metadata": {},
     "output_type": "execute_result"
    }
   ],
   "source": [
    "sayilar_sirali = sorted(sayilar)\n",
    "sayilar_sirali"
   ]
  },
  {
   "cell_type": "markdown",
   "metadata": {
    "colab_type": "text",
    "id": "Lw0A8EUydqVo"
   },
   "source": [
    "# 4.Liste Yöntemleri"
   ]
  },
  {
   "cell_type": "markdown",
   "metadata": {
    "colab_type": "text",
    "id": "56Pch0VqdqVp"
   },
   "source": [
    "\n",
    "| Yöntem     | İşlevi           | \n",
    "|--------------|----------------|\n",
    "| `.append()`    | Listenin sonuna tek bir eleman ekler. Yeni bir liste oluşturmaz, orijinal listeyi değiştirir.|\n",
    "| `.count()`    | Listedeki bir karakterin kaç kez kullanıldığını hesaplayarak ekrana verir. | \n",
    "| `.insert()`    | Listedeki belirtilen indeksteki elemanın yerine yeni bir eleman ekler. Kalan elemanları sağa iteler. | \n",
    "| `.extend()`    | İkinci bir listenin elemanlarını, ilk listemizin sonuna ekler.|\n",
    "| `.index()`    | Listedeki elemanın değerini vererek indeksinin bulunmasına yarar. <br> Eğer değer listede birden fazla elemanda bulunuyorsa, yöntem birincisinin indeksini verir. <br> Eğer değer listede bulunmuyorsa, yöntem değer hatası (`ValueError`) verir. |\n",
    "| `.remove()`    | Değeri belirtilen liste elemanını siler. <br> Eğer değer listede bulunmuyorsa, yöntem değer hatası (`ValueError`) verir.|\n",
    "| `.sort()`    | Listenin elemanlarını sıraya dizer. Yeni bir liste oluşturmaz. Orijinal listeyi değiştirir. |\n",
    "| `.reverse()`    | Listenin elemanlarının sırası ters çevirir. Yeni bir liste oluşturmaz. Orijinal listeyi değiştirir.  |\n",
    "\n",
    "\n",
    "Örnekler;\n",
    "\n"
   ]
  },
  {
   "cell_type": "code",
   "execution_count": 56,
   "metadata": {
    "colab": {
     "base_uri": "https://localhost:8080/",
     "height": 34
    },
    "colab_type": "code",
    "id": "pXzoszkVdqVq",
    "outputId": "e9e5b610-8db7-4b4b-ded8-b3636e771f95"
   },
   "outputs": [
    {
     "data": {
      "text/plain": [
       "1"
      ]
     },
     "execution_count": 56,
     "metadata": {},
     "output_type": "execute_result"
    }
   ],
   "source": [
    "kentler = [\"oslo\", \"delhi\", \"washington\", \"london\", \"seattle\", \"paris\", \"washington\"]\n",
    "\n",
    "kentler.count(\"seattle\")"
   ]
  },
  {
   "cell_type": "code",
   "execution_count": 57,
   "metadata": {
    "colab": {
     "base_uri": "https://localhost:8080/",
     "height": 34
    },
    "colab_type": "code",
    "id": "e-c3z7yodqVv",
    "outputId": "933baefc-c630-4aab-85f4-676ceea7babe"
   },
   "outputs": [
    {
     "data": {
      "text/plain": [
       "2"
      ]
     },
     "execution_count": 57,
     "metadata": {},
     "output_type": "execute_result"
    }
   ],
   "source": [
    "kentler.index(\"washington\")"
   ]
  },
  {
   "cell_type": "code",
   "execution_count": 58,
   "metadata": {
    "colab": {
     "base_uri": "https://localhost:8080/",
     "height": 34
    },
    "colab_type": "code",
    "id": "xTn4j22KdqVx",
    "outputId": "47d87d56-f103-4915-eb92-02ff57068da2"
   },
   "outputs": [
    {
     "data": {
      "text/plain": [
       "['washington', 'paris', 'seattle', 'london', 'washington', 'delhi', 'oslo']"
      ]
     },
     "execution_count": 58,
     "metadata": {},
     "output_type": "execute_result"
    }
   ],
   "source": [
    "kentler.reverse()\n",
    "kentler"
   ]
  },
  {
   "cell_type": "code",
   "execution_count": 59,
   "metadata": {
    "colab": {
     "base_uri": "https://localhost:8080/",
     "height": 153
    },
    "colab_type": "code",
    "id": "Y4SAEv13dqV1",
    "outputId": "7e9bcb03-728f-4ce2-8c53-8190bc219be5"
   },
   "outputs": [
    {
     "data": {
      "text/plain": [
       "['washington',\n",
       " 'paris',\n",
       " 'seattle',\n",
       " 'london',\n",
       " 'washington',\n",
       " 'delhi',\n",
       " 'oslo',\n",
       " 'brussels']"
      ]
     },
     "execution_count": 59,
     "metadata": {},
     "output_type": "execute_result"
    }
   ],
   "source": [
    "kentler.append(\"brussels\")\n",
    "kentler"
   ]
  },
  {
   "cell_type": "code",
   "execution_count": 60,
   "metadata": {
    "colab": {
     "base_uri": "https://localhost:8080/",
     "height": 170
    },
    "colab_type": "code",
    "id": "9Me9Y9NMdqV-",
    "outputId": "ed1e19b4-b5de-490d-d693-d10e4c55f8a6"
   },
   "outputs": [
    {
     "data": {
      "text/plain": [
       "['washington',\n",
       " 'paris',\n",
       " 'seattle',\n",
       " 'london',\n",
       " 'washington',\n",
       " 'delhi',\n",
       " 'oslo',\n",
       " 'brussels',\n",
       " 'istanbul',\n",
       " 'copenhagen']"
      ]
     },
     "execution_count": 60,
     "metadata": {},
     "output_type": "execute_result"
    }
   ],
   "source": [
    "diger_kentler =[\"istanbul\", \"copenhagen\"]\n",
    "kentler.extend(diger_kentler)\n",
    "kentler"
   ]
  },
  {
   "cell_type": "code",
   "execution_count": 61,
   "metadata": {
    "colab": {
     "base_uri": "https://localhost:8080/",
     "height": 153
    },
    "colab_type": "code",
    "id": "qgF4Rh8JdqWB",
    "outputId": "15b7e419-10e2-4aa9-ff83-a5d0832d1705"
   },
   "outputs": [
    {
     "data": {
      "text/plain": [
       "['washington',\n",
       " 'paris',\n",
       " 'seattle',\n",
       " 'washington',\n",
       " 'delhi',\n",
       " 'oslo',\n",
       " 'brussels',\n",
       " 'istanbul',\n",
       " 'copenhagen']"
      ]
     },
     "execution_count": 61,
     "metadata": {},
     "output_type": "execute_result"
    }
   ],
   "source": [
    "kentler.remove(\"london\")\n",
    "kentler"
   ]
  },
  {
   "cell_type": "markdown",
   "metadata": {
    "colab_type": "text",
    "id": "bRblDcEGdqWF"
   },
   "source": [
    "__Listelere sürekli eleman eklediğimiz bir alıştırma yapalım.__"
   ]
  },
  {
   "cell_type": "code",
   "execution_count": 62,
   "metadata": {
    "colab": {
     "base_uri": "https://localhost:8080/",
     "height": 34
    },
    "colab_type": "code",
    "id": "zCxa_gZddqWJ",
    "outputId": "86d16758-e4f6-4c06-f333-57ed3f5bdc62"
   },
   "outputs": [],
   "source": [
    "kitalar =[]"
   ]
  },
  {
   "cell_type": "code",
   "execution_count": 63,
   "metadata": {},
   "outputs": [
    {
     "data": {
      "text/plain": [
       "['Asya']"
      ]
     },
     "execution_count": 63,
     "metadata": {},
     "output_type": "execute_result"
    }
   ],
   "source": [
    "kitalar.append(\"Asya\")\n",
    "kitalar"
   ]
  },
  {
   "cell_type": "code",
   "execution_count": 64,
   "metadata": {},
   "outputs": [
    {
     "data": {
      "text/plain": [
       "['Asya', 'Avrupa']"
      ]
     },
     "execution_count": 64,
     "metadata": {},
     "output_type": "execute_result"
    }
   ],
   "source": [
    "kitalar.append(\"Avrupa\")\n",
    "kitalar"
   ]
  },
  {
   "cell_type": "code",
   "execution_count": 65,
   "metadata": {},
   "outputs": [
    {
     "data": {
      "text/plain": [
       "['Asya', 'Avrupa', 'Afrika']"
      ]
     },
     "execution_count": 65,
     "metadata": {},
     "output_type": "execute_result"
    }
   ],
   "source": [
    "kitalar.append(\"Afrika\")\n",
    "kitalar"
   ]
  },
  {
   "cell_type": "markdown",
   "metadata": {
    "colab_type": "text",
    "id": "U2NAWF5RdqWM"
   },
   "source": [
    "# 5. `del` İfadesi"
   ]
  },
  {
   "cell_type": "markdown",
   "metadata": {
    "colab_type": "text",
    "id": "LMgCWyx0dqWN"
   },
   "source": [
    "Listedeki bir elemanın silinmesi için değer yerine indeks kullanılır. Bunun için `del` ifadesi kullanılır. "
   ]
  },
  {
   "cell_type": "code",
   "execution_count": 66,
   "metadata": {
    "colab": {
     "base_uri": "https://localhost:8080/",
     "height": 34
    },
    "colab_type": "code",
    "id": "MuBgkz3xdqWO",
    "outputId": "a8d77e1a-b734-4555-9751-e7ec39481b59"
   },
   "outputs": [
    {
     "data": {
      "text/plain": [
       "[-8, 99.99, 432, 108, 213]"
      ]
     },
     "execution_count": 66,
     "metadata": {},
     "output_type": "execute_result"
    }
   ],
   "source": [
    "a = [5, -8, 99.99, 432, 108, 213]\n",
    "\n",
    "del a[0]\n",
    "\n",
    "a"
   ]
  },
  {
   "cell_type": "code",
   "execution_count": 67,
   "metadata": {
    "colab": {
     "base_uri": "https://localhost:8080/",
     "height": 34
    },
    "colab_type": "code",
    "id": "HafeOxivdqWR",
    "outputId": "ef8df1a1-eb34-41c0-a1e8-3cdeb973f536"
   },
   "outputs": [
    {
     "data": {
      "text/plain": [
       "[-8, 99.99, 213]"
      ]
     },
     "execution_count": 67,
     "metadata": {},
     "output_type": "execute_result"
    }
   ],
   "source": [
    "del a[2:4]\n",
    "\n",
    "a"
   ]
  },
  {
   "cell_type": "code",
   "execution_count": 68,
   "metadata": {
    "colab": {
     "base_uri": "https://localhost:8080/",
     "height": 34
    },
    "colab_type": "code",
    "id": "QKLWPRMydqWU",
    "outputId": "165b32a1-7c7c-4ad2-a20f-c37f1208c4dd"
   },
   "outputs": [
    {
     "data": {
      "text/plain": [
       "[]"
      ]
     },
     "execution_count": 68,
     "metadata": {},
     "output_type": "execute_result"
    }
   ],
   "source": [
    "del a[:]\n",
    "\n",
    "a"
   ]
  },
  {
   "cell_type": "markdown",
   "metadata": {
    "colab_type": "text",
    "id": "GepM-KKydqWY"
   },
   "source": [
    "### Alıştırma 1"
   ]
  },
  {
   "cell_type": "code",
   "execution_count": 69,
   "metadata": {
    "colab": {
     "base_uri": "https://localhost:8080/",
     "height": 51
    },
    "colab_type": "code",
    "id": "QDQK9wT9dqWZ",
    "outputId": "8cf9ef60-7c09-4317-bc3d-89da5adfc47a"
   },
   "outputs": [
    {
     "name": "stdout",
     "output_type": "stream",
     "text": [
      "2\n",
      "1\n"
     ]
    }
   ],
   "source": [
    "sicaklik = [11.25, 18.0, 20.0, 10.75, 9.50]\n",
    "\n",
    "print(sicaklik.index(20.0))\n",
    "\n",
    "print(sicaklik.count(9.50))"
   ]
  },
  {
   "cell_type": "markdown",
   "metadata": {
    "colab_type": "text",
    "id": "luqrDoWydqWc"
   },
   "source": [
    "### Alıştırma 2"
   ]
  },
  {
   "cell_type": "code",
   "execution_count": 70,
   "metadata": {
    "colab": {
     "base_uri": "https://localhost:8080/",
     "height": 51
    },
    "colab_type": "code",
    "id": "rdbyymj1dqWd",
    "outputId": "dbb6be44-2935-4822-8375-39beb183d6b8"
   },
   "outputs": [
    {
     "name": "stdout",
     "output_type": "stream",
     "text": [
      "[11.25, 18.0, 20.0, 10.75, 9.5, 24.5, 15.5]\n",
      "[15.5, 24.5, 9.5, 10.75, 20.0, 18.0, 11.25]\n"
     ]
    }
   ],
   "source": [
    "sicaklik.append(24.5)\n",
    "sicaklik.append(15.5)\n",
    "\n",
    "print(sicaklik)\n",
    "\n",
    "sicaklik.reverse()\n",
    "\n",
    "print(sicaklik)"
   ]
  },
  {
   "cell_type": "markdown",
   "metadata": {
    "colab_type": "text",
    "id": "G5UcVhmudqWj"
   },
   "source": [
    "# 6. Fonksiyonlarda Çoklu Argümanlar"
   ]
  },
  {
   "cell_type": "markdown",
   "metadata": {
    "colab_type": "text",
    "id": "IwyNYIGBdqWm"
   },
   "source": [
    "Python'da kullanılan hazır fonksiyonlara çeşitli argümanlar girilir. Bu argümanlar, fonksiyonun üzerinde işlem yapacağı değişkenlerdir. Bu argümanların bazıları fonksiyonun çalışması için zorunludur, bazıları da seçmelidir (opsiyoneldir). Eğer opsiyonel argümanlar kullanıcı tarafından girilmezse, Python bunları girilmemiş olarak kabul eder. \n",
    "\n",
    "Fonksiyonların argümanlarını öğrenmek için Python'un yardım menüsüne bakmak yeterlidir. Misal `sorted() `fonksiyonuna, yardım menüsünden bakalım. "
   ]
  },
  {
   "cell_type": "code",
   "execution_count": 71,
   "metadata": {
    "colab": {
     "base_uri": "https://localhost:8080/",
     "height": 153
    },
    "colab_type": "code",
    "id": "0QQCR7ZUdqWn",
    "outputId": "667827c7-d4a0-4554-ac01-a4a0b08c4bf3"
   },
   "outputs": [
    {
     "name": "stdout",
     "output_type": "stream",
     "text": [
      "Help on built-in function sorted in module builtins:\n",
      "\n",
      "sorted(iterable, /, *, key=None, reverse=False)\n",
      "    Return a new list containing all items from the iterable in ascending order.\n",
      "    \n",
      "    A custom key function can be supplied to customize the sort order, and the\n",
      "    reverse flag can be set to request the result in descending order.\n",
      "\n"
     ]
    }
   ],
   "source": [
    "help(sorted)"
   ]
  },
  {
   "cell_type": "markdown",
   "metadata": {
    "colab_type": "text",
    "id": "CvE3_IdvdqWq"
   },
   "source": [
    "`key = None` ifadesi, eğer key argümanını belirtmezseniz, `None` olarak kabul edilecektir. `reverse = False` ifadesinde ise, eğer reverse argümanı girilmezse, Python bunu otomatik olarak False şeklinde kabul edecektir. Bunlar seçmeli argümanlardır. \n",
    "\n",
    "`sorted()` fonksiyonu,  bir Python nesnesinin elemanlarının sıralanmasına yarar. `iterable` argümanı, sıralanacak olan nesnenin ismini girdiğimiz argümandır. `reverse` argümanı ise, bu sıralamanın büyükten küçüğe mi, küçükten büyüğe mi yapılacağını belirler. Bu argümana `True` değişkenini atarsak, sıralama büyükten küçüğe olacaktır. `False` değişkeni atanırsa, sıralama küçükten büyüğe olacaktır. Herhangi bir değişken atamazsak, program otomatik olarak `False` değişkeni gibi çalışacaktır. \n",
    "\n",
    "`key` argümanı ise, sıralamanın sayı sıralamasından farklı bir yöntemle yapılması durumunda girilmesi gereken anahtar argümandır. Örneğin `key = len` ifadesi kullanılırsa, `sorted` fonksiyonu sıralamasını elemanların karakter uzunluğuna göre yapacaktır. "
   ]
  },
  {
   "cell_type": "code",
   "execution_count": 74,
   "metadata": {
    "colab": {
     "base_uri": "https://localhost:8080/",
     "height": 34
    },
    "colab_type": "code",
    "id": "AOhymsApdqWr",
    "outputId": "7c88995a-b5f0-4875-e60b-fce475ea508c"
   },
   "outputs": [
    {
     "name": "stdout",
     "output_type": "stream",
     "text": [
      "[20.0, 18.0, 11.25, 10.75, 9.5]\n"
     ]
    }
   ],
   "source": [
    "# İki liste oluşturalım\n",
    "ilk = [11.25, 18.0, 20.0]\n",
    "ikinci = [10.75, 9.50]\n",
    "\n",
    "# İki listeyi de bir araya getirelim ve \"tam\" listesini oluşturalım\n",
    "\n",
    "tam = ilk + ikinci\n",
    "\n",
    "# Bu yeni listenin elemanlarını sıralayalım. Sıralamamız büyükten küçüğe olsun. \n",
    "# Dolayısıyla reverse argümanını True olarak atayalım.\n",
    "\n",
    "tam_sorted = sorted(tam, reverse = True)\n",
    "\n",
    "# Sıralanmış \"tam_sorted\" listesini ekrana verelim.\n",
    "\n",
    "print(tam_sorted)"
   ]
  },
  {
   "cell_type": "code",
   "execution_count": 75,
   "metadata": {
    "colab": {
     "base_uri": "https://localhost:8080/",
     "height": 34
    },
    "colab_type": "code",
    "id": "b5YEivf1dqWu",
    "outputId": "df0396f5-07eb-4ff2-8b52-9b23d0efed74"
   },
   "outputs": [
    {
     "name": "stdout",
     "output_type": "stream",
     "text": [
      "[9.5, 10.75, 11.25, 18.0, 20.0]\n"
     ]
    }
   ],
   "source": [
    "# reverse argümanını girmeden yapalım.\n",
    "tam_sorted = sorted(tam)\n",
    "\n",
    "# Ekrana verelim. Listemiz, küçükten büyüğe sıralanmış halde çıkacaktır. \n",
    "\n",
    "print(tam_sorted)"
   ]
  },
  {
   "cell_type": "code",
   "execution_count": 77,
   "metadata": {
    "colab": {
     "base_uri": "https://localhost:8080/",
     "height": 34
    },
    "colab_type": "code",
    "id": "rfE_fvKsdqWx",
    "outputId": "38fb6719-f8f8-4ca7-9fd2-9a57afa3cded"
   },
   "outputs": [
    {
     "name": "stdout",
     "output_type": "stream",
     "text": [
      "['aaaaaa', 'aaaa', 'aaa', 'aa']\n"
     ]
    }
   ],
   "source": [
    "# key = len argümanını kullanalım\n",
    "ornek_liste = [\"aaa\",\"aa\",\"aaaa\",\"aaaaaa\"]\n",
    "ornek_sorted = sorted(ornek_liste, key = len, reverse = True)\n",
    "print(ornek_sorted)"
   ]
  }
 ],
 "metadata": {
  "colab": {
   "collapsed_sections": [],
   "name": "unite 04 listeler ve stringler uzerinde hazir fonksiyonlar ve yontemler.ipynb",
   "provenance": []
  },
  "kernelspec": {
   "display_name": "Python 3",
   "language": "python",
   "name": "python3"
  },
  "language_info": {
   "codemirror_mode": {
    "name": "ipython",
    "version": 3
   },
   "file_extension": ".py",
   "mimetype": "text/x-python",
   "name": "python",
   "nbconvert_exporter": "python",
   "pygments_lexer": "ipython3",
   "version": "3.7.6"
  }
 },
 "nbformat": 4,
 "nbformat_minor": 1
}
