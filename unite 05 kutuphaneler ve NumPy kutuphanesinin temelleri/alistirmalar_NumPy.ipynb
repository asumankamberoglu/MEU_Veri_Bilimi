{
 "cells": [
  {
   "cell_type": "markdown",
   "metadata": {},
   "source": [
    "## Alıştırma 1\n",
    "Köşegenin hemen altında 1,2,3,4 değerlerine sahip 5x5'lik bir matris oluşturun\n",
    "\n",
    "![figure](https://i0.wp.com/arrayjson.com/wp-content/uploads/2020/06/numpy-diagonal-offset-0-1-2-1-2.jpg?resize=454%2C309&ssl=1)"
   ]
  },
  {
   "cell_type": "code",
   "execution_count": 3,
   "metadata": {},
   "outputs": [
    {
     "name": "stdout",
     "output_type": "stream",
     "text": [
      "[[0 0 1 0 0]\n",
      " [0 0 0 2 0]\n",
      " [0 0 0 0 3]\n",
      " [0 0 0 0 0]\n",
      " [0 0 0 0 0]]\n"
     ]
    }
   ],
   "source": [
    "import numpy as np\n",
    "M = np.diag(np.arange(1,4),k=2)\n",
    "print(M)"
   ]
  },
  {
   "cell_type": "markdown",
   "metadata": {},
   "source": [
    "## Alıştırma 2\n",
    "Kartezyen koordinatları temsil eden rastgele bir 10x2 matrisi, kutupsal koordinatlara dönüştürün.\n",
    "![figure](https://www.grc.nasa.gov/WWW/K-12/airplane/Images/coords.jpg)"
   ]
  },
  {
   "cell_type": "code",
   "execution_count": 9,
   "metadata": {},
   "outputs": [
    {
     "name": "stdout",
     "output_type": "stream",
     "text": [
      "KOORDİNAT LİSTESİ\n",
      "--------------------------\n",
      "[[0.54607308 0.68182604]\n",
      " [0.9268241  0.66535192]\n",
      " [0.03327053 0.88821712]\n",
      " [0.39071424 0.38287904]\n",
      " [0.5231282  0.02628663]\n",
      " [0.63521378 0.58946375]\n",
      " [0.24598394 0.32146678]\n",
      " [0.3954546  0.5888944 ]\n",
      " [0.1820441  0.59963926]\n",
      " [0.12754436 0.22212132]]\n",
      "-----------------------------\n",
      "X KOORDİNATLARI LİSTESİ\n",
      "[0.54607308 0.9268241  0.03327053 0.39071424 0.5231282  0.63521378\n",
      " 0.24598394 0.3954546  0.1820441  0.12754436]\n",
      "--------------------------\n",
      "Y KOORDİNATLARI LİSTESİ\n",
      "[0.68182604 0.66535192 0.88821712 0.38287904 0.02628663 0.58946375\n",
      " 0.32146678 0.5888944  0.59963926 0.22212132]\n",
      "--------------------------\n",
      "KUTUPSAL YARIÇAP (r)\n",
      "[0.87354596 1.14091897 0.88884002 0.54704111 0.52378822 0.86658182\n",
      " 0.40478265 0.70935249 0.62666362 0.2561356 ]\n",
      "--------------------------\n",
      "KUTUPSAL AÇI (Theta)\n",
      "[0.89550809 0.62262789 1.53335618 0.77527018 0.05020669 0.74805873\n",
      " 0.91764276 0.97944098 1.2760498  1.04955571]\n"
     ]
    }
   ],
   "source": [
    "import numpy as np\n",
    "z = np.random.random((10,2))\n",
    "print('KOORDİNAT LİSTESİ')\n",
    "print('--------------------------')\n",
    "print(z)\n",
    "print('-----------------------------')\n",
    "x,y = z[:,0], z[:,1]\n",
    "print('X KOORDİNATLARI LİSTESİ')\n",
    "print(x)\n",
    "print('--------------------------')\n",
    "print('Y KOORDİNATLARI LİSTESİ')\n",
    "print(y)\n",
    "print('--------------------------')\n",
    "r = np.sqrt(x**2+y**2)\n",
    "print('KUTUPSAL YARIÇAP (r)')\n",
    "print(r)\n",
    "print('--------------------------')\n",
    "theta = np.arctan2(y,x)\n",
    "print('KUTUPSAL AÇI (Theta)')\n",
    "print(theta)\n"
   ]
  },
  {
   "cell_type": "markdown",
   "metadata": {},
   "source": [
    "## Alıştırma 3\n",
    "Boyutu 10 olan rastgele bir vektörün en büyük elemanını 1'e, en küçük elemanını 0'a eşitleyiniz."
   ]
  },
  {
   "cell_type": "code",
   "execution_count": 12,
   "metadata": {},
   "outputs": [
    {
     "name": "stdout",
     "output_type": "stream",
     "text": [
      "[0.85904274 0.86387284 0.19037369 0.04166168 0.82140963 0.22042315\n",
      " 0.746958   0.90014191 0.84686671 0.33021595]\n",
      "EN BÜYÜK ELEMANIN 1'E EŞİTLENMESİ\n",
      "[0.85904274 0.86387284 0.19037369 0.04166168 0.82140963 0.22042315\n",
      " 0.746958   1.         0.84686671 0.33021595]\n",
      "------------------------------------\n",
      "EN KÜÇÜK ELEMANIN 0'A EŞİTLENMESİ\n",
      "[0.85904274 0.86387284 0.19037369 0.         0.82140963 0.22042315\n",
      " 0.746958   1.         0.84686671 0.33021595]\n"
     ]
    }
   ],
   "source": [
    "import numpy as np\n",
    "Z5 = np.random.random(10)\n",
    "print(Z5)\n",
    "\n",
    "print('EN BÜYÜK ELEMANIN 1\\'E EŞİTLENMESİ')\n",
    "Z5[np.argmax(Z5)] = 1\n",
    "print(Z5)\n",
    "print('------------------------------------')\n",
    "print('EN KÜÇÜK ELEMANIN 0\\'A EŞİTLENMESİ')\n",
    "Z5[np.argmin(Z5)] = 0\n",
    "print(Z5)"
   ]
  },
  {
   "cell_type": "code",
   "execution_count": null,
   "metadata": {},
   "outputs": [],
   "source": []
  }
 ],
 "metadata": {
  "kernelspec": {
   "display_name": "Python 3",
   "language": "python",
   "name": "python3"
  },
  "language_info": {
   "codemirror_mode": {
    "name": "ipython",
    "version": 3
   },
   "file_extension": ".py",
   "mimetype": "text/x-python",
   "name": "python",
   "nbconvert_exporter": "python",
   "pygments_lexer": "ipython3",
   "version": "3.7.6"
  }
 },
 "nbformat": 4,
 "nbformat_minor": 4
}
