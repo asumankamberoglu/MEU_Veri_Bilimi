{
 "cells": [
  {
   "cell_type": "markdown",
   "metadata": {},
   "source": [
    "### Soru 1\n",
    "Bir uzunluk 10 kez ölçülmüştür. Birbirine yakın ve mm cinsinden kendiniz belirleyeceğiniz 10 adet uzunluk ölçüsünü bir NumPy dizisi haline getiriniz.\n",
    "\n",
    "Bu ölçü verilerini kullanarak karesel ortalama hatayı hesaplayınız. Verilen ölçülerin karesel ortalama hatasını bulmak için Ölçme Bilgisi dersi notlarınızı kullanınız. \n",
    "\n",
    "Kullanacağınız fonksiyonlar: `np.mean`, `np.sum`, `np.multiply`, `math.sqrt`"
   ]
  },
  {
   "cell_type": "markdown",
   "metadata": {},
   "source": [
    "### Soru 2\n",
    "\n",
    "Aşağıdaki kodlarla belirli bir aralık içinde rastgele üretilmiş kutupsal koordinatları kartezyen koordinat sistemine dönüştürünüz. Size verilen kodlarda değişiklik yapmayınız ve üzerinden devam ediniz. \n"
   ]
  },
  {
   "cell_type": "code",
   "execution_count": 1,
   "metadata": {},
   "outputs": [
    {
     "name": "stdout",
     "output_type": "stream",
     "text": [
      "Kutupsal yarıçap (r)\n",
      "[373.52583644 369.11986534 371.50425451 369.37001063 364.53727285\n",
      " 367.48047688 373.11910347 372.22125967 372.56942792 367.53783708]\n",
      "-----------------------------------------------------------------\n",
      "Kutupsal açı (theta)\n",
      "[0.77060713 0.78234702 0.78487003 0.78786943 0.7853936  0.7817052\n",
      " 0.78748371 0.78821281 0.77469755 0.77183831]\n"
     ]
    }
   ],
   "source": [
    "import numpy as np\n",
    "print('Kutupsal yarıçap (r)')\n",
    "r = np.random.uniform(low=362.0, high=375.0, size=(10,))\n",
    "print(r)\n",
    "print('-----------------------------------------------------------------')\n",
    "print('Kutupsal açı (theta)')\n",
    "theta =  np.random.uniform(low=0.77, high=0.79, size=(10,))\n",
    "print(theta)"
   ]
  },
  {
   "cell_type": "markdown",
   "metadata": {},
   "source": [
    "### Soru 3\n",
    "\n",
    "Aşağıdaki kodlarla belirli bir aralık içinde rastgele üretilmiş 40 adet öğrenciye ait başarı notlarının maksimum, minimum değerlerini, aritmetik ortalamasını, medyanını, standart sapmasını ve varyansını NumPy hazır fonksiyonları kullanarak hesaplayınız. Size verilen kodlarda değişiklik yapmayınız ve üzerinden devam ediniz. "
   ]
  },
  {
   "cell_type": "code",
   "execution_count": 2,
   "metadata": {},
   "outputs": [
    {
     "name": "stdout",
     "output_type": "stream",
     "text": [
      "Öğrenci notları\n",
      "[72 25  4  3  6 38 30 29 87 94 23 84 97 88 49 52 92 20 84 67 83 67  3 39\n",
      " 83  9  8 28 50  3  1 45 10 45 35 21  2 26 31 19]\n"
     ]
    }
   ],
   "source": [
    "import numpy as np\n",
    "print('Öğrenci notları')\n",
    "notlar = np.random.randint(low = 1, high=100, size=(40,))\n",
    "print(notlar)"
   ]
  },
  {
   "cell_type": "markdown",
   "metadata": {},
   "source": [
    "### Soru 4\n",
    "3x2 boyutlarında A matrisi ve 2x3 boyutlarında B matrisi üretelim. A matrisinin tüm elemanları rastgele seçilsin. B matrisi ise sadece 0'lardan oluşsun.\n",
    "\n",
    "a) A X B ?\n",
    "\n",
    "b) A'nın transpozu?\n",
    "\n",
    "c) A matrisinin elemanlarının standart sapması? "
   ]
  }
 ],
 "metadata": {
  "kernelspec": {
   "display_name": "Python 3",
   "language": "python",
   "name": "python3"
  },
  "language_info": {
   "codemirror_mode": {
    "name": "ipython",
    "version": 3
   },
   "file_extension": ".py",
   "mimetype": "text/x-python",
   "name": "python",
   "nbconvert_exporter": "python",
   "pygments_lexer": "ipython3",
   "version": "3.7.6"
  }
 },
 "nbformat": 4,
 "nbformat_minor": 4
}
