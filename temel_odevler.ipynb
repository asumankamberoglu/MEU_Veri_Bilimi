{
  "nbformat": 4,
  "nbformat_minor": 0,
  "metadata": {
    "kernelspec": {
      "language": "python",
      "display_name": "Python 3",
      "name": "python3"
    },
    "language_info": {
      "pygments_lexer": "ipython3",
      "nbconvert_exporter": "python",
      "version": "3.6.4",
      "file_extension": ".py",
      "codemirror_mode": {
        "name": "ipython",
        "version": 3
      },
      "name": "python",
      "mimetype": "text/x-python"
    },
    "colab": {
      "name": "temel_odevler",
      "provenance": [],
      "collapsed_sections": []
    }
  },
  "cells": [
    {
      "cell_type": "markdown",
      "metadata": {
        "id": "I3XvZCjyH6Tn"
      },
      "source": [
        "# ÖLÇME BİLGİSİNDE TEMEL ÖDEVLER\n",
        "\n",
        "## Gerekli Python Kütüphanelerin Yüklenmesi"
      ]
    },
    {
      "cell_type": "code",
      "metadata": {
        "_uuid": "d629ff2d2480ee46fbb7e2d37f6b5fab8052498a",
        "_cell_guid": "79c7e3d0-c299-4dcb-8224-4455121ee9b0",
        "trusted": true,
        "id": "WoMjw38CH6Tv"
      },
      "source": [
        "import math"
      ],
      "execution_count": 1,
      "outputs": []
    },
    {
      "cell_type": "markdown",
      "metadata": {
        "id": "KS_w80QtH6Ty"
      },
      "source": [
        "## 1. Temel Ödev\n",
        "![alt text](https://i.hizliresim.com/EW79MK.png)\n",
        "![alt text](https://i.hizliresim.com/nafU74.png)\n",
        "![alt text](https://i.hizliresim.com/SDBTdG.png)"
      ]
    },
    {
      "cell_type": "code",
      "metadata": {
        "trusted": true,
        "id": "eiB37WRWH6Tz",
        "colab": {
          "base_uri": "https://localhost:8080/"
        },
        "outputId": "a3668b06-d66d-44f8-843c-d39f66840472"
      },
      "source": [
        "yA = float(input(\"A noktasının bilinen Y koordinatını giriniz: \"))\n",
        "xA = float(input(\"A noktasının bilinen X koordinatını giriniz: \"))\n",
        "mAB = float(input(\"A noktasından B noktasına ölçülen semt açısını giriniz: \"))\n",
        "sAB = float(input(\"A noktasından B noktasına ölçülen yatay mesafeyi giriniz: \"))\n",
        "decimal = int(input(\"Çıktı hesapların arzu ettiğiniz ondalık hassasiyetini  giriniz: \"))\n",
        "\n",
        "def temel_odev1(yA, xA, mAB, sAB, decimal): # decimal argümanı, sonuçların virgülden sonra kaç hane olmasını istediğimizi belirler.\n",
        "  #1. temel ödev formüllerini uyguluyoruz. Kırılma açılarını radyan cinsine çevirmeyi unutmayalım. \n",
        "  yB=yA+(sAB*math.sin((mAB)/(200/math.pi)))\n",
        "  xB=xA+(sAB*math.cos((mAB)/(200/math.pi)))\n",
        "  yB = round(yB,decimal)\n",
        "  xB = round(xB,decimal)\n",
        "  # Hesaplanan B noktasının koordinatlarını ekrana verelim.\n",
        "  print(\"                              \")\n",
        "  print(\"1. TEMEL ÖDEV HESABI SONUÇLARI\")\n",
        "  print(\"------------------------------\")\n",
        "  print(\"B noktasının hesaplanan Y koordinatı: \" + str(yB) + \" metre\")\n",
        "  print(\"B noktasının hesaplanan X koordinatı: \" + str(xB)+ \" metre\")\n",
        "\n",
        "temel_odev1(yA, xA, mAB, sAB, decimal)  "
      ],
      "execution_count": 2,
      "outputs": [
        {
          "output_type": "stream",
          "name": "stdout",
          "text": [
            "A noktasının bilinen Y koordinatını giriniz: 1000\n",
            "A noktasının bilinen X koordinatını giriniz: 2000\n",
            "A noktasından B noktasına ölçülen semt açısını giriniz: 120.8563\n",
            "A noktasından B noktasına ölçülen yatay mesafeyi giriniz: 26.12\n",
            "Çıktı hesapların arzu ettiğiniz ondalık hassasiyetini  giriniz: 2\n",
            "                              \n",
            "1. TEMEL ÖDEV HESABI SONUÇLARI\n",
            "------------------------------\n",
            "B noktasının hesaplanan Y koordinatı: 1024.73 metre\n",
            "B noktasının hesaplanan X koordinatı: 1991.6 metre\n"
          ]
        }
      ]
    },
    {
      "cell_type": "markdown",
      "metadata": {
        "id": "OA1atRGLH6T1"
      },
      "source": [
        "## 2. Temel Ödev\n",
        "![alt text](https://i.hizliresim.com/5MlENW.png)\n",
        "\n",
        "![alt text](https://i.hizliresim.com/0aFX60.png)\n",
        "\n",
        "![alt text](https://i.hizliresim.com/A6G6jh.png) **(2.3)**\n",
        "\n",
        "![alt text](https://i.hizliresim.com/dPGc0T.png)\n",
        "![alt text](https://i.hizliresim.com/HaHAaj.png)\n",
        "\n",
        "Koordinatları bilinen iki noktanın arasındaki mesafeyi bulmak için de aşağıdaki formül kullanılır.\n",
        "\n",
        "![alt text](https://i.hizliresim.com/T7U9e0.png)"
      ]
    },
    {
      "cell_type": "code",
      "metadata": {
        "id": "S3j6hXeHIN5w"
      },
      "source": [
        "#Çözümünüzü buraya giriniz"
      ],
      "execution_count": 3,
      "outputs": []
    },
    {
      "cell_type": "markdown",
      "metadata": {
        "id": "WhvsKgQ2H6T5"
      },
      "source": [
        "## 3. Temel Ödev\n",
        "![alt text](https://i.hizliresim.com/78P5VA.png)\n",
        "![alt text](https://i.hizliresim.com/EJBmii.png)"
      ]
    },
    {
      "cell_type": "code",
      "metadata": {
        "trusted": true,
        "id": "SF8Wn6RqH6T6"
      },
      "source": [
        "# Çözümünüzü buraya giriniz."
      ],
      "execution_count": 4,
      "outputs": []
    },
    {
      "cell_type": "markdown",
      "metadata": {
        "id": "eywmJheSH6T7"
      },
      "source": [
        "## 4. Temel Ödev\n",
        "![alt text](https://i.hizliresim.com/PM31FM.png)"
      ]
    },
    {
      "cell_type": "code",
      "metadata": {
        "trusted": true,
        "id": "v3XDcccbH6T8"
      },
      "source": [
        "# Çözümünüzü buraya giriniz."
      ],
      "execution_count": 5,
      "outputs": []
    }
  ]
}