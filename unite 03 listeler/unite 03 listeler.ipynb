{
 "cells": [
  {
   "cell_type": "markdown",
   "metadata": {
    "colab_type": "text",
    "id": "UeSvtQelcLe3"
   },
   "source": [
    "# ÜNİTE 3 - LİSTELER"
   ]
  },
  {
   "cell_type": "markdown",
   "metadata": {
    "colab_type": "text",
    "id": "qEGkq6dAcLe8"
   },
   "source": [
    "# 1. Liste Oluşturma"
   ]
  },
  {
   "cell_type": "markdown",
   "metadata": {
    "colab_type": "text",
    "id": "ah6iTWcOcLfA"
   },
   "source": [
    "Listeler (`list`) de, tıpkı `boolean`, `string`, sayı gibi bir veri tipidir. \n",
    "\n",
    "Değerlerin bir araya geldiği topluluktur. Bir liste oluşturmak için köşeli parantez `[]` içine değerler yazılır. Örneğin;"
   ]
  },
  {
   "cell_type": "code",
   "execution_count": 1,
   "metadata": {
    "colab": {
     "base_uri": "https://localhost:8080/",
     "height": 34
    },
    "colab_type": "code",
    "id": "ZmKvC0jscLfD",
    "outputId": "1a5f0aaf-e731-4d4e-b115-bceb4c80f4b3"
   },
   "outputs": [
    {
     "name": "stdout",
     "output_type": "stream",
     "text": [
      "['benim', 'liste', 'çok', 'güzeldir']\n"
     ]
    }
   ],
   "source": [
    "a = \"çok\" \n",
    "b = \"güzeldir\"\n",
    "listem = [\"benim\", \"liste\", a, b]\n",
    "print(listem)"
   ]
  },
  {
   "cell_type": "markdown",
   "metadata": {
    "colab_type": "text",
    "id": "krJ8eoKncLfL"
   },
   "source": [
    "Bir başka örnek daha: \n",
    "\n",
    "Evinizin tüm odalarının alanını ölçmeye karar verdiniz ve bu alanlardan oluşan bir liste hazırlamak istiyorsunuz: "
   ]
  },
  {
   "cell_type": "code",
   "execution_count": 2,
   "metadata": {
    "colab": {
     "base_uri": "https://localhost:8080/",
     "height": 34
    },
    "colab_type": "code",
    "id": "2F-VBNBocLfN",
    "outputId": "e4da9602-42f0-4eef-c6b8-2376aad29c57"
   },
   "outputs": [
    {
     "name": "stdout",
     "output_type": "stream",
     "text": [
      "[11.25, 18.0, 20.0, 10.75, 9.5]\n"
     ]
    }
   ],
   "source": [
    "# alan değişkenleri (metrekare cinsinden)\n",
    "koridor = 11.25\n",
    "mutfak = 18.0\n",
    "salon = 20.0\n",
    "yatak_odasi = 10.75\n",
    "banyo = 9.50\n",
    "\n",
    "# Alanlardan oluşan listeyi yazalım. \n",
    "alan = [koridor, mutfak, salon, yatak_odasi, banyo]\n",
    "\n",
    "\n",
    "# Bu listeyi ekrana yazdıralım. \n",
    "print(alan)\n"
   ]
  },
  {
   "cell_type": "markdown",
   "metadata": {
    "colab_type": "text",
    "id": "FWVPjk_UcLfT"
   },
   "source": [
    "## 1.1 Değişik Veri Türleri ile Liste Oluşturma"
   ]
  },
  {
   "cell_type": "markdown",
   "metadata": {
    "colab_type": "text",
    "id": "8b_tsXkAcLfV"
   },
   "source": [
    "Bir liste, her türlü Python veri tipini içerebilir. Çok yaygın olmasa da, bir liste `string`, `float`, `boolean` gibi karışık elemanlardan oluşabilir. "
   ]
  },
  {
   "cell_type": "markdown",
   "metadata": {
    "colab_type": "text",
    "id": "BmVEWLkAcLfX"
   },
   "source": [
    "Bir önceki örnekte, hangi odanın alanının ne kadar olduğunu listede anlayamadık. Listemizin bizi daha mutlu etmesi için, hangi alan bilgisinin hangi odaya karşılık geldiğini eklemek istiyoruz. "
   ]
  },
  {
   "cell_type": "code",
   "execution_count": 3,
   "metadata": {
    "colab": {
     "base_uri": "https://localhost:8080/",
     "height": 34
    },
    "colab_type": "code",
    "id": "3db5XuHWcLfY",
    "outputId": "9043a712-4ef0-4d4f-878e-af9868b88f33"
   },
   "outputs": [
    {
     "name": "stdout",
     "output_type": "stream",
     "text": [
      "['koridor', 11.25, 'mutfak', 18.0, 'salon', 20.0, 'yatak odası', 10.75, 'banyo', 9.5]\n"
     ]
    }
   ],
   "source": [
    "# alan değişkenleri (metrekare cinsinden)\n",
    "koridor = 11.25\n",
    "mutfak = 18.0\n",
    "salon = 20.0\n",
    "yatak_odasi = 10.75\n",
    "banyo = 9.50\n",
    "\n",
    "# Alanlardan ve oda isimlerinden oluşan listeyi yazalım. \n",
    "alan = [\"koridor\", koridor, \"mutfak\", mutfak, \"salon\", salon, \"yatak odası\", yatak_odasi, \"banyo\", banyo]\n",
    "\n",
    "# Bu listeyi ekrana yazdıralım. \n",
    "print(alan)"
   ]
  },
  {
   "cell_type": "markdown",
   "metadata": {
    "colab_type": "text",
    "id": "iNYgJSBGcLfe"
   },
   "source": [
    "Bir liste, herhangi bir Python veri tipini içerebilir. Bir liste de, başlı başına bir Python veri tipidir. Yani, bir liste başka listeleri de içerebilir. Söz dizimini hatırlayalım: \n",
    "\n",
    "    listem = [eleman1, eleman2, eleman3, ...]"
   ]
  },
  {
   "cell_type": "markdown",
   "metadata": {
    "colab_type": "text",
    "id": "8yRqMVN4cLff"
   },
   "source": [
    "Aşağıdakilerden hangileri Python dilinde bir liste oluşturur?"
   ]
  },
  {
   "cell_type": "markdown",
   "metadata": {
    "colab_type": "text",
    "id": "2uXn84G-cLfh"
   },
   "source": [
    "A. `[1, 3, 4, 2]`\n",
    "\n",
    "B. `[[1, 2, 3], [4, 5, 7]]` \n",
    "\n",
    "C. `[1 + 2, \"a\" * 5, 3]`"
   ]
  },
  {
   "cell_type": "markdown",
   "metadata": {
    "colab_type": "text",
    "id": "NmNYZS8UcLfk"
   },
   "source": [
    "A seçeneğinin tüm elemanları sayıdır. Dolayısıyla bir listedir. \n",
    "\n",
    "B seçeneğinin elemanları, iki adet listeden meydana gelmektedir. Bu da bir listedir. \n",
    "\n",
    "C seçeneğinin elemanları, aritmetik operatörler içerse de, sonuç olarak iki sayıdan ve bir stringten meydana gelmektedir. Dolayısıyla bu da bir listedir. "
   ]
  },
  {
   "cell_type": "markdown",
   "metadata": {
    "colab_type": "text",
    "id": "au-UW79RcLfm"
   },
   "source": [
    "# 2. Listelerden Oluşan Listeler"
   ]
  },
  {
   "cell_type": "markdown",
   "metadata": {
    "colab_type": "text",
    "id": "9O8YpuEncLfo"
   },
   "source": [
    "Veri biliminde, çok fazla veriyle birlikte çalışılır. Dolayısıyla bazı verileri gruplamak veriyi iyileştirebilir. \n",
    "\n",
    "`string` ve `float` türündeki değerlerden oluşan düz listeler hazırlamak yerine, birbiriyle ilişkili listelerden oluşan bir liste oluşturmak daha mantıklıdır. Bir önceki örneği, bu anlayışa göre düzenlemek size bir fikir verecektir. "
   ]
  },
  {
   "cell_type": "code",
   "execution_count": 4,
   "metadata": {
    "colab": {
     "base_uri": "https://localhost:8080/",
     "height": 51
    },
    "colab_type": "code",
    "id": "mKwQNUV6cLfp",
    "outputId": "efd7fb9a-a537-441b-898f-4a846fa41a83"
   },
   "outputs": [
    {
     "name": "stdout",
     "output_type": "stream",
     "text": [
      "[['koridor', 11.25], ['mutfak', 18.0], ['salon', 20.0], ['yatak odası', 10.75], ['banyo', 9.5]]\n",
      "<class 'list'>\n"
     ]
    }
   ],
   "source": [
    "# alan değişkenleri (metrekare cinsinden)\n",
    "koridor = 11.25\n",
    "mutfak = 18.0\n",
    "salon = 20.0\n",
    "yatak_odasi = 10.75\n",
    "banyo = 9.50\n",
    "\n",
    "ev = [[\"koridor\", koridor],\n",
    "      [\"mutfak\", mutfak],\n",
    "      [\"salon\", salon],\n",
    "      [\"yatak odası\", yatak_odasi], \n",
    "      [\"banyo\", banyo]]\n",
    "\n",
    "# ev listesini ekrana yazdıralım\n",
    "print(ev)\n",
    "\n",
    "# ev listesi veri tipini ekrana yazdıralım. Gerçekten bir liste mi? \n",
    "print(type(ev))"
   ]
  },
  {
   "cell_type": "markdown",
   "metadata": {
    "colab_type": "text",
    "id": "6GU_KisFcLfv"
   },
   "source": [
    "\n",
    "\n",
    "\n",
    "\n",
    "# 3. Liste Alt Kümeleri ve Liste İndeksleri"
   ]
  },
  {
   "cell_type": "markdown",
   "metadata": {
    "colab_type": "text",
    "id": "6kadbp58cLfx"
   },
   "source": [
    "Listelerde bulunan elemanlar üzerinde işlem yapmak oldukça gereklidir. Büyük veri içeren listelerdeki bir ya da birkaç elemanı çıkarmak için yapılan işlemi bir örnekle gösterelim. "
   ]
  },
  {
   "cell_type": "code",
   "execution_count": 5,
   "metadata": {
    "colab": {
     "base_uri": "https://localhost:8080/",
     "height": 34
    },
    "colab_type": "code",
    "id": "GiXcEjEbcLfz",
    "outputId": "a9bc6cad-6613-48d0-b741-e824c214714e"
   },
   "outputs": [
    {
     "data": {
      "text/plain": [
       "'b'"
      ]
     },
     "execution_count": 5,
     "metadata": {},
     "output_type": "execute_result"
    }
   ],
   "source": [
    "x = [\"a\", \"b\", \"c\", \"d\"]\n",
    "x[1]"
   ]
  },
  {
   "cell_type": "code",
   "execution_count": 6,
   "metadata": {
    "colab": {
     "base_uri": "https://localhost:8080/",
     "height": 34
    },
    "colab_type": "code",
    "id": "grGXu8XGcLf7",
    "outputId": "5582481c-dcb4-4886-a67b-3f2d38271c6f"
   },
   "outputs": [
    {
     "data": {
      "text/plain": [
       "'b'"
      ]
     },
     "execution_count": 6,
     "metadata": {},
     "output_type": "execute_result"
    }
   ],
   "source": [
    "x[-3]"
   ]
  },
  {
   "cell_type": "markdown",
   "metadata": {
    "colab_type": "text",
    "id": "Sz90gPRdcLgC"
   },
   "source": [
    "Görüleceği üzere aynı sonucu verdi. Kısacası, bir listenin ilk elemanı listenin sıfırıncı elemanıdır (`x[0]`). İkinci eleman ise `x[1]` ile çağrılır. Listedeki elemanı soldan sağa bir sırayla çağırmak istediğimizde, eleman sırası sıfırdan başlamaktadır. "
   ]
  },
  {
   "cell_type": "markdown",
   "metadata": {
    "colab_type": "text",
    "id": "Rx-ertClcLgE"
   },
   "source": [
    "Eğer listenin sağından soluna doğru giden bir sıralamayı tercih edersek; listenin en sonunda bulunan en sağdaki eleman `x[-1]` ile çağrılır. Yani, sondaki ilk eleman konum olarak -1.ci elemandır. Örnekte verilen `'b'` elemanı, soldan sağa 1., sağdan sola -3. elemandır. Köşeli parantezlere yazılan rakamlar __indeks__ olarak anlandırılır. \n",
    "\n",
    "\n",
    "Bir başka örnek;\n",
    "dünyaca ünlü zincir süpermarketlerin isimlerini gösteren bir listemiz olsun."
   ]
  },
  {
   "cell_type": "code",
   "execution_count": 7,
   "metadata": {
    "colab": {},
    "colab_type": "code",
    "id": "Wcey3cFXcLgG"
   },
   "outputs": [],
   "source": [
    " superstore = [\"metro\", \"tesco\", \"walmart\", \"kmart\", \"carrefour\"]"
   ]
  },
  {
   "cell_type": "markdown",
   "metadata": {
    "colab_type": "text",
    "id": "r43Y8IxlcLgK"
   },
   "source": [
    "![](superstore.png)"
   ]
  },
  {
   "cell_type": "code",
   "execution_count": 8,
   "metadata": {
    "colab": {
     "base_uri": "https://localhost:8080/",
     "height": 34
    },
    "colab_type": "code",
    "id": "steOVQZpcLgM",
    "outputId": "6009f374-8ad5-4773-da7e-7e2280d2d11e"
   },
   "outputs": [
    {
     "data": {
      "text/plain": [
       "'metro'"
      ]
     },
     "execution_count": 8,
     "metadata": {},
     "output_type": "execute_result"
    }
   ],
   "source": [
    "superstore[0]"
   ]
  },
  {
   "cell_type": "code",
   "execution_count": 9,
   "metadata": {
    "colab": {
     "base_uri": "https://localhost:8080/",
     "height": 34
    },
    "colab_type": "code",
    "id": "cBHpdPoGcLgR",
    "outputId": "b1d8904b-efe1-49c0-9551-4d3670fc8002"
   },
   "outputs": [
    {
     "data": {
      "text/plain": [
       "'tesco'"
      ]
     },
     "execution_count": 9,
     "metadata": {},
     "output_type": "execute_result"
    }
   ],
   "source": [
    "superstore[1]"
   ]
  },
  {
   "cell_type": "code",
   "execution_count": 10,
   "metadata": {
    "colab": {
     "base_uri": "https://localhost:8080/",
     "height": 34
    },
    "colab_type": "code",
    "id": "7bCOiET_cLgW",
    "outputId": "1d1c68e5-2e89-4c2f-bb20-dacc7b005099"
   },
   "outputs": [
    {
     "data": {
      "text/plain": [
       "'walmart'"
      ]
     },
     "execution_count": 10,
     "metadata": {},
     "output_type": "execute_result"
    }
   ],
   "source": [
    "superstore[2]"
   ]
  },
  {
   "cell_type": "code",
   "execution_count": 11,
   "metadata": {
    "colab": {
     "base_uri": "https://localhost:8080/",
     "height": 34
    },
    "colab_type": "code",
    "id": "yH4iDEN0cLgb",
    "outputId": "d6cba906-aec0-4901-d6bb-2530ac0a4dc1"
   },
   "outputs": [
    {
     "data": {
      "text/plain": [
       "'kmart'"
      ]
     },
     "execution_count": 11,
     "metadata": {},
     "output_type": "execute_result"
    }
   ],
   "source": [
    "superstore[3]"
   ]
  },
  {
   "cell_type": "code",
   "execution_count": 12,
   "metadata": {
    "colab": {
     "base_uri": "https://localhost:8080/",
     "height": 34
    },
    "colab_type": "code",
    "id": "6y4qkN5OcLgf",
    "outputId": "5b8a833e-93c3-44d6-a71f-783c9e823b34"
   },
   "outputs": [
    {
     "data": {
      "text/plain": [
       "'carrefour'"
      ]
     },
     "execution_count": 12,
     "metadata": {},
     "output_type": "execute_result"
    }
   ],
   "source": [
    "superstore[4]"
   ]
  },
  {
   "cell_type": "code",
   "execution_count": 13,
   "metadata": {
    "colab": {
     "base_uri": "https://localhost:8080/",
     "height": 180
    },
    "colab_type": "code",
    "id": "RlfNnsjZcLgp",
    "outputId": "77b84c20-df8a-461d-d0b8-fd6831f2d78f"
   },
   "outputs": [
    {
     "ename": "IndexError",
     "evalue": "list index out of range",
     "output_type": "error",
     "traceback": [
      "\u001b[1;31m---------------------------------------------------------------------------\u001b[0m",
      "\u001b[1;31mIndexError\u001b[0m                                Traceback (most recent call last)",
      "\u001b[1;32m<ipython-input-13-f76d1d6edf7d>\u001b[0m in \u001b[0;36m<module>\u001b[1;34m\u001b[0m\n\u001b[1;32m----> 1\u001b[1;33m \u001b[0msuperstore\u001b[0m\u001b[1;33m[\u001b[0m\u001b[1;36m9\u001b[0m\u001b[1;33m]\u001b[0m \u001b[1;31m# Bu altküme filtremesi hata verecektir. Çünkü listemizde indeksi 9 olan eleman bulunmamaktadır.\u001b[0m\u001b[1;33m\u001b[0m\u001b[1;33m\u001b[0m\u001b[0m\n\u001b[0m\u001b[0;32m      2\u001b[0m \u001b[1;31m# `list index out of range` hatası görünecek\u001b[0m\u001b[1;33m\u001b[0m\u001b[1;33m\u001b[0m\u001b[1;33m\u001b[0m\u001b[0m\n",
      "\u001b[1;31mIndexError\u001b[0m: list index out of range"
     ]
    }
   ],
   "source": [
    "superstore[9] # Bu altküme filtremesi hata verecektir. Çünkü listemizde indeksi 9 olan eleman bulunmamaktadır.\n",
    "# `list index out of range` hatası görünecek"
   ]
  },
  {
   "cell_type": "markdown",
   "metadata": {
    "colab_type": "text",
    "id": "suS-eFJFcLgu"
   },
   "source": [
    "![](superstore_inverse.png)"
   ]
  },
  {
   "cell_type": "code",
   "execution_count": 14,
   "metadata": {
    "colab": {
     "base_uri": "https://localhost:8080/",
     "height": 34
    },
    "colab_type": "code",
    "id": "HsOJ2996cLgv",
    "outputId": "bf73eb0e-f360-40db-e3e1-0decac243017"
   },
   "outputs": [
    {
     "data": {
      "text/plain": [
       "'walmart'"
      ]
     },
     "execution_count": 14,
     "metadata": {},
     "output_type": "execute_result"
    }
   ],
   "source": [
    "superstore[-3]"
   ]
  },
  {
   "cell_type": "markdown",
   "metadata": {
    "colab_type": "text",
    "id": "-bPocdmAcLg2"
   },
   "source": [
    "Ev örneğimize geri dönelim:"
   ]
  },
  {
   "cell_type": "code",
   "execution_count": 15,
   "metadata": {
    "colab": {
     "base_uri": "https://localhost:8080/",
     "height": 68
    },
    "colab_type": "code",
    "id": "OceA7YQNcLg6",
    "outputId": "da660153-2640-4202-aa0d-82e2d11f5a43"
   },
   "outputs": [
    {
     "name": "stdout",
     "output_type": "stream",
     "text": [
      "11.25\n",
      "9.5\n",
      "10.75\n"
     ]
    }
   ],
   "source": [
    "ev = [\"koridor\", 11.25, \"mutfak\", 18.0, \"salon\", 20.0, \"yatak odası\", 10.75,\"banyo\", 9.50]\n",
    "\n",
    "# ev listesindeki ikinci elemanı ekrana yazdıralım.\n",
    "print(ev[1])\n",
    "\n",
    "# ev listesindeki son elemanı ekrana yazdıralım. \n",
    "print(ev[-1])\n",
    "\n",
    "# Yatak odasının alanını ekrana yazdıralım. \n",
    "print(ev[7])"
   ]
  },
  {
   "cell_type": "markdown",
   "metadata": {
    "colab_type": "text",
    "id": "sAH42u-5cLg-"
   },
   "source": [
    "Listelerden değerleri dışarı çıkardıktan sonra (altkümeleri seçtikten sonra), bunların üzerinde ek işlemler yapılabilir.Örneğin, \n",
    "\n",
    "    x = [\"a\", \"b\", \"c\", \"d\"]\n",
    "\n",
    "\n",
    "    print(x[1] + x[3])\n",
    "\n",
    "Ev listesini kullanarak, evdeki yemek ve uyumak için kullanılan odaların toplam alanını hesaplayalım:"
   ]
  },
  {
   "cell_type": "code",
   "execution_count": 16,
   "metadata": {
    "colab": {
     "base_uri": "https://localhost:8080/",
     "height": 34
    },
    "colab_type": "code",
    "id": "3nbr5A6bcLg_",
    "outputId": "26ba9149-81b2-4319-87f8-8d69f999ab66"
   },
   "outputs": [
    {
     "name": "stdout",
     "output_type": "stream",
     "text": [
      "28.75\n"
     ]
    }
   ],
   "source": [
    "ev = [\"koridor\", 11.25, \"mutfak\", 18.0, \"salon\", 20.0, \"yatak odası\", 10.75,\"banyo\", 9.50]\n",
    "\n",
    "yeme_uyuma_alani = ev[3] + ev[7]  # önce mutfağın, sonra yatak odasının alanları dışarı çıkarılır. \n",
    "# Bunlar toplanarak, yeme + uyuma alani hesaplanır\n",
    "\n",
    "# Ekrana verelim.\n",
    "print(yeme_uyuma_alani)\n",
    "\n"
   ]
  },
  {
   "cell_type": "markdown",
   "metadata": {
    "colab_type": "text",
    "id": "MrgVnXClcLhG"
   },
   "source": [
    "# 4. Liste Dilimleme"
   ]
  },
  {
   "cell_type": "markdown",
   "metadata": {
    "colab_type": "text",
    "id": "VTqbvTg8cLhI"
   },
   "source": [
    "\n",
    "Listelerden tek bir değeri çıkarmak, hikayenin sadece bir bölümüydü. Listelerin içinden dilimler halinde, bir başka deyişle, çoklu eleman çıkarmak olanaklıdır. Bunun için aşağıdaki söz dizimi kullanılır: \n",
    "\n",
    "    listem[baslangic:bitis]\n",
    "\n",
    "__!!! Başlangıç elemanı dilimlemeye dahildir, ancak bitiş olarak girilen eleman dahil edilmez.__\n",
    "\n",
    "Aşağıdaki örnek kodu bir örnek olarak verelim. Amacımız, `\"b\"` ve  `\"c\"` elemanlarından oluşan listeyi çıkarmak olsun. Bu elemanlar sırasıyla, mevcut listenin 1. ve 2. sıradaki (indeksteki) elemanlarıdır. \n",
    "\n",
    "\n",
    "Yazım olarak `1:3` tercih edilmek zorundadır. Çıkarılan listede, 1. ve 2. indeksin elemanları bulunacaktır. Ancak 3. indeksin elemanı dahil edilmeyecektir. \n"
   ]
  },
  {
   "cell_type": "code",
   "execution_count": 19,
   "metadata": {
    "colab": {
     "base_uri": "https://localhost:8080/",
     "height": 34
    },
    "colab_type": "code",
    "id": "SMPPyHq-cLhJ",
    "outputId": "00183a5f-b67e-4614-8ce3-31e2743088c1"
   },
   "outputs": [
    {
     "name": "stdout",
     "output_type": "stream",
     "text": [
      "['b', 'c']\n",
      "<class 'list'>\n"
     ]
    }
   ],
   "source": [
    "x = [\"a\", \"b\", \"c\", \"d\"]\n",
    "y= x[1:3]\n"
   ]
  },
  {
   "cell_type": "markdown",
   "metadata": {
    "colab_type": "text",
    "id": "ksYQfssEcLhO"
   },
   "source": [
    "Yine ev listesi örneğini kullanarak bir alıştırma yapalım. Listenin ilk 6 elemanı, alt katta bulunsun. Geri kalan elemanlar ise evin üst katında bulunsun.\n",
    "Alt kat ve üst kat için ayrı ayrı listeler oluşturup, ekrana verelim. "
   ]
  },
  {
   "cell_type": "code",
   "execution_count": 20,
   "metadata": {
    "colab": {
     "base_uri": "https://localhost:8080/",
     "height": 51
    },
    "colab_type": "code",
    "id": "XO2f64W1cLhQ",
    "outputId": "c0f58a03-5687-449b-f0c7-19e0ac825225"
   },
   "outputs": [
    {
     "name": "stdout",
     "output_type": "stream",
     "text": [
      "['koridor', 11.25, 'mutfak', 18.0, 'salon', 20.0]\n",
      "['yatak odası', 10.75, 'banyo', 9.5]\n"
     ]
    }
   ],
   "source": [
    "ev = [\"koridor\", 11.25, \"mutfak\", 18.0, \"salon\", 20.0, \"yatak odası\", 10.75,\"banyo\", 9.50]\n",
    "\n",
    "alt_kat = ev[:6]\n",
    "ust_kat = ev[-4:]\n",
    "\n",
    "print(alt_kat)\n",
    "print(ust_kat)"
   ]
  },
  {
   "cell_type": "markdown",
   "metadata": {
    "colab_type": "text",
    "id": "sfR3dFnxcLhV"
   },
   "source": [
    "Başka örnekle pekiştirelim;"
   ]
  },
  {
   "cell_type": "code",
   "execution_count": 21,
   "metadata": {
    "colab": {},
    "colab_type": "code",
    "id": "H1Cqw6z4cLhZ"
   },
   "outputs": [],
   "source": [
    "x = [\"a\", \"b\", \"c\", \"d\"]\n"
   ]
  },
  {
   "cell_type": "code",
   "execution_count": 22,
   "metadata": {
    "colab": {
     "base_uri": "https://localhost:8080/",
     "height": 34
    },
    "colab_type": "code",
    "id": "mTecvlyHcLhd",
    "outputId": "689ca306-6afd-4042-8d49-9ddd13dcbcd2"
   },
   "outputs": [
    {
     "data": {
      "text/plain": [
       "['a', 'b']"
      ]
     },
     "execution_count": 22,
     "metadata": {},
     "output_type": "execute_result"
    }
   ],
   "source": [
    "x[:2]"
   ]
  },
  {
   "cell_type": "code",
   "execution_count": 23,
   "metadata": {
    "colab": {
     "base_uri": "https://localhost:8080/",
     "height": 34
    },
    "colab_type": "code",
    "id": "FWpvEoURcLhi",
    "outputId": "ba9dd2dd-3da8-4806-a5cf-d9f0785da89d"
   },
   "outputs": [
    {
     "data": {
      "text/plain": [
       "['c', 'd']"
      ]
     },
     "execution_count": 23,
     "metadata": {},
     "output_type": "execute_result"
    }
   ],
   "source": [
    "x[2:]"
   ]
  },
  {
   "cell_type": "code",
   "execution_count": 24,
   "metadata": {
    "colab": {
     "base_uri": "https://localhost:8080/",
     "height": 34
    },
    "colab_type": "code",
    "id": "ev_rnFAWcLhp",
    "outputId": "3c15edfc-92e9-4ac2-ec94-67f802e41bcd"
   },
   "outputs": [
    {
     "data": {
      "text/plain": [
       "['a', 'b', 'c', 'd']"
      ]
     },
     "execution_count": 24,
     "metadata": {},
     "output_type": "execute_result"
    }
   ],
   "source": [
    "x[:]"
   ]
  },
  {
   "cell_type": "markdown",
   "metadata": {
    "colab_type": "text",
    "id": "IWALk2mjcLhu"
   },
   "source": [
    "# 5. Listelerdeki Alt Kümeleri Dilimleme"
   ]
  },
  {
   "cell_type": "markdown",
   "metadata": {
    "colab_type": "text",
    "id": "9JFydiORcLhw"
   },
   "source": [
    "Python'da, liste elemanlarının liste de olabileceğini görmüştük. Bu liste şeklindeki altkümeleri oluşturabilmek için yine köşeli parantezler kullanacağız. Örneğin;"
   ]
  },
  {
   "cell_type": "code",
   "execution_count": 25,
   "metadata": {
    "colab": {},
    "colab_type": "code",
    "id": "9D7JtTzWcLhx"
   },
   "outputs": [],
   "source": [
    "x = [[\"a\", \"b\", \"c\"],\n",
    "    [\"d\", \"e\", \"f\"],\n",
    "    [\"g\", \"h\", \"i\"]]"
   ]
  },
  {
   "cell_type": "code",
   "execution_count": 35,
   "metadata": {
    "colab": {
     "base_uri": "https://localhost:8080/",
     "height": 34
    },
    "colab_type": "code",
    "id": "X4OlTPNpcLiI",
    "outputId": "1da5077b-2928-4b3d-82e8-a372f62a025a"
   },
   "outputs": [
    {
     "data": {
      "text/plain": [
       "['g', 'h', 'i']"
      ]
     },
     "execution_count": 35,
     "metadata": {},
     "output_type": "execute_result"
    }
   ],
   "source": [
    "x[2]  # 3. elemana denk gelen liste"
   ]
  },
  {
   "cell_type": "code",
   "execution_count": 31,
   "metadata": {
    "colab": {
     "base_uri": "https://localhost:8080/",
     "height": 34
    },
    "colab_type": "code",
    "id": "ioushyBIcLh8",
    "outputId": "54b00834-d928-457b-fd54-3bb8fafe8f01"
   },
   "outputs": [
    {
     "data": {
      "text/plain": [
       "'g'"
      ]
     },
     "execution_count": 31,
     "metadata": {},
     "output_type": "execute_result"
    }
   ],
   "source": [
    "x[2][0] # 3. elemana denk gelen listedeki 1. alt eleman değeri\n"
   ]
  },
  {
   "cell_type": "code",
   "execution_count": 34,
   "metadata": {
    "colab": {
     "base_uri": "https://localhost:8080/",
     "height": 34
    },
    "colab_type": "code",
    "id": "uatPnOHDcLiD",
    "outputId": "17d2a021-0abe-41a0-edef-836642b9cbdb"
   },
   "outputs": [
    {
     "data": {
      "text/plain": [
       "['g', 'h']"
      ]
     },
     "execution_count": 34,
     "metadata": {},
     "output_type": "execute_result"
    }
   ],
   "source": [
    "x[2][:2] # 3. elemana denk gelen listedeki, 1. ve 2. alt elemandan oluşan dilimlenmiş altküme"
   ]
  },
  {
   "cell_type": "markdown",
   "metadata": {
    "colab_type": "text",
    "id": "HpD5EC78cLiP"
   },
   "source": [
    "Ev örneğine döndüğümüzde;"
   ]
  },
  {
   "cell_type": "code",
   "execution_count": 36,
   "metadata": {
    "colab": {},
    "colab_type": "code",
    "id": "l8PO2nVycLiQ"
   },
   "outputs": [],
   "source": [
    "ev = [[\"koridor\", koridor],\n",
    "        [\"mutfak\", mutfak],\n",
    "        [\"salon\", salon],\n",
    "        [\"yatak odası\", yatak_odasi],\n",
    "        [\"banyo\", banyo]]"
   ]
  },
  {
   "cell_type": "code",
   "execution_count": 37,
   "metadata": {
    "colab": {
     "base_uri": "https://localhost:8080/",
     "height": 34
    },
    "colab_type": "code",
    "id": "HEWPoQurcLiT",
    "outputId": "471cb52e-952b-4f11-bcad-333ea672f566"
   },
   "outputs": [
    {
     "data": {
      "text/plain": [
       "9.5"
      ]
     },
     "execution_count": 37,
     "metadata": {},
     "output_type": "execute_result"
    }
   ],
   "source": [
    "ev[-1][1] #Sonuncu eleman olan listenin ikinci alt elemanı (banyonun alanı)"
   ]
  },
  {
   "cell_type": "markdown",
   "metadata": {
    "colab_type": "text",
    "id": "wVJ1YEF9cLiX"
   },
   "source": [
    "# 6. Listedeki Elemanları Değiştirme"
   ]
  },
  {
   "cell_type": "markdown",
   "metadata": {
    "colab_type": "text",
    "id": "dHi2H67gcLiZ"
   },
   "source": [
    "Elinizdeki listenin elemanlarını değiştirmek (yeniden tanımlamak), Python'da oldukça basittir. Özetle, değiştirmek istediğiniz elemanı dilimleyerek altküme halinde çıkarıyorsunuz ve bu altkümeye yeni değer atıyorsunuz. Örneğin;"
   ]
  },
  {
   "cell_type": "code",
   "execution_count": 38,
   "metadata": {
    "colab": {
     "base_uri": "https://localhost:8080/",
     "height": 34
    },
    "colab_type": "code",
    "id": "VaGXGNftcLia",
    "outputId": "0a019efd-9919-4b97-e8c3-feda4e7d84f7"
   },
   "outputs": [
    {
     "name": "stdout",
     "output_type": "stream",
     "text": [
      "['a', 'r', 'c', 'd']\n"
     ]
    }
   ],
   "source": [
    "x = [\"a\", \"b\", \"c\", \"d\"]  # Elimizdeki bu listenin ikinci elemanını değiştirmek istiyoruz. \n",
    "\n",
    "x[1] = \"r\" # İkinci elemana denk gelen 1.indeksi dilimleyip çıkarıyoruz ve yeni değerini belirliyoruz.\n",
    "\n",
    "print(x)"
   ]
  },
  {
   "cell_type": "code",
   "execution_count": 39,
   "metadata": {
    "colab": {
     "base_uri": "https://localhost:8080/",
     "height": 34
    },
    "colab_type": "code",
    "id": "w1OnMwbhcLig",
    "outputId": "32faefb6-ba1e-4cbf-b7b4-b113b106e1d2"
   },
   "outputs": [
    {
     "name": "stdout",
     "output_type": "stream",
     "text": [
      "['a', 'r', 's', 't']\n"
     ]
    }
   ],
   "source": [
    "# Aynı değiştirme işlemini birden fazla elemana uygulamak olanaklıdır.\n",
    "\n",
    "x[2:] = [\"s\", \"t\"]  # Burada x listesinin 3. ve son elemanını (2.indeksten itibaren), yeni değerleri ile değiştirelim.\n",
    "\n",
    "print(x)"
   ]
  },
  {
   "cell_type": "markdown",
   "metadata": {
    "colab_type": "text",
    "id": "kj8ZNKHKcLik"
   },
   "source": [
    "Benzer bir örneği, ev listesi için de yapalım."
   ]
  },
  {
   "cell_type": "code",
   "execution_count": 43,
   "metadata": {
    "colab": {},
    "colab_type": "code",
    "id": "WNgW2Kp7cLil"
   },
   "outputs": [],
   "source": [
    "ev1 = [\"koridor\", 11.25, \"mutfak\", 18.0, \"salon\", 20.0, \"yatak odası\", 10.75,\"banyo\", 9.50]"
   ]
  },
  {
   "cell_type": "markdown",
   "metadata": {
    "colab_type": "text",
    "id": "bTlRVi5acLiw"
   },
   "source": [
    "Banyonun alanını 10.50 metrekare olarak değiştirelim:"
   ]
  },
  {
   "cell_type": "code",
   "execution_count": 44,
   "metadata": {
    "colab": {},
    "colab_type": "code",
    "id": "fFYdWoBfcLi0"
   },
   "outputs": [],
   "source": [
    "ev1[-1] = 10.50"
   ]
  },
  {
   "cell_type": "markdown",
   "metadata": {
    "colab_type": "text",
    "id": "DUg541UNcLi_"
   },
   "source": [
    "Salonun ismini de \"oturma odası\" olarak değiştirelim."
   ]
  },
  {
   "cell_type": "code",
   "execution_count": 45,
   "metadata": {
    "colab": {},
    "colab_type": "code",
    "id": "BxYvDowucLjB"
   },
   "outputs": [],
   "source": [
    "ev1[4] = \"oturma odası\""
   ]
  },
  {
   "cell_type": "code",
   "execution_count": 46,
   "metadata": {
    "colab": {
     "base_uri": "https://localhost:8080/",
     "height": 34
    },
    "colab_type": "code",
    "id": "KRixxkzMcLjF",
    "outputId": "690c2f82-b31d-4a51-b357-bf88bbf5092b"
   },
   "outputs": [
    {
     "name": "stdout",
     "output_type": "stream",
     "text": [
      "['koridor', 11.25, 'mutfak', 18.0, 'oturma odası', 20.0, 'yatak odası', 10.75, 'banyo', 10.5]\n"
     ]
    }
   ],
   "source": [
    "print(ev1)"
   ]
  },
  {
   "cell_type": "markdown",
   "metadata": {
    "colab_type": "text",
    "id": "eYgOOgvacLjL"
   },
   "source": [
    "Eğer listenizdeki elemanları değiştirirken listenin orijinalini korumayı arzuluyorsanız, listenizin bir kopyasını oluşturup, o kopya üzerinde değişiklikler yapabilirsiniz. Örneğin;"
   ]
  },
  {
   "cell_type": "code",
   "execution_count": 47,
   "metadata": {
    "colab": {
     "base_uri": "https://localhost:8080/",
     "height": 51
    },
    "colab_type": "code",
    "id": "5gwSePvscLjM",
    "outputId": "46b97756-977c-4c71-ca7c-86b543fc4dc2"
   },
   "outputs": [
    {
     "name": "stdout",
     "output_type": "stream",
     "text": [
      "[5.0, 18.0, 20.0, 10.75, 9.5]\n",
      "[11.25, 18.0, 20.0, 10.75, 9.5]\n"
     ]
    }
   ],
   "source": [
    "# alan listesini oluşturalım\n",
    "alan = [11.25, 18.0, 20.0, 10.75, 9.50]\n",
    "\n",
    "# alan_kopya listesini türetelim. \n",
    "alan_kopya = alan[:]\n",
    "\n",
    "# alan_kopya listesindeki ilk elemanı değiştirelim.\n",
    "alan_kopya[0] = 5.0\n",
    "\n",
    "# alan_kopya listesini ve alan listesini ekrana yazdıralım. \n",
    "print(alan_kopya)\n",
    "print(alan)"
   ]
  },
  {
   "cell_type": "markdown",
   "metadata": {
    "colab_type": "text",
    "id": "UfCXpqcxcLjU"
   },
   "source": [
    "# 7. Listeleri Genişletme"
   ]
  },
  {
   "cell_type": "markdown",
   "metadata": {
    "colab_type": "text",
    "id": "HZe6C4r6cLjV"
   },
   "source": [
    "Python'da oluşturduğumuz listelere yeni elemanlar ekleyerek, onları genişletmemiz oldukça basittir. Bunun için sadece toplama (`+`) operatörü kullanılır. Ev listesine, havuz ve garaj ekleyelim."
   ]
  },
  {
   "cell_type": "code",
   "execution_count": 49,
   "metadata": {
    "colab": {
     "base_uri": "https://localhost:8080/",
     "height": 34
    },
    "colab_type": "code",
    "id": "0BOJkRaTcLjW",
    "outputId": "e968d921-0dcc-4738-ef47-374b517042fd"
   },
   "outputs": [
    {
     "name": "stdout",
     "output_type": "stream",
     "text": [
      "['koridor', 11.25, 'mutfak', 18.0, 'salon', 20.0, 'yatak odası', 10.75, 'banyo', 9.5, 'havuz', 24.5]\n"
     ]
    }
   ],
   "source": [
    "ev2 = [\"koridor\", 11.25, \"mutfak\", 18.0, \"salon\", 20.0, \"yatak odası\", 10.75,\"banyo\", 9.50]\n",
    "\n",
    "ev_yeni1 = ev2 + [\"havuz\", 24.5]\n",
    "\n",
    "print(ev_yeni1)"
   ]
  },
  {
   "cell_type": "code",
   "execution_count": 50,
   "metadata": {
    "colab": {
     "base_uri": "https://localhost:8080/",
     "height": 34
    },
    "colab_type": "code",
    "id": "6r5MYMjvcLjb",
    "outputId": "37088e9e-aa40-4f18-d90e-05ac520d6fd5"
   },
   "outputs": [
    {
     "name": "stdout",
     "output_type": "stream",
     "text": [
      "['koridor', 11.25, 'mutfak', 18.0, 'salon', 20.0, 'yatak odası', 10.75, 'banyo', 9.5, 'havuz', 24.5, 'garaj', 15.45]\n"
     ]
    }
   ],
   "source": [
    "ev_yeni2 = ev_yeni1 + [\"garaj\", 15.45]\n",
    "\n",
    "print(ev_yeni2)"
   ]
  },
  {
   "cell_type": "markdown",
   "metadata": {
    "colab_type": "text",
    "id": "JVUmZvu3cLji"
   },
   "source": [
    "# 8. Listelerden Eleman Silme"
   ]
  },
  {
   "cell_type": "markdown",
   "metadata": {
    "colab_type": "text",
    "id": "L5Nh2OcmcLjk"
   },
   "source": [
    "Son olarak, listelerinizden eleman silmeniz de olanaklıdır. del ifadesini kullanmanız bunun için yeterlidir. Örneğin;\n",
    "\n",
    "\n"
   ]
  },
  {
   "cell_type": "code",
   "execution_count": 51,
   "metadata": {
    "colab": {
     "base_uri": "https://localhost:8080/",
     "height": 34
    },
    "colab_type": "code",
    "id": "I9kn-HD8cLjl",
    "outputId": "12c46958-6a1e-4b9a-8165-2b610493e0b1"
   },
   "outputs": [
    {
     "name": "stdout",
     "output_type": "stream",
     "text": [
      "['a', 'c', 'd']\n"
     ]
    }
   ],
   "source": [
    "m = [\"a\", \"b\", \"c\", \"d\"]\n",
    "\n",
    "del(m[1]) # Listenizdeki 2. elemanı (1.indeks elemanı) silmek istiyorsunuz\n",
    "\n",
    "print(m)\n",
    "\n"
   ]
  },
  {
   "cell_type": "markdown",
   "metadata": {
    "colab_type": "text",
    "id": "BL-d71LdcLjo"
   },
   "source": [
    "__Dikkat! Listenizden eleman sildikçe, sildiğiniz elemandan sonra gelen tüm elemanların indeksleri değişir.__"
   ]
  },
  {
   "cell_type": "markdown",
   "metadata": {
    "colab_type": "text",
    "id": "zUR15-XucLjq"
   },
   "source": [
    "Son hazırladığımız ev listesi örneğine geri dönelim. Bir hata oluştu ve piyangodan kazandığınız paranın aslında daha az olduğunu öğrendiniz. Dolayısıyla, yüzme havuzu hayaliniz gerçek olmayacak. Listemizden yüzme havuzunu stringini ve alanı gösteren floatı silmemiz gerekiyor."
   ]
  },
  {
   "cell_type": "code",
   "execution_count": 53,
   "metadata": {
    "colab": {
     "base_uri": "https://localhost:8080/",
     "height": 34
    },
    "colab_type": "code",
    "id": "p8DPOaHccLjr",
    "outputId": "1e53a113-a522-462f-d9cf-0a78378b111c"
   },
   "outputs": [
    {
     "name": "stdout",
     "output_type": "stream",
     "text": [
      "['koridor', 11.25, 'mutfak', 18.0, 'salon', 20.0, 'yatak odası', 10.75, 'banyo', 9.5, 'garaj', 15.45]\n"
     ]
    }
   ],
   "source": [
    "ev_yeni2 = ['koridor', 11.25, 'mutfak', 18.0, 'salon', 20.0, 'yatak odası', 10.75, 'banyo', 9.5, 'havuz', 24.5, 'garaj', 15.45]\n",
    "\n",
    "del(ev_yeni2[-4:-2])\n",
    "\n",
    "print(ev_yeni2)\n"
   ]
  }
 ],
 "metadata": {
  "colab": {
   "collapsed_sections": [],
   "name": "unite 03 listeler.ipynb",
   "provenance": []
  },
  "kernelspec": {
   "display_name": "Python 3",
   "language": "python",
   "name": "python3"
  },
  "language_info": {
   "codemirror_mode": {
    "name": "ipython",
    "version": 3
   },
   "file_extension": ".py",
   "mimetype": "text/x-python",
   "name": "python",
   "nbconvert_exporter": "python",
   "pygments_lexer": "ipython3",
   "version": "3.7.6"
  }
 },
 "nbformat": 4,
 "nbformat_minor": 1
}
